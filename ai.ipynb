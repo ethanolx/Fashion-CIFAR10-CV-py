{
 "cells": [
  {
   "cell_type": "markdown",
   "metadata": {},
   "source": [
    "# DELE"
   ]
  },
  {
   "cell_type": "code",
   "execution_count": null,
   "metadata": {},
   "outputs": [],
   "source": [
    "import tensorflow as tf\n",
    "import numpy as np\n",
    "import pandas as pd\n",
    "from keras import models, utils, layers"
   ]
  },
  {
   "cell_type": "markdown",
   "metadata": {},
   "source": [
    "## Part A > CNN"
   ]
  },
  {
   "cell_type": "markdown",
   "metadata": {},
   "source": [
    "### Data Preparation"
   ]
  },
  {
   "cell_type": "code",
   "execution_count": null,
   "metadata": {},
   "outputs": [],
   "source": [
    "\n",
    "(X_train, y_train), (X_test, y_test) = tf.keras.datasets.fashion_mnist.load_data()\n",
    "\n",
    "X_train = X_train.astype(\"float32\") / 255\n",
    "X_test = X_test.astype(\"float32\") / 255\n",
    "\n",
    "X_train = np.expand_dims(X_train, -1)\n",
    "X_test = np.expand_dims(X_test, -1)\n",
    "\n",
    "y_train = tf.keras.utils.to_categorical(y_train, 10)\n",
    "y_test = tf.keras.utils.to_categorical(y_test, 10)"
   ]
  },
  {
   "cell_type": "code",
   "execution_count": null,
   "metadata": {},
   "outputs": [],
   "source": [
    "model = models.Sequential([\n",
    "    layers.Input(shape=(28, 28, 1)),\n",
    "    layers.Conv2D(32, kernel_size=(3, 3), activation=\"relu\"),\n",
    "    layers.MaxPooling2D(pool_size=(2, 2)),\n",
    "    layers.Conv2D(64, kernel_size=(3, 3), activation=\"relu\"),\n",
    "    layers.MaxPooling2D(pool_size=(2, 2)),\n",
    "    layers.Flatten(),\n",
    "    layers.Dropout(0.5),\n",
    "    layers.Dense(10, activation=\"softmax\"),\n",
    "])\n",
    "model.compile(optimizer='adam', loss='categorical_crossentropy', metrics=['accuracy'])\n",
    "model.fit(X_train, y_train, epochs=10, batch_size=128, validation_split=0.1)\n"
   ]
  },
  {
   "cell_type": "code",
   "execution_count": null,
   "metadata": {},
   "outputs": [],
   "source": [
    "def confusion_matrix(X_test, y_test, model):\n",
    "    y_pred = model.predict(X_test).argmax(axis=1)\n",
    "    y_true = y_test.argmax(axis=1)\n",
    "    df = pd.DataFrame(\n",
    "        data=np.zeros(shape=(10, 10)).astype(int),\n",
    "        index=pd.Index(data=np.arange(10), name='Prediction'),\n",
    "        columns=pd.Index(data=np.arange(10), name='Actual')\n",
    "    )\n",
    "    correct = 0\n",
    "    wrong = 0\n",
    "    for i in range(len(y_true)):\n",
    "        df[y_pred[i]][y_true[i]] += 1\n",
    "        if y_pred[i] == y_true[i]:\n",
    "            correct += 1\n",
    "        else:\n",
    "            wrong += 1\n",
    "    \n",
    "    return df, correct / (correct + wrong) * 100.0\n",
    "\n",
    "# print(confusion_matrix(X_test, y_test, model))"
   ]
  },
  {
   "cell_type": "code",
   "execution_count": null,
   "metadata": {},
   "outputs": [],
   "source": [
    "model.evaluate(X_test, y_test)"
   ]
  },
  {
   "cell_type": "markdown",
   "metadata": {},
   "source": [
    "## Part B > RNN"
   ]
  },
  {
   "cell_type": "code",
   "execution_count": null,
   "metadata": {},
   "outputs": [],
   "source": [
    "(X_train_2, y_train_2), (X_test_2, y_test_2) = tf.keras.datasets.cifar10.load_data()"
   ]
  },
  {
   "cell_type": "code",
   "execution_count": null,
   "metadata": {},
   "outputs": [],
   "source": [
    "X_train_2.astype(float)\n",
    "X_test_2.astype(float)\n",
    "\n",
    "y_train_2 = tf.keras.utils.to_categorical(y_train_2, 10)\n",
    "y_test_2 = tf.keras.utils.to_categorical(y_test_2, 10)\n",
    "\n",
    "model2 = models.Sequential([\n",
    "    layers.Rescaling(1 / 255),\n",
    "    layers.Input(shape=(32, 32, 3)),\n",
    "    layers.Conv2D(32, kernel_size=(3, 3), activation=\"relu\"),\n",
    "    layers.MaxPooling2D(pool_size=(2, 2)),\n",
    "    layers.Conv2D(64, kernel_size=(3, 3), activation=\"relu\"),\n",
    "    layers.MaxPooling2D(pool_size=(2, 2)),\n",
    "    layers.Flatten(),\n",
    "    layers.Dropout(0.5),\n",
    "    layers.Dense(10, activation=\"softmax\"),\n",
    "])\n",
    "model2.compile(optimizer='adam', loss='categorical_crossentropy', metrics=['accuracy'])\n",
    "model2.fit(X_train_2, y_train_2, epochs=3, batch_size=10, validation_split=0.1)\n"
   ]
  },
  {
   "cell_type": "code",
   "execution_count": null,
   "metadata": {},
   "outputs": [],
   "source": [
    "print(confusion_matrix(X_test_2, y_test_2, model2)[0])"
   ]
  },
  {
   "cell_type": "code",
   "execution_count": null,
   "metadata": {},
   "outputs": [],
   "source": [
    "from tensorflow.keras.wrappers.scikit_learn import KerasClassifier\n",
    "from typing import List, Tuple\n",
    "from sklearn.model_selection import RandomizedSearchCV\n",
    "\n",
    "def create_model(hidden_layers: List[List[int]], optimiser: str, activation: str, input_shape: Tuple[int]):\n",
    "    model = models.Sequential()\n",
    "    model.add(layers.Input(shape=input_shape))\n",
    "    for hidden_layer in hidden_layers:\n",
    "        model.add(layers.Dense(hidden_layer, activation=activation))\n",
    "        model.add(layers.Conv2D(32, kernel_size=3))\n",
    "    model.add(layers.Flatten())\n",
    "    model.add(layers.Dense(10, activation='softmax'))\n",
    "    model.compile(optimizer=optimiser, loss='categorical_crossentropy', metrics=['accuracy'])\n",
    "    return model\n",
    "\n",
    "clf1 = KerasClassifier(build_fn=create_model, verbose=0)\n",
    "\n",
    "params = {\n",
    "    'optimiser': ['adam', 'rmsprop'],\n",
    "    'hidden_layers': [\n",
    "        [32, 64],\n",
    "        [32, 64, 128],\n",
    "    ],\n",
    "    'epochs': [1],\n",
    "    'batch_size': [100],\n",
    "    'activation': ['relu'],\n",
    "    'input_shape': [(28, 28, 1)]\n",
    "}\n",
    "\n",
    "gs = RandomizedSearchCV(estimator=clf1, param_distributions=params, n_iter=1)\n",
    "gs_result = gs.fit(X_train, y_train)"
   ]
  },
  {
   "cell_type": "code",
   "execution_count": null,
   "metadata": {},
   "outputs": [],
   "source": [
    "pd.DataFrame(gs_result.cv_results_)"
   ]
  },
  {
   "cell_type": "code",
   "execution_count": null,
   "metadata": {},
   "outputs": [],
   "source": [
    "# import pickle\n",
    "\n",
    "# with open('./models/model1.p', 'rb') as f:\n",
    "#     print(pickle.load(f))"
   ]
  }
 ],
 "metadata": {
  "interpreter": {
   "hash": "a154e1d5516d3ac496b2fe34503a47627485703bfecc1d951dada34e24d1d7fa"
  },
  "kernelspec": {
   "display_name": "Python 3.9.7 64-bit",
   "name": "python3"
  },
  "language_info": {
   "codemirror_mode": {
    "name": "ipython",
    "version": 3
   },
   "file_extension": ".py",
   "mimetype": "text/x-python",
   "name": "python",
   "nbconvert_exporter": "python",
   "pygments_lexer": "ipython3",
   "version": "3.9.7"
  },
  "orig_nbformat": 4
 },
 "nbformat": 4,
 "nbformat_minor": 2
}

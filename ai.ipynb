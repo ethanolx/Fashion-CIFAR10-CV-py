{
 "cells": [
  {
   "cell_type": "markdown",
   "metadata": {},
   "source": [
    "# DELE CA1"
   ]
  },
  {
   "cell_type": "markdown",
   "metadata": {},
   "source": [
    "## Import General Dependencies"
   ]
  },
  {
   "cell_type": "code",
   "execution_count": 1,
   "metadata": {},
   "outputs": [],
   "source": [
    "# Data Manipulation Dependencies\n",
    "import numpy as np\n",
    "import pandas as pd\n",
    "\n",
    "# Graphing Dependencies\n",
    "import matplotlib.pyplot as plt\n",
    "import seaborn as sb\n",
    "\n",
    "# General Machine Learning Dependencies\n",
    "from sklearn.model_selection import GridSearchCV, RandomizedSearchCV\n",
    "\n",
    "# Deep Learning Dependencies\n",
    "import tensorflow as tf\n",
    "import tensorflow.keras.models as models\n",
    "import tensorflow.keras.layers as layers"
   ]
  },
  {
   "cell_type": "markdown",
   "metadata": {},
   "source": [
    "## General Utility Functions"
   ]
  },
  {
   "cell_type": "code",
   "execution_count": 2,
   "metadata": {},
   "outputs": [],
   "source": [
    "def confusion_matrix(X_test, y_test, model):\n",
    "    y_pred = model.predict(X_test).argmax(axis=1)\n",
    "    y_true = y_test.argmax(axis=1)\n",
    "    df = pd.DataFrame(\n",
    "        data=np.zeros(shape=(10, 10)).astype(int),\n",
    "        index=pd.Index(data=np.arange(10), name='Prediction'),\n",
    "        columns=pd.Index(data=np.arange(10), name='Actual')\n",
    "    )\n",
    "    correct = 0\n",
    "    wrong = 0\n",
    "    for i in range(len(y_true)):\n",
    "        df[y_pred[i]][y_true[i]] += 1\n",
    "        if y_pred[i] == y_true[i]:\n",
    "            correct += 1\n",
    "        else:\n",
    "            wrong += 1\n",
    "    \n",
    "    return df, correct / (correct + wrong) * 100.0\n",
    "\n",
    "# print(confusion_matrix(X_test, y_test, model))"
   ]
  },
  {
   "cell_type": "markdown",
   "metadata": {},
   "source": [
    "## Part A > Fashion MNIST"
   ]
  },
  {
   "cell_type": "markdown",
   "metadata": {},
   "source": [
    "### Data Preparation"
   ]
  },
  {
   "cell_type": "code",
   "execution_count": 3,
   "metadata": {},
   "outputs": [],
   "source": [
    "(X_train, y_train), (X_test, y_test) = tf.keras.datasets.fashion_mnist.load_data()"
   ]
  },
  {
   "cell_type": "code",
   "execution_count": 4,
   "metadata": {},
   "outputs": [],
   "source": [
    "label_dict = [\n",
    "    'T-shirt/top',\n",
    "    'Trouser',\n",
    "    'Pullover',\n",
    "    'Dress',\n",
    "    'Coat',\n",
    "    'Sandal',\n",
    "    'Shirt',\n",
    "    'Sneaker',\n",
    "    'Bag',\n",
    "    'Ankle boot'\n",
    "]"
   ]
  },
  {
   "cell_type": "markdown",
   "metadata": {},
   "source": [
    "### Exploratory Data Analysis"
   ]
  },
  {
   "cell_type": "code",
   "execution_count": 5,
   "metadata": {},
   "outputs": [
    {
     "data": {
      "image/png": "[encoded data removed]",
      "text/plain": [
       "<Figure size 576x576 with 9 Axes>"
      ]
     },
     "metadata": {
      "needs_background": "light"
     },
     "output_type": "display_data"
    }
   ],
   "source": [
    "def plot_a(X_train, y_train, labels):\n",
    "    fig, ax = plt.subplots(3, 3, figsize=(8, 8))\n",
    "    for i in range(9):\n",
    "        current_ax = ax[i // 3, i % 3]\n",
    "        current_ax.imshow(X_train[i], cmap='gray')\n",
    "        current_ax.set_title(labels[y_train[i].argmax()])\n",
    "    plt.subplots_adjust(hspace=0.3)\n",
    "\n",
    "plot_a(X_train, y_train, label_dict)"
   ]
  },
  {
   "cell_type": "markdown",
   "metadata": {},
   "source": [
    "### Image Augmentation"
   ]
  },
  {
   "cell_type": "markdown",
   "metadata": {},
   "source": [
    "### Data Pre-Processing"
   ]
  },
  {
   "cell_type": "code",
   "execution_count": 6,
   "metadata": {},
   "outputs": [
    {
     "data": {
      "text/plain": [
       "((60000, 28, 28, 1), (10000, 28, 28, 1), (60000, 10), (10000, 10))"
      ]
     },
     "execution_count": 6,
     "metadata": {},
     "output_type": "execute_result"
    }
   ],
   "source": [
    "X_train = X_train.astype(\"float32\") / 255.0\n",
    "X_test = X_test.astype(\"float32\") / 255.0\n",
    "\n",
    "X_train = np.expand_dims(X_train, axis=3)\n",
    "X_test = np.expand_dims(X_test, axis=3)\n",
    "\n",
    "y_train = tf.keras.utils.to_categorical(y_train, 10)\n",
    "y_test = tf.keras.utils.to_categorical(y_test, 10)\n",
    "\n",
    "X_train.shape, X_test.shape, y_train.shape, y_test.shape"
   ]
  },
  {
   "cell_type": "markdown",
   "metadata": {},
   "source": [
    "### Hyper-Parameter Tuning"
   ]
  },
  {
   "cell_type": "code",
   "execution_count": 7,
   "metadata": {},
   "outputs": [
    {
     "name": "stdout",
     "output_type": "stream",
     "text": [
      "Epoch 1/3\n",
      "48/48 [==============================] - 1s 9ms/step - loss: 1.1644 - accuracy: 0.6481 - val_loss: 0.8248 - val_accuracy: 0.7367\n",
      "Epoch 2/3\n",
      "48/48 [==============================] - 0s 6ms/step - loss: 0.7399 - accuracy: 0.7563 - val_loss: 0.6616 - val_accuracy: 0.7769\n",
      "Epoch 3/3\n",
      "48/48 [==============================] - 0s 8ms/step - loss: 0.6290 - accuracy: 0.7903 - val_loss: 0.5968 - val_accuracy: 0.7977\n"
     ]
    }
   ],
   "source": [
    "# Simple Dense Neural Network\n",
    "def simple_dnn(X_train, y_train):\n",
    "    dnn = models.Sequential(layers=[\n",
    "        layers.InputLayer(input_shape=(28, 28, 1)),\n",
    "        layers.Flatten(),\n",
    "        layers.Dense(units=10, activation='softmax')\n",
    "    ])\n",
    "    dnn.compile(loss='categorical_crossentropy', metrics=['accuracy'])\n",
    "    dnn.fit(x=X_train, y=y_train, epochs=3, batch_size=1000, validation_split=0.2)\n",
    "\n",
    "simple_dnn(X_train, y_train)"
   ]
  },
  {
   "cell_type": "code",
   "execution_count": 8,
   "metadata": {},
   "outputs": [
    {
     "name": "stdout",
     "output_type": "stream",
     "text": [
      "Epoch 1/3\n",
      "48/48 [==============================] - 3s 52ms/step - loss: 1.0843 - accuracy: 0.6291 - val_loss: 0.7433 - val_accuracy: 0.7393\n",
      "Epoch 2/3\n",
      "48/48 [==============================] - 2s 47ms/step - loss: 0.6602 - accuracy: 0.7742 - val_loss: 0.5556 - val_accuracy: 0.8118\n",
      "Epoch 3/3\n",
      "48/48 [==============================] - 2s 48ms/step - loss: 0.5615 - accuracy: 0.8012 - val_loss: 0.5480 - val_accuracy: 0.8088\n"
     ]
    }
   ],
   "source": [
    "# Simple Convolutional Neural Network\n",
    "def simple_cnn(X_train, y_train):\n",
    "    cnn = models.Sequential(layers=[\n",
    "        layers.InputLayer(input_shape=(28, 28, 1)),\n",
    "        layers.Conv2D(filters=3, kernel_size=3),\n",
    "        layers.Flatten(),\n",
    "        layers.Dense(units=30, activation='relu'),\n",
    "        layers.Dense(units=10, activation='softmax')\n",
    "    ])\n",
    "    cnn.compile(loss='categorical_crossentropy', metrics=['accuracy'])\n",
    "    cnn.fit(x=X_train, y=y_train, epochs=3, batch_size=1000, validation_split=0.2)\n",
    "\n",
    "simple_cnn(X_train, y_train)"
   ]
  },
  {
   "cell_type": "code",
   "execution_count": 9,
   "metadata": {},
   "outputs": [
    {
     "name": "stdout",
     "output_type": "stream",
     "text": [
      "Epoch 1/3\n",
      "48/48 [==============================] - 5s 102ms/step - loss: 0.8903 - accuracy: 0.6779 - val_loss: 1.7335 - val_accuracy: 0.7694\n",
      "Epoch 2/3\n",
      "48/48 [==============================] - 5s 97ms/step - loss: 0.5103 - accuracy: 0.8117 - val_loss: 1.5443 - val_accuracy: 0.8073\n",
      "Epoch 3/3\n",
      "48/48 [==============================] - 5s 96ms/step - loss: 0.4307 - accuracy: 0.8424 - val_loss: 1.3414 - val_accuracy: 0.8440\n"
     ]
    }
   ],
   "source": [
    "# Logical Convolutional Neural Network\n",
    "def logical_cnn(X_train, y_train):\n",
    "    cnn = models.Sequential(layers=[\n",
    "        layers.InputLayer(input_shape=(28, 28, 1)),\n",
    "        layers.Conv2D(filters=8, kernel_size=3, activation='relu'),\n",
    "        layers.MaxPool2D(pool_size=2, strides=2),\n",
    "        layers.Conv2D(filters=10, kernel_size=3, activation='relu'),\n",
    "        layers.BatchNormalization(),\n",
    "        layers.Flatten(),\n",
    "        layers.Dense(units=32, activation='relu'),\n",
    "        layers.Dense(units=16, activation='relu'),\n",
    "        layers.Dense(units=10, activation='softmax')\n",
    "    ])\n",
    "    cnn.compile(loss='categorical_crossentropy', metrics=['accuracy'])\n",
    "    cnn.fit(x=X_train, y=y_train, epochs=3, batch_size=1000, validation_split=0.2)\n",
    "\n",
    "logical_cnn(X_train, y_train)"
   ]
  },
  {
   "cell_type": "code",
   "execution_count": 10,
   "metadata": {},
   "outputs": [
    {
     "name": "stdout",
     "output_type": "stream",
     "text": [
      "Epoch 1/10\n",
      "960/960 [==============================] - 16s 17ms/step - loss: 0.7419 - accuracy: 0.7433 - val_loss: 0.3896 - val_accuracy: 0.8621\n",
      "Epoch 2/10\n",
      "960/960 [==============================] - 12s 13ms/step - loss: 0.4795 - accuracy: 0.8321 - val_loss: 0.3560 - val_accuracy: 0.8687\n",
      "Epoch 3/10\n",
      "960/960 [==============================] - 12s 12ms/step - loss: 0.4118 - accuracy: 0.8565 - val_loss: 0.3193 - val_accuracy: 0.8868\n",
      "Epoch 4/10\n",
      "960/960 [==============================] - 11s 11ms/step - loss: 0.3759 - accuracy: 0.8688 - val_loss: 0.2978 - val_accuracy: 0.8899\n",
      "Epoch 5/10\n",
      "960/960 [==============================] - 10s 10ms/step - loss: 0.3565 - accuracy: 0.8759 - val_loss: 0.3053 - val_accuracy: 0.8895\n",
      "Epoch 6/10\n",
      "960/960 [==============================] - 11s 11ms/step - loss: 0.3364 - accuracy: 0.8801 - val_loss: 0.3008 - val_accuracy: 0.8947\n",
      "Epoch 7/10\n",
      "960/960 [==============================] - 13s 14ms/step - loss: 0.3167 - accuracy: 0.8859 - val_loss: 0.2876 - val_accuracy: 0.8978\n",
      "Epoch 8/10\n",
      "960/960 [==============================] - 12s 12ms/step - loss: 0.3046 - accuracy: 0.8917 - val_loss: 0.3494 - val_accuracy: 0.8819\n",
      "Epoch 9/10\n",
      "960/960 [==============================] - 12s 13ms/step - loss: 0.2950 - accuracy: 0.8947 - val_loss: 0.2977 - val_accuracy: 0.8940\n",
      "Epoch 10/10\n",
      "960/960 [==============================] - 17s 17ms/step - loss: 0.2866 - accuracy: 0.8976 - val_loss: 0.2842 - val_accuracy: 0.9029\n"
     ]
    },
    {
     "data": {
      "image/png": "[encoded data removed]",
      "text/plain": [
       "<Figure size 432x288 with 1 Axes>"
      ]
     },
     "metadata": {
      "needs_background": "light"
     },
     "output_type": "display_data"
    }
   ],
   "source": [
    "# Tuning Convolutional Neural Network\n",
    "def logical_cnn_history(X_train, y_train):\n",
    "    cnn = models.Sequential(layers=[\n",
    "        layers.InputLayer(input_shape=(28, 28, 1)),\n",
    "        layers.Conv2D(filters=8, kernel_size=3, activation='relu'),\n",
    "        layers.MaxPool2D(pool_size=2, strides=2),\n",
    "        layers.Conv2D(filters=10, kernel_size=3, activation='relu'),\n",
    "        layers.BatchNormalization(),\n",
    "        layers.Flatten(),\n",
    "        layers.Dense(units=32, activation='relu'),\n",
    "        layers.Dropout(0.2),\n",
    "        layers.Dense(units=16, activation='relu'),\n",
    "        layers.Dropout(0.2),\n",
    "        layers.Dense(units=10, activation='softmax')\n",
    "    ])\n",
    "    cnn.compile(optimizer='adam', loss='categorical_crossentropy', metrics=['accuracy'])\n",
    "    # cnn.summary()\n",
    "    history = cnn.fit(x=X_train, y=y_train, epochs=10, batch_size=50, validation_split=0.2, verbose=1)\n",
    "    hist_dict = history.history\n",
    "    x = range(len(hist_dict['loss']))\n",
    "    sb.lineplot(x=x, y=hist_dict['accuracy'])\n",
    "    sb.lineplot(x=x, y=hist_dict['val_accuracy'])\n",
    "\n",
    "logical_cnn_history(X_train, y_train)"
   ]
  },
  {
   "cell_type": "code",
   "execution_count": 11,
   "metadata": {},
   "outputs": [
    {
     "name": "stdout",
     "output_type": "stream",
     "text": [
      "Epoch 1/10\n",
      "960/960 [==============================] - 35s 34ms/step - loss: 0.6728 - accuracy: 0.7691 - val_loss: 0.4869 - val_accuracy: 0.8190\n",
      "Epoch 2/10\n",
      "960/960 [==============================] - 32s 34ms/step - loss: 0.4203 - accuracy: 0.8525 - val_loss: 0.3436 - val_accuracy: 0.8760\n",
      "Epoch 3/10\n",
      "960/960 [==============================] - 35s 36ms/step - loss: 0.3690 - accuracy: 0.8709 - val_loss: 0.3363 - val_accuracy: 0.8772\n",
      "Epoch 4/10\n",
      "960/960 [==============================] - 32s 34ms/step - loss: 0.3405 - accuracy: 0.8808 - val_loss: 0.3585 - val_accuracy: 0.8663\n",
      "Epoch 5/10\n",
      "960/960 [==============================] - 19s 20ms/step - loss: 0.3215 - accuracy: 0.8862 - val_loss: 0.3344 - val_accuracy: 0.8735\n"
     ]
    },
    {
     "data": {
      "image/png": "[encoded data removed]",
      "text/plain": [
       "<Figure size 432x288 with 1 Axes>"
      ]
     },
     "metadata": {
      "needs_background": "light"
     },
     "output_type": "display_data"
    }
   ],
   "source": [
    "# Tuning Convolutional Neural Network\n",
    "from tensorflow.keras.optimizers import Adam\n",
    "\n",
    "\n",
    "def improved_cnn(X_train, y_train, lr=0.001, b1=0.9):\n",
    "    cnn = models.Sequential(layers=[\n",
    "        layers.InputLayer(input_shape=(28, 28, 1)),\n",
    "        layers.Conv2D(filters=20, kernel_size=3, activation='relu'),\n",
    "        layers.Dropout(0.5),\n",
    "        layers.MaxPool2D(pool_size=2, strides=2),\n",
    "        layers.Conv2D(filters=10, kernel_size=3, activation='relu'),\n",
    "        layers.BatchNormalization(),\n",
    "        layers.Flatten(),\n",
    "        layers.Dense(units=128, activation='relu'),\n",
    "        layers.BatchNormalization(),\n",
    "        layers.Dropout(0.2),\n",
    "        layers.Dense(units=64, activation='relu'),\n",
    "        layers.BatchNormalization(),\n",
    "        layers.Dropout(0.2),\n",
    "        layers.Dense(units=32, activation='relu'),\n",
    "        layers.BatchNormalization(),\n",
    "        layers.Dropout(0.2),\n",
    "        layers.Dense(units=10, activation='softmax')\n",
    "    ])\n",
    "    cnn.compile(optimizer=Adam(learning_rate=lr, beta_1=b1),\n",
    "                loss='categorical_crossentropy', metrics=['accuracy'])\n",
    "    # cnn.summary()\n",
    "    early_stop = tf.keras.callbacks.EarlyStopping(monitor='val_loss', min_delta=0.01, patience=3)\n",
    "    history = cnn.fit(x=X_train, y=y_train, epochs=10, batch_size=50,\n",
    "                      validation_split=0.2, verbose=1, callbacks=[early_stop])\n",
    "    hist_dict = history.history\n",
    "    x = range(len(hist_dict['loss']))\n",
    "    sb.lineplot(x=x, y=hist_dict['accuracy'])\n",
    "    sb.lineplot(x=x, y=hist_dict['val_accuracy'])\n",
    "\n",
    "\n",
    "improved_cnn(X_train, y_train)\n"
   ]
  },
  {
   "cell_type": "code",
   "execution_count": 12,
   "metadata": {},
   "outputs": [
    {
     "name": "stdout",
     "output_type": "stream",
     "text": [
      "Epoch 1/10\n",
      "960/960 [==============================] - 20s 20ms/step - loss: 0.7052 - accuracy: 0.7468 - val_loss: 0.8321 - val_accuracy: 0.6948\n",
      "Epoch 2/10\n",
      "131/960 [===>..........................] - ETA: 15s - loss: 0.4996 - accuracy: 0.8226"
     ]
    },
    {
     "ename": "KeyboardInterrupt",
     "evalue": "",
     "output_type": "error",
     "traceback": [
      "\u001b[1;31m---------------------------------------------------------------------------\u001b[0m",
      "\u001b[1;31mKeyboardInterrupt\u001b[0m                         Traceback (most recent call last)",
      "\u001b[1;32m~\\AppData\\Local\\Temp/ipykernel_9060/2600770223.py\u001b[0m in \u001b[0;36m<module>\u001b[1;34m\u001b[0m\n\u001b[0;32m     35\u001b[0m \u001b[1;33m\u001b[0m\u001b[0m\n\u001b[0;32m     36\u001b[0m \u001b[1;33m\u001b[0m\u001b[0m\n\u001b[1;32m---> 37\u001b[1;33m \u001b[0mimproved_cnn_2\u001b[0m\u001b[1;33m(\u001b[0m\u001b[0mX_train\u001b[0m\u001b[1;33m,\u001b[0m \u001b[0my_train\u001b[0m\u001b[1;33m,\u001b[0m \u001b[0mlr\u001b[0m\u001b[1;33m=\u001b[0m\u001b[1;36m0.05\u001b[0m\u001b[1;33m)\u001b[0m\u001b[1;33m\u001b[0m\u001b[1;33m\u001b[0m\u001b[0m\n\u001b[0m",
      "\u001b[1;32m~\\AppData\\Local\\Temp/ipykernel_9060/2600770223.py\u001b[0m in \u001b[0;36mimproved_cnn_2\u001b[1;34m(X_train, y_train, lr, m)\u001b[0m\n\u001b[0;32m     27\u001b[0m     \u001b[1;31m# cnn.summary()\u001b[0m\u001b[1;33m\u001b[0m\u001b[1;33m\u001b[0m\u001b[0m\n\u001b[0;32m     28\u001b[0m     \u001b[0mearly_stop\u001b[0m \u001b[1;33m=\u001b[0m \u001b[0mtf\u001b[0m\u001b[1;33m.\u001b[0m\u001b[0mkeras\u001b[0m\u001b[1;33m.\u001b[0m\u001b[0mcallbacks\u001b[0m\u001b[1;33m.\u001b[0m\u001b[0mEarlyStopping\u001b[0m\u001b[1;33m(\u001b[0m\u001b[0mmonitor\u001b[0m\u001b[1;33m=\u001b[0m\u001b[1;34m'val_loss'\u001b[0m\u001b[1;33m,\u001b[0m \u001b[0mmin_delta\u001b[0m\u001b[1;33m=\u001b[0m\u001b[1;36m0.01\u001b[0m\u001b[1;33m,\u001b[0m \u001b[0mpatience\u001b[0m\u001b[1;33m=\u001b[0m\u001b[1;36m3\u001b[0m\u001b[1;33m)\u001b[0m\u001b[1;33m\u001b[0m\u001b[1;33m\u001b[0m\u001b[0m\n\u001b[1;32m---> 29\u001b[1;33m     history = cnn.fit(x=X_train, y=y_train, epochs=10, batch_size=50,\n\u001b[0m\u001b[0;32m     30\u001b[0m                       validation_split=0.2, verbose=1, callbacks=[early_stop])\n\u001b[0;32m     31\u001b[0m     \u001b[0mhist_dict\u001b[0m \u001b[1;33m=\u001b[0m \u001b[0mhistory\u001b[0m\u001b[1;33m.\u001b[0m\u001b[0mhistory\u001b[0m\u001b[1;33m\u001b[0m\u001b[1;33m\u001b[0m\u001b[0m\n",
      "\u001b[1;32mc:\\Users\\ethanol\\Documents\\SP\\Current\\Deep Learning (DELE)\\CA1\\.venv\\lib\\site-packages\\keras\\engine\\training.py\u001b[0m in \u001b[0;36mfit\u001b[1;34m(self, x, y, batch_size, epochs, verbose, callbacks, validation_split, validation_data, shuffle, class_weight, sample_weight, initial_epoch, steps_per_epoch, validation_steps, validation_batch_size, validation_freq, max_queue_size, workers, use_multiprocessing)\u001b[0m\n\u001b[0;32m   1182\u001b[0m                 _r=1):\n\u001b[0;32m   1183\u001b[0m               \u001b[0mcallbacks\u001b[0m\u001b[1;33m.\u001b[0m\u001b[0mon_train_batch_begin\u001b[0m\u001b[1;33m(\u001b[0m\u001b[0mstep\u001b[0m\u001b[1;33m)\u001b[0m\u001b[1;33m\u001b[0m\u001b[1;33m\u001b[0m\u001b[0m\n\u001b[1;32m-> 1184\u001b[1;33m               \u001b[0mtmp_logs\u001b[0m \u001b[1;33m=\u001b[0m \u001b[0mself\u001b[0m\u001b[1;33m.\u001b[0m\u001b[0mtrain_function\u001b[0m\u001b[1;33m(\u001b[0m\u001b[0miterator\u001b[0m\u001b[1;33m)\u001b[0m\u001b[1;33m\u001b[0m\u001b[1;33m\u001b[0m\u001b[0m\n\u001b[0m\u001b[0;32m   1185\u001b[0m               \u001b[1;32mif\u001b[0m \u001b[0mdata_handler\u001b[0m\u001b[1;33m.\u001b[0m\u001b[0mshould_sync\u001b[0m\u001b[1;33m:\u001b[0m\u001b[1;33m\u001b[0m\u001b[1;33m\u001b[0m\u001b[0m\n\u001b[0;32m   1186\u001b[0m                 \u001b[0mcontext\u001b[0m\u001b[1;33m.\u001b[0m\u001b[0masync_wait\u001b[0m\u001b[1;33m(\u001b[0m\u001b[1;33m)\u001b[0m\u001b[1;33m\u001b[0m\u001b[1;33m\u001b[0m\u001b[0m\n",
      "\u001b[1;32mc:\\Users\\ethanol\\Documents\\SP\\Current\\Deep Learning (DELE)\\CA1\\.venv\\lib\\site-packages\\tensorflow\\python\\eager\\def_function.py\u001b[0m in \u001b[0;36m__call__\u001b[1;34m(self, *args, **kwds)\u001b[0m\n\u001b[0;32m    883\u001b[0m \u001b[1;33m\u001b[0m\u001b[0m\n\u001b[0;32m    884\u001b[0m       \u001b[1;32mwith\u001b[0m \u001b[0mOptionalXlaContext\u001b[0m\u001b[1;33m(\u001b[0m\u001b[0mself\u001b[0m\u001b[1;33m.\u001b[0m\u001b[0m_jit_compile\u001b[0m\u001b[1;33m)\u001b[0m\u001b[1;33m:\u001b[0m\u001b[1;33m\u001b[0m\u001b[1;33m\u001b[0m\u001b[0m\n\u001b[1;32m--> 885\u001b[1;33m         \u001b[0mresult\u001b[0m \u001b[1;33m=\u001b[0m \u001b[0mself\u001b[0m\u001b[1;33m.\u001b[0m\u001b[0m_call\u001b[0m\u001b[1;33m(\u001b[0m\u001b[1;33m*\u001b[0m\u001b[0margs\u001b[0m\u001b[1;33m,\u001b[0m \u001b[1;33m**\u001b[0m\u001b[0mkwds\u001b[0m\u001b[1;33m)\u001b[0m\u001b[1;33m\u001b[0m\u001b[1;33m\u001b[0m\u001b[0m\n\u001b[0m\u001b[0;32m    886\u001b[0m \u001b[1;33m\u001b[0m\u001b[0m\n\u001b[0;32m    887\u001b[0m       \u001b[0mnew_tracing_count\u001b[0m \u001b[1;33m=\u001b[0m \u001b[0mself\u001b[0m\u001b[1;33m.\u001b[0m\u001b[0mexperimental_get_tracing_count\u001b[0m\u001b[1;33m(\u001b[0m\u001b[1;33m)\u001b[0m\u001b[1;33m\u001b[0m\u001b[1;33m\u001b[0m\u001b[0m\n",
      "\u001b[1;32mc:\\Users\\ethanol\\Documents\\SP\\Current\\Deep Learning (DELE)\\CA1\\.venv\\lib\\site-packages\\tensorflow\\python\\eager\\def_function.py\u001b[0m in \u001b[0;36m_call\u001b[1;34m(self, *args, **kwds)\u001b[0m\n\u001b[0;32m    915\u001b[0m       \u001b[1;31m# In this case we have created variables on the first call, so we run the\u001b[0m\u001b[1;33m\u001b[0m\u001b[1;33m\u001b[0m\u001b[0m\n\u001b[0;32m    916\u001b[0m       \u001b[1;31m# defunned version which is guaranteed to never create variables.\u001b[0m\u001b[1;33m\u001b[0m\u001b[1;33m\u001b[0m\u001b[0m\n\u001b[1;32m--> 917\u001b[1;33m       \u001b[1;32mreturn\u001b[0m \u001b[0mself\u001b[0m\u001b[1;33m.\u001b[0m\u001b[0m_stateless_fn\u001b[0m\u001b[1;33m(\u001b[0m\u001b[1;33m*\u001b[0m\u001b[0margs\u001b[0m\u001b[1;33m,\u001b[0m \u001b[1;33m**\u001b[0m\u001b[0mkwds\u001b[0m\u001b[1;33m)\u001b[0m  \u001b[1;31m# pylint: disable=not-callable\u001b[0m\u001b[1;33m\u001b[0m\u001b[1;33m\u001b[0m\u001b[0m\n\u001b[0m\u001b[0;32m    918\u001b[0m     \u001b[1;32melif\u001b[0m \u001b[0mself\u001b[0m\u001b[1;33m.\u001b[0m\u001b[0m_stateful_fn\u001b[0m \u001b[1;32mis\u001b[0m \u001b[1;32mnot\u001b[0m \u001b[1;32mNone\u001b[0m\u001b[1;33m:\u001b[0m\u001b[1;33m\u001b[0m\u001b[1;33m\u001b[0m\u001b[0m\n\u001b[0;32m    919\u001b[0m       \u001b[1;31m# Release the lock early so that multiple threads can perform the call\u001b[0m\u001b[1;33m\u001b[0m\u001b[1;33m\u001b[0m\u001b[0m\n",
      "\u001b[1;32mc:\\Users\\ethanol\\Documents\\SP\\Current\\Deep Learning (DELE)\\CA1\\.venv\\lib\\site-packages\\tensorflow\\python\\eager\\function.py\u001b[0m in \u001b[0;36m__call__\u001b[1;34m(self, *args, **kwargs)\u001b[0m\n\u001b[0;32m   3037\u001b[0m       (graph_function,\n\u001b[0;32m   3038\u001b[0m        filtered_flat_args) = self._maybe_define_function(args, kwargs)\n\u001b[1;32m-> 3039\u001b[1;33m     return graph_function._call_flat(\n\u001b[0m\u001b[0;32m   3040\u001b[0m         filtered_flat_args, captured_inputs=graph_function.captured_inputs)  # pylint: disable=protected-access\n\u001b[0;32m   3041\u001b[0m \u001b[1;33m\u001b[0m\u001b[0m\n",
      "\u001b[1;32mc:\\Users\\ethanol\\Documents\\SP\\Current\\Deep Learning (DELE)\\CA1\\.venv\\lib\\site-packages\\tensorflow\\python\\eager\\function.py\u001b[0m in \u001b[0;36m_call_flat\u001b[1;34m(self, args, captured_inputs, cancellation_manager)\u001b[0m\n\u001b[0;32m   1961\u001b[0m         and executing_eagerly):\n\u001b[0;32m   1962\u001b[0m       \u001b[1;31m# No tape is watching; skip to running the function.\u001b[0m\u001b[1;33m\u001b[0m\u001b[1;33m\u001b[0m\u001b[0m\n\u001b[1;32m-> 1963\u001b[1;33m       return self._build_call_outputs(self._inference_function.call(\n\u001b[0m\u001b[0;32m   1964\u001b[0m           ctx, args, cancellation_manager=cancellation_manager))\n\u001b[0;32m   1965\u001b[0m     forward_backward = self._select_forward_and_backward_functions(\n",
      "\u001b[1;32mc:\\Users\\ethanol\\Documents\\SP\\Current\\Deep Learning (DELE)\\CA1\\.venv\\lib\\site-packages\\tensorflow\\python\\eager\\function.py\u001b[0m in \u001b[0;36mcall\u001b[1;34m(self, ctx, args, cancellation_manager)\u001b[0m\n\u001b[0;32m    589\u001b[0m       \u001b[1;32mwith\u001b[0m \u001b[0m_InterpolateFunctionError\u001b[0m\u001b[1;33m(\u001b[0m\u001b[0mself\u001b[0m\u001b[1;33m)\u001b[0m\u001b[1;33m:\u001b[0m\u001b[1;33m\u001b[0m\u001b[1;33m\u001b[0m\u001b[0m\n\u001b[0;32m    590\u001b[0m         \u001b[1;32mif\u001b[0m \u001b[0mcancellation_manager\u001b[0m \u001b[1;32mis\u001b[0m \u001b[1;32mNone\u001b[0m\u001b[1;33m:\u001b[0m\u001b[1;33m\u001b[0m\u001b[1;33m\u001b[0m\u001b[0m\n\u001b[1;32m--> 591\u001b[1;33m           outputs = execute.execute(\n\u001b[0m\u001b[0;32m    592\u001b[0m               \u001b[0mstr\u001b[0m\u001b[1;33m(\u001b[0m\u001b[0mself\u001b[0m\u001b[1;33m.\u001b[0m\u001b[0msignature\u001b[0m\u001b[1;33m.\u001b[0m\u001b[0mname\u001b[0m\u001b[1;33m)\u001b[0m\u001b[1;33m,\u001b[0m\u001b[1;33m\u001b[0m\u001b[1;33m\u001b[0m\u001b[0m\n\u001b[0;32m    593\u001b[0m               \u001b[0mnum_outputs\u001b[0m\u001b[1;33m=\u001b[0m\u001b[0mself\u001b[0m\u001b[1;33m.\u001b[0m\u001b[0m_num_outputs\u001b[0m\u001b[1;33m,\u001b[0m\u001b[1;33m\u001b[0m\u001b[1;33m\u001b[0m\u001b[0m\n",
      "\u001b[1;32mc:\\Users\\ethanol\\Documents\\SP\\Current\\Deep Learning (DELE)\\CA1\\.venv\\lib\\site-packages\\tensorflow\\python\\eager\\execute.py\u001b[0m in \u001b[0;36mquick_execute\u001b[1;34m(op_name, num_outputs, inputs, attrs, ctx, name)\u001b[0m\n\u001b[0;32m     57\u001b[0m   \u001b[1;32mtry\u001b[0m\u001b[1;33m:\u001b[0m\u001b[1;33m\u001b[0m\u001b[1;33m\u001b[0m\u001b[0m\n\u001b[0;32m     58\u001b[0m     \u001b[0mctx\u001b[0m\u001b[1;33m.\u001b[0m\u001b[0mensure_initialized\u001b[0m\u001b[1;33m(\u001b[0m\u001b[1;33m)\u001b[0m\u001b[1;33m\u001b[0m\u001b[1;33m\u001b[0m\u001b[0m\n\u001b[1;32m---> 59\u001b[1;33m     tensors = pywrap_tfe.TFE_Py_Execute(ctx._handle, device_name, op_name,\n\u001b[0m\u001b[0;32m     60\u001b[0m                                         inputs, attrs, num_outputs)\n\u001b[0;32m     61\u001b[0m   \u001b[1;32mexcept\u001b[0m \u001b[0mcore\u001b[0m\u001b[1;33m.\u001b[0m\u001b[0m_NotOkStatusException\u001b[0m \u001b[1;32mas\u001b[0m \u001b[0me\u001b[0m\u001b[1;33m:\u001b[0m\u001b[1;33m\u001b[0m\u001b[1;33m\u001b[0m\u001b[0m\n",
      "\u001b[1;31mKeyboardInterrupt\u001b[0m: "
     ]
    }
   ],
   "source": [
    "# Tuning Convolutional Neural Network\n",
    "from tensorflow.keras.optimizers import Adam, SGD\n",
    "\n",
    "\n",
    "def improved_cnn_2(X_train, y_train, lr=0.001, m=0):\n",
    "    cnn = models.Sequential(layers=[\n",
    "        layers.InputLayer(input_shape=(28, 28, 1)),\n",
    "        layers.Conv2D(filters=20, kernel_size=3, activation='relu'),\n",
    "        layers.Dropout(0.5),\n",
    "        layers.MaxPool2D(pool_size=2, strides=2),\n",
    "        layers.Conv2D(filters=10, kernel_size=3, activation='relu'),\n",
    "        layers.BatchNormalization(),\n",
    "        layers.Flatten(),\n",
    "        layers.Dense(units=128, activation='relu'),\n",
    "        layers.BatchNormalization(),\n",
    "        layers.Dropout(0.2),\n",
    "        layers.Dense(units=64, activation='relu'),\n",
    "        layers.BatchNormalization(),\n",
    "        layers.Dropout(0.2),\n",
    "        layers.Dense(units=32, activation='relu'),\n",
    "        layers.BatchNormalization(),\n",
    "        layers.Dropout(0.2),\n",
    "        layers.Dense(units=10, activation='softmax')\n",
    "    ])\n",
    "    cnn.compile(optimizer=SGD(learning_rate=lr, momentum=m),\n",
    "                loss='categorical_crossentropy', metrics=['accuracy'])\n",
    "    # cnn.summary()\n",
    "    early_stop = tf.keras.callbacks.EarlyStopping(monitor='val_loss', min_delta=0.01, patience=3)\n",
    "    history = cnn.fit(x=X_train, y=y_train, epochs=10, batch_size=50,\n",
    "                      validation_split=0.2, verbose=1, callbacks=[early_stop])\n",
    "    hist_dict = history.history\n",
    "    x = range(len(hist_dict['loss']))\n",
    "    sb.lineplot(x=x, y=hist_dict['accuracy'])\n",
    "    sb.lineplot(x=x, y=hist_dict['val_accuracy'])\n",
    "\n",
    "\n",
    "improved_cnn_2(X_train, y_train, lr=0.05)\n"
   ]
  },
  {
   "cell_type": "code",
   "execution_count": 13,
   "metadata": {},
   "outputs": [
    {
     "name": "stdout",
     "output_type": "stream",
     "text": [
      "Epoch 1/25\n",
      "840/840 [==============================] - 28s 32ms/step - loss: 0.7330 - accuracy: 0.7470 - val_loss: 0.4366 - val_accuracy: 0.8401\n",
      "Epoch 2/25\n",
      "840/840 [==============================] - 27s 32ms/step - loss: 0.4584 - accuracy: 0.8423 - val_loss: 0.3587 - val_accuracy: 0.8730\n",
      "Epoch 3/25\n",
      "840/840 [==============================] - 28s 33ms/step - loss: 0.3994 - accuracy: 0.8615 - val_loss: 0.3503 - val_accuracy: 0.8745\n",
      "Epoch 4/25\n",
      "840/840 [==============================] - 27s 32ms/step - loss: 0.3679 - accuracy: 0.8719 - val_loss: 0.3027 - val_accuracy: 0.8912\n",
      "Epoch 5/25\n",
      "840/840 [==============================] - 26s 31ms/step - loss: 0.3346 - accuracy: 0.8810 - val_loss: 0.2971 - val_accuracy: 0.8968\n",
      "Epoch 6/25\n",
      "840/840 [==============================] - 26s 31ms/step - loss: 0.3198 - accuracy: 0.8859 - val_loss: 0.2977 - val_accuracy: 0.8923\n",
      "Epoch 7/25\n",
      "840/840 [==============================] - 28s 33ms/step - loss: 0.3069 - accuracy: 0.8920 - val_loss: 0.2868 - val_accuracy: 0.8946\n",
      "Epoch 8/25\n",
      "840/840 [==============================] - 28s 34ms/step - loss: 0.2914 - accuracy: 0.8978 - val_loss: 0.2827 - val_accuracy: 0.8999\n",
      "Epoch 9/25\n",
      "840/840 [==============================] - 25s 30ms/step - loss: 0.2778 - accuracy: 0.9014 - val_loss: 0.2650 - val_accuracy: 0.9068\n",
      "Epoch 10/25\n",
      "840/840 [==============================] - 23s 28ms/step - loss: 0.2680 - accuracy: 0.9047 - val_loss: 0.2745 - val_accuracy: 0.9013\n",
      "Epoch 11/25\n",
      "840/840 [==============================] - 24s 28ms/step - loss: 0.2644 - accuracy: 0.9066 - val_loss: 0.2745 - val_accuracy: 0.9019\n",
      "Epoch 12/25\n",
      "840/840 [==============================] - 23s 28ms/step - loss: 0.2476 - accuracy: 0.9118 - val_loss: 0.2843 - val_accuracy: 0.8973\n"
     ]
    },
    {
     "data": {
      "image/png": "[encoded data removed]",
      "text/plain": [
       "<Figure size 432x288 with 1 Axes>"
      ]
     },
     "metadata": {
      "needs_background": "light"
     },
     "output_type": "display_data"
    }
   ],
   "source": [
    "# Tuning Convolutional Neural Network\n",
    "from tensorflow.keras.optimizers import Adam\n",
    "\n",
    "\n",
    "def improved_cnn_3(X_train, y_train, lr=0.0008, b1=0.98):\n",
    "    cnn = models.Sequential(layers=[\n",
    "        layers.InputLayer(input_shape=(28, 28, 1)),\n",
    "        layers.Conv2D(filters=20, kernel_size=3, activation='relu', kernel_initializer='he_normal'),\n",
    "        layers.BatchNormalization(),\n",
    "        layers.Dropout(0.5),\n",
    "        layers.MaxPool2D(pool_size=2, strides=2),\n",
    "        layers.Conv2D(filters=10, kernel_size=3, activation='relu', kernel_initializer='he_normal'),\n",
    "        layers.BatchNormalization(),\n",
    "        layers.Flatten(),\n",
    "        layers.Dense(units=128, activation='relu'),\n",
    "        layers.BatchNormalization(),\n",
    "        layers.Dropout(0.2),\n",
    "        layers.Dense(units=64, activation='relu'),\n",
    "        layers.BatchNormalization(),\n",
    "        layers.Dropout(0.2),\n",
    "        layers.Dense(units=32, activation='relu'),\n",
    "        layers.BatchNormalization(),\n",
    "        layers.Dropout(0.2),\n",
    "        layers.Dense(units=10, activation='softmax')\n",
    "    ])\n",
    "    cnn.compile(optimizer=Adam(learning_rate=lr, beta_1=b1),\n",
    "                loss='categorical_crossentropy', metrics=['accuracy'])\n",
    "    # cnn.summary()\n",
    "    early_stop = tf.keras.callbacks.EarlyStopping(monitor='val_loss', min_delta=0.005, patience=3)\n",
    "    history = cnn.fit(x=X_train, y=y_train, epochs=25, batch_size=50,\n",
    "                      validation_split=0.3, verbose=1, callbacks=[early_stop])\n",
    "    hist_dict = history.history\n",
    "    x = range(len(hist_dict['loss']))\n",
    "    sb.lineplot(x=x, y=hist_dict['accuracy'])\n",
    "    sb.lineplot(x=x, y=hist_dict['val_accuracy'])\n",
    "    return cnn\n",
    "\n",
    "# model1 = improved_cnn_3(X_train, y_train)\n"
   ]
  },
  {
   "cell_type": "code",
   "execution_count": 20,
   "metadata": {},
   "outputs": [
    {
     "name": "stdout",
     "output_type": "stream",
     "text": [
      "c=0, d=0: [0.475662499666214, 0.835099995136261]\n",
      "c=0, d=1: [0.45310044288635254, 0.8410999774932861]\n",
      "c=0, d=2: [0.43404775857925415, 0.8406999707221985]\n",
      "c=0, d=3: [0.44153690338134766, 0.8378999829292297]\n",
      "c=0, d=4: [0.5009185671806335, 0.8167999982833862]\n",
      "c=0, d=5: [0.5190685987472534, 0.8112000226974487]\n",
      "c=1, d=0: [0.3420770466327667, 0.8809000253677368]\n",
      "c=1, d=1: [0.30092519521713257, 0.8920000195503235]\n",
      "c=1, d=2: [0.3128003180027008, 0.8870000243186951]\n",
      "c=1, d=3: [0.3157033920288086, 0.8867999911308289]\n",
      "c=1, d=4: [0.3459377586841583, 0.8792999982833862]\n",
      "c=1, d=5: [0.3745987117290497, 0.8758999705314636]\n",
      "c=2, d=0: [0.3434354364871979, 0.8878999948501587]\n",
      "c=2, d=1: [0.28516101837158203, 0.8996000289916992]\n",
      "c=2, d=2: [0.2788241505622864, 0.900600016117096]\n",
      "c=2, d=3: [0.3247462511062622, 0.8859999775886536]\n",
      "c=2, d=4: [0.35451632738113403, 0.8805000185966492]\n",
      "c=2, d=5: [0.4015882611274719, 0.8614000082015991]\n",
      "c=3, d=0: [0.3061833381652832, 0.902899980545044]\n",
      "c=3, d=1: [0.27117112278938293, 0.9039999842643738]\n",
      "c=3, d=2: [0.2944020926952362, 0.8996000289916992]\n",
      "c=3, d=3: [0.2747514843940735, 0.9052000045776367]\n",
      "c=3, d=4: [0.33759045600891113, 0.8898000121116638]\n",
      "c=3, d=5: [0.33876165747642517, 0.8909000158309937]\n",
      "c=4, d=0: [0.35004374384880066, 0.8873000144958496]\n",
      "c=4, d=1: [0.28897666931152344, 0.8973000049591064]\n",
      "c=4, d=2: [0.29240304231643677, 0.8956000208854675]\n",
      "c=4, d=3: [0.2973879277706146, 0.8956999778747559]\n",
      "c=4, d=4: [0.3058050274848938, 0.8944000005722046]\n",
      "c=4, d=5: [0.34489041566848755, 0.8906000256538391]\n",
      "c=5, d=0: [0.3279414474964142, 0.8898000121116638]\n",
      "c=5, d=1: [0.2573605477809906, 0.9086999893188477]\n",
      "c=5, d=2: [0.3682459890842438, 0.8741000294685364]\n",
      "c=5, d=3: [0.28140440583229065, 0.9050999879837036]\n",
      "c=5, d=4: [0.3316601514816284, 0.887499988079071]\n",
      "c=5, d=5: [0.32411473989486694, 0.8942999839782715]\n"
     ]
    }
   ],
   "source": [
    "# Tuning Convolutional Neural Network\n",
    "from tensorflow.keras.optimizers import Adam\n",
    "\n",
    "\n",
    "def improved_cnn_4(X_train, y_train, c_range, d_range, lr=0.001, b1=0.98):\n",
    "    for c in range(c_range):\n",
    "        for d in range(d_range):\n",
    "            cnn = models.Sequential(\n",
    "                layers=[layers.InputLayer(input_shape=(28, 28, 1))])\n",
    "            for _ in range(c):\n",
    "                cnn.add(layers.Conv2D(filters=16, kernel_size=3,\n",
    "                        padding=\"same\", activation='relu'))\n",
    "                cnn.add(layers.BatchNormalization())\n",
    "\n",
    "            cnn.add(layers.Flatten())\n",
    "\n",
    "            for _ in range(d):\n",
    "                cnn.add(layers.Dense(units=32, activation='relu'))\n",
    "                cnn.add(layers.BatchNormalization())\n",
    "                cnn.add(layers.Dropout(0.2))\n",
    "\n",
    "            cnn.add(layers.Dense(units=10, activation='softmax'))\n",
    "            cnn.compile(optimizer='adam',\n",
    "                        loss='categorical_crossentropy', metrics=['accuracy'])\n",
    "            cnn.fit(x=X_train, y=y_train, epochs=3, batch_size=50,\n",
    "                    validation_split=0.2, verbose=0, callbacks=[])\n",
    "\n",
    "            print(f'c={c}, d={d}: {cnn.evaluate(X_test, y_test, verbose=0)}')\n",
    "\n",
    "\n",
    "improved_cnn_4(X_train, y_train, c_range=6, d_range=6)\n"
   ]
  },
  {
   "cell_type": "code",
   "execution_count": 32,
   "metadata": {},
   "outputs": [
    {
     "data": {
      "text/plain": [
       "<AxesSubplot:xlabel='c', ylabel='d'>"
      ]
     },
     "execution_count": 32,
     "metadata": {},
     "output_type": "execute_result"
    },
    {
     "data": {
      "image/png": "[encoded data removed]",
      "text/plain": [
       "<Figure size 432x288 with 1 Axes>"
      ]
     },
     "metadata": {
      "needs_background": "light"
     },
     "output_type": "display_data"
    }
   ],
   "source": [
    "scores_df = pd.read_csv('./tmp/scores.csv')\n",
    "sb.scatterplot(data=scores_df, x='c', y='d', hue='a')"
   ]
  },
  {
   "cell_type": "code",
   "execution_count": null,
   "metadata": {},
   "outputs": [],
   "source": [
    "def grid_search(optimizers, )"
   ]
  },
  {
   "cell_type": "code",
   "execution_count": 30,
   "metadata": {},
   "outputs": [
    {
     "name": "stdout",
     "output_type": "stream",
     "text": [
      "313/313 [==============================] - 2s 5ms/step - loss: 0.3043 - accuracy: 0.8910\n"
     ]
    },
    {
     "data": {
      "text/plain": [
       "[0.3042811155319214, 0.890999972820282]"
      ]
     },
     "execution_count": 30,
     "metadata": {},
     "output_type": "execute_result"
    }
   ],
   "source": [
    "model1.evaluate(X_test, y_test)"
   ]
  },
  {
   "cell_type": "code",
   "execution_count": 14,
   "metadata": {},
   "outputs": [],
   "source": [
    "# model1.save('./models/model1.h5')"
   ]
  },
  {
   "cell_type": "code",
   "execution_count": 15,
   "metadata": {},
   "outputs": [],
   "source": [
    "# # Random Search\n",
    "# from tensorflow.keras.wrappers.scikit_learn import KerasClassifier\n",
    "# from typing import List, Tuple\n",
    "# from sklearn.model_selection import RandomizedSearchCV\n",
    "\n",
    "# def create_model1(optimiser: str, activation: str):\n",
    "#     model = models.Sequential(layers=[\n",
    "#         layers.InputLayer(input_shape=(28, 28, 1)),\n",
    "#         layers.Conv2D(filters=8, kernel_size=3, activation=activation),\n",
    "#         layers.MaxPool2D(pool_size=2, strides=2),\n",
    "#         layers.Conv2D(filters=10, kernel_size=3, activation=activation),\n",
    "#         layers.BatchNormalization(),\n",
    "#         layers.Flatten(),\n",
    "#         layers.Dense(units=32, activation=activation),\n",
    "#         layers.Dropout(0.2),\n",
    "#         layers.Dense(units=16, activation=activation),\n",
    "#         layers.Dropout(0.2),\n",
    "#         layers.Dense(units=10, activation='softmax')\n",
    "#     ])\n",
    "#     model.compile(optimizer=optimiser, loss='categorical_crossentropy', metrics=['accuracy'])\n",
    "#     return model\n",
    "\n",
    "# clf1 = KerasClassifier(build_fn=create_model1, verbose=1)\n",
    "\n",
    "# params = {\n",
    "#     'optimiser': ['adam', 'rmsprop'],\n",
    "#     'epochs': [5, 10, 20],\n",
    "#     'batch_size': [50, 100, 500],\n",
    "#     'activation': ['relu', 'tanh']\n",
    "# }\n",
    "\n",
    "# rs = RandomizedSearchCV(estimator=clf1, param_distributions=params, cv=5, n_iter=10)\n",
    "# rs_result = rs.fit(X_train, y_train)"
   ]
  },
  {
   "cell_type": "code",
   "execution_count": 16,
   "metadata": {},
   "outputs": [
    {
     "ename": "NameError",
     "evalue": "name 'rs_result' is not defined",
     "output_type": "error",
     "traceback": [
      "\u001b[1;31m---------------------------------------------------------------------------\u001b[0m",
      "\u001b[1;31mNameError\u001b[0m                                 Traceback (most recent call last)",
      "\u001b[1;32m~\\AppData\\Local\\Temp/ipykernel_3036/19360275.py\u001b[0m in \u001b[0;36m<module>\u001b[1;34m\u001b[0m\n\u001b[0;32m      2\u001b[0m \u001b[1;33m\u001b[0m\u001b[0m\n\u001b[0;32m      3\u001b[0m \u001b[1;32mwith\u001b[0m \u001b[0mopen\u001b[0m\u001b[1;33m(\u001b[0m\u001b[1;34m'./models/rand_search_model_1.p'\u001b[0m\u001b[1;33m,\u001b[0m \u001b[1;34m'wb'\u001b[0m\u001b[1;33m)\u001b[0m \u001b[1;32mas\u001b[0m \u001b[0mf\u001b[0m\u001b[1;33m:\u001b[0m\u001b[1;33m\u001b[0m\u001b[1;33m\u001b[0m\u001b[0m\n\u001b[1;32m----> 4\u001b[1;33m     \u001b[0mpickle\u001b[0m\u001b[1;33m.\u001b[0m\u001b[0mdump\u001b[0m\u001b[1;33m(\u001b[0m\u001b[0mrs_result\u001b[0m\u001b[1;33m,\u001b[0m \u001b[0mf\u001b[0m\u001b[1;33m)\u001b[0m\u001b[1;33m\u001b[0m\u001b[1;33m\u001b[0m\u001b[0m\n\u001b[0m",
      "\u001b[1;31mNameError\u001b[0m: name 'rs_result' is not defined"
     ]
    }
   ],
   "source": [
    "# import pickle\n",
    "\n",
    "# with open('./models/rand_search_model_1.p', 'wb') as f:\n",
    "#     pickle.dump(rs_result, f)"
   ]
  },
  {
   "cell_type": "markdown",
   "metadata": {},
   "source": [
    "### Model Evaluation"
   ]
  },
  {
   "cell_type": "code",
   "execution_count": null,
   "metadata": {},
   "outputs": [],
   "source": [
    "# model.evaluate(X_test, y_test)"
   ]
  },
  {
   "cell_type": "markdown",
   "metadata": {},
   "source": [
    "## Transfer Learning (Further Improvement)"
   ]
  },
  {
   "cell_type": "code",
   "execution_count": null,
   "metadata": {},
   "outputs": [],
   "source": [
    "from tensorflow.keras.applications import ResNet50\n",
    "\n",
    "# ResNet50()"
   ]
  },
  {
   "cell_type": "markdown",
   "metadata": {},
   "source": [
    "## Part B > CIFAR-10"
   ]
  },
  {
   "cell_type": "markdown",
   "metadata": {},
   "source": [
    "### Data Partitioning"
   ]
  },
  {
   "cell_type": "code",
   "execution_count": 17,
   "metadata": {},
   "outputs": [],
   "source": [
    "(X_train_2, y_train_2), (X_test_2, y_test_2) = tf.keras.datasets.cifar10.load_data()"
   ]
  },
  {
   "cell_type": "markdown",
   "metadata": {},
   "source": [
    "### Data Pre-Processing"
   ]
  },
  {
   "cell_type": "code",
   "execution_count": 18,
   "metadata": {},
   "outputs": [],
   "source": [
    "X_train_2.astype(float)\n",
    "X_test_2.astype(float)\n",
    "\n",
    "y_train_2 = tf.keras.utils.to_categorical(y_train_2, 10)\n",
    "y_test_2 = tf.keras.utils.to_categorical(y_test_2, 10)"
   ]
  },
  {
   "cell_type": "markdown",
   "metadata": {},
   "source": [
    "### Hyper-Parameter Tuning"
   ]
  },
  {
   "cell_type": "code",
   "execution_count": 19,
   "metadata": {},
   "outputs": [
    {
     "ename": "NameError",
     "evalue": "name 'model2' is not defined",
     "output_type": "error",
     "traceback": [
      "\u001b[1;31m---------------------------------------------------------------------------\u001b[0m",
      "\u001b[1;31mNameError\u001b[0m                                 Traceback (most recent call last)",
      "\u001b[1;32m~\\AppData\\Local\\Temp/ipykernel_3036/3977045982.py\u001b[0m in \u001b[0;36m<module>\u001b[1;34m\u001b[0m\n\u001b[1;32m----> 1\u001b[1;33m \u001b[0mprint\u001b[0m\u001b[1;33m(\u001b[0m\u001b[0mconfusion_matrix\u001b[0m\u001b[1;33m(\u001b[0m\u001b[0mX_test_2\u001b[0m\u001b[1;33m,\u001b[0m \u001b[0my_test_2\u001b[0m\u001b[1;33m,\u001b[0m \u001b[0mmodel2\u001b[0m\u001b[1;33m)\u001b[0m\u001b[1;33m[\u001b[0m\u001b[1;36m0\u001b[0m\u001b[1;33m]\u001b[0m\u001b[1;33m)\u001b[0m\u001b[1;33m\u001b[0m\u001b[1;33m\u001b[0m\u001b[0m\n\u001b[0m",
      "\u001b[1;31mNameError\u001b[0m: name 'model2' is not defined"
     ]
    }
   ],
   "source": [
    "# print(confusion_matrix(X_test_2, y_test_2, model2)[0])"
   ]
  },
  {
   "cell_type": "code",
   "execution_count": 20,
   "metadata": {},
   "outputs": [],
   "source": [
    "from tensorflow.keras.wrappers.scikit_learn import KerasClassifier\n",
    "from typing import List, Tuple\n",
    "from sklearn.model_selection import RandomizedSearchCV\n",
    "\n",
    "def create_model(hidden_layers: List[List[int]], optimiser: str, activation: str, input_shape: Tuple[int]):\n",
    "    model = models.Sequential()\n",
    "    model.add(layers.Input(shape=input_shape))\n",
    "    for hidden_layer in hidden_layers:\n",
    "        model.add(layers.Dense(hidden_layer, activation=activation))\n",
    "        model.add(layers.Conv2D(32, kernel_size=3))\n",
    "    model.add(layers.Flatten())\n",
    "    model.add(layers.Dense(10, activation='softmax'))\n",
    "    model.compile(optimizer=optimiser, loss='categorical_crossentropy', metrics=['accuracy'])\n",
    "    return model\n",
    "\n",
    "clf1 = KerasClassifier(build_fn=create_model, verbose=0)\n",
    "\n",
    "params = {\n",
    "    'optimiser': ['adam', 'rmsprop'],\n",
    "    'hidden_layers': [\n",
    "        [32, 64],\n",
    "        [32, 64, 128],\n",
    "    ],\n",
    "    'epochs': [1],\n",
    "    'batch_size': [100],\n",
    "    'activation': ['relu'],\n",
    "    'input_shape': [(28, 28, 1)]\n",
    "}\n",
    "\n",
    "gs = RandomizedSearchCV(estimator=clf1, param_distributions=params, n_iter=1)\n",
    "gs_result = gs.fit(X_train, y_train)"
   ]
  },
  {
   "cell_type": "code",
   "execution_count": 21,
   "metadata": {},
   "outputs": [
    {
     "data": {
      "text/html": [
       "<div>\n",
       "<style scoped>\n",
       "    .dataframe tbody tr th:only-of-type {\n",
       "        vertical-align: middle;\n",
       "    }\n",
       "\n",
       "    .dataframe tbody tr th {\n",
       "        vertical-align: top;\n",
       "    }\n",
       "\n",
       "    .dataframe thead th {\n",
       "        text-align: right;\n",
       "    }\n",
       "</style>\n",
       "<table border=\"1\" class=\"dataframe\">\n",
       "  <thead>\n",
       "    <tr style=\"text-align: right;\">\n",
       "      <th></th>\n",
       "      <th>mean_fit_time</th>\n",
       "      <th>std_fit_time</th>\n",
       "      <th>mean_score_time</th>\n",
       "      <th>std_score_time</th>\n",
       "      <th>param_optimiser</th>\n",
       "      <th>param_input_shape</th>\n",
       "      <th>param_hidden_layers</th>\n",
       "      <th>param_epochs</th>\n",
       "      <th>param_batch_size</th>\n",
       "      <th>param_activation</th>\n",
       "      <th>params</th>\n",
       "      <th>split0_test_score</th>\n",
       "      <th>split1_test_score</th>\n",
       "      <th>split2_test_score</th>\n",
       "      <th>split3_test_score</th>\n",
       "      <th>split4_test_score</th>\n",
       "      <th>mean_test_score</th>\n",
       "      <th>std_test_score</th>\n",
       "      <th>rank_test_score</th>\n",
       "    </tr>\n",
       "  </thead>\n",
       "  <tbody>\n",
       "    <tr>\n",
       "      <th>0</th>\n",
       "      <td>137.310002</td>\n",
       "      <td>5.326936</td>\n",
       "      <td>9.431339</td>\n",
       "      <td>0.690722</td>\n",
       "      <td>rmsprop</td>\n",
       "      <td>(28, 28, 1)</td>\n",
       "      <td>[32, 64, 128]</td>\n",
       "      <td>1</td>\n",
       "      <td>100</td>\n",
       "      <td>relu</td>\n",
       "      <td>{'optimiser': 'rmsprop', 'input_shape': (28, 2...</td>\n",
       "      <td>0.884833</td>\n",
       "      <td>0.850083</td>\n",
       "      <td>0.865833</td>\n",
       "      <td>0.8475</td>\n",
       "      <td>0.879083</td>\n",
       "      <td>0.865467</td>\n",
       "      <td>0.014967</td>\n",
       "      <td>1</td>\n",
       "    </tr>\n",
       "  </tbody>\n",
       "</table>\n",
       "</div>"
      ],
      "text/plain": [
       "   mean_fit_time  std_fit_time  mean_score_time  std_score_time  \\\n",
       "0     137.310002      5.326936         9.431339        0.690722   \n",
       "\n",
       "  param_optimiser param_input_shape param_hidden_layers param_epochs  \\\n",
       "0         rmsprop       (28, 28, 1)       [32, 64, 128]            1   \n",
       "\n",
       "  param_batch_size param_activation  \\\n",
       "0              100             relu   \n",
       "\n",
       "                                              params  split0_test_score  \\\n",
       "0  {'optimiser': 'rmsprop', 'input_shape': (28, 2...           0.884833   \n",
       "\n",
       "   split1_test_score  split2_test_score  split3_test_score  split4_test_score  \\\n",
       "0           0.850083           0.865833             0.8475           0.879083   \n",
       "\n",
       "   mean_test_score  std_test_score  rank_test_score  \n",
       "0         0.865467        0.014967                1  "
      ]
     },
     "execution_count": 21,
     "metadata": {},
     "output_type": "execute_result"
    }
   ],
   "source": [
    "pd.DataFrame(gs_result.cv_results_)"
   ]
  },
  {
   "cell_type": "code",
   "execution_count": null,
   "metadata": {},
   "outputs": [],
   "source": [
    "# import pickle\n",
    "\n",
    "# with open('./models/model1.p', 'rb') as f:\n",
    "#     print(pickle.load(f))"
   ]
  },
  {
   "cell_type": "markdown",
   "metadata": {},
   "source": [
    "### Model Instantiation"
   ]
  },
  {
   "cell_type": "code",
   "execution_count": null,
   "metadata": {},
   "outputs": [],
   "source": [
    "\n",
    "model2 = models.Sequential([\n",
    "    layers.Rescaling(1 / 255),\n",
    "    layers.Input(shape=(32, 32, 3)),\n",
    "    layers.Conv2D(32, kernel_size=(3, 3), activation=\"relu\"),\n",
    "    layers.MaxPooling2D(pool_size=(2, 2)),\n",
    "    layers.Conv2D(64, kernel_size=(3, 3), activation=\"relu\"),\n",
    "    layers.MaxPooling2D(pool_size=(2, 2)),\n",
    "    layers.Flatten(),\n",
    "    layers.Dropout(0.5),\n",
    "    layers.Dense(10, activation=\"softmax\"),\n",
    "])\n",
    "model2.compile(optimizer='adam', loss='categorical_crossentropy', metrics=['accuracy'])\n",
    "model2.fit(X_train_2, y_train_2, epochs=3, batch_size=10, validation_split=0.1)"
   ]
  },
  {
   "cell_type": "markdown",
   "metadata": {},
   "source": [
    "### Model Training"
   ]
  }
 ],
 "metadata": {
  "interpreter": {
   "hash": "a154e1d5516d3ac496b2fe34503a47627485703bfecc1d951dada34e24d1d7fa"
  },
  "kernelspec": {
   "display_name": "Python 3.9.7 64-bit",
   "name": "python3"
  },
  "language_info": {
   "codemirror_mode": {
    "name": "ipython",
    "version": 3
   },
   "file_extension": ".py",
   "mimetype": "text/x-python",
   "name": "python",
   "nbconvert_exporter": "python",
   "pygments_lexer": "ipython3",
   "version": "3.9.7"
  },
  "orig_nbformat": 4
 },
 "nbformat": 4,
 "nbformat_minor": 2
}

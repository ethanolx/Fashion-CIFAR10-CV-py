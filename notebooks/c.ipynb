{
  "cells": [
    {
      "cell_type": "markdown",
      "metadata": {},
      "source": [
        "# DELE CA1 Part C > Machine Learning V.S. Deep Learning"
      ]
    },
    {
      "cell_type": "code",
      "execution_count": 6,
      "metadata": {
        "id": "ir3CB29LJhZU"
      },
      "outputs": [],
      "source": [
        "import numpy as np\n",
        "import pandas as pd\n",
        "\n",
        "import matplotlib.pyplot as plt\n",
        "import seaborn as sb\n",
        "\n",
        "from sklearn.linear_model import LogisticRegression\n",
        "\n",
        "from tensorflow.keras.datasets import fashion_mnist\n",
        "from tensorflow.keras.utils import to_categorical\n",
        "from tensorflow.keras.models import Sequential\n",
        "from tensorflow.keras.layers import *\n",
        "\n",
        "from math import log2\n",
        "from hilbertcurve.hilbertcurve import HilbertCurve\n",
        "\n",
        "import warnings"
      ]
    },
    {
      "cell_type": "code",
      "execution_count": 2,
      "metadata": {
        "id": "IiBXHVNXJhZd"
      },
      "outputs": [],
      "source": [
        "warnings.filterwarnings('ignore')"
      ]
    },
    {
      "cell_type": "code",
      "execution_count": 3,
      "metadata": {
        "colab": {
          "base_uri": "https://localhost:8080/"
        },
        "id": "QGHe1meVJhZf",
        "outputId": "af306c16-19fa-4728-e69a-b1bebbbbbbd9"
      },
      "outputs": [],
      "source": [
        "(X_train, y_train), (X_test, y_test) = \\\n",
        "fashion_mnist.load_data()"
      ]
    },
    {
      "cell_type": "code",
      "execution_count": 4,
      "metadata": {
        "id": "TrLZJLF4J3uc"
      },
      "outputs": [],
      "source": [
        "labels = [\n",
        "  'T-shirt/top',\n",
        "  'Trouser',\n",
        "  'Pullover',\n",
        "  'Dress',\n",
        "  'Coat',\n",
        "  'Sandal',\n",
        "  'Shirt',\n",
        "  'Sneaker',\n",
        "  'Bag',\n",
        "  'Ankle boot'\n",
        "]"
      ]
    },
    {
      "cell_type": "code",
      "execution_count": 7,
      "metadata": {
        "colab": {
          "base_uri": "https://localhost:8080/"
        },
        "id": "ycGQ25mpJhZh",
        "outputId": "dcea9ffc-26b4-4fd2-8027-f39f7e722b93"
      },
      "outputs": [
        {
          "name": "stdout",
          "output_type": "stream",
          "text": [
            "X_train shape:\t (60000, 28, 28)\n",
            "X_test shape:\t (10000, 28, 28)\n",
            "y_train shape:\t (60000,)\n",
            "y_test shape:\t (10000,)\n"
          ]
        }
      ],
      "source": [
        "print('X_train shape:\\t', X_train.shape)\n",
        "print('X_test shape:\\t', X_test.shape)\n",
        "print('y_train shape:\\t', y_train.shape)\n",
        "print('y_test shape:\\t', y_test.shape)"
      ]
    },
    {
      "cell_type": "code",
      "execution_count": 8,
      "metadata": {
        "colab": {
          "base_uri": "https://localhost:8080/",
          "height": 281
        },
        "id": "IeA_NcZ1JhZj",
        "outputId": "318d9c2f-e00d-4950-82e6-ab90495047ca"
      },
      "outputs": [
        {
          "data": {
            "image/png": "[encoded data removed]",
            "text/plain": [
              "<Figure size 432x288 with 1 Axes>"
            ]
          },
          "metadata": {
            "needs_background": "light"
          },
          "output_type": "display_data"
        }
      ],
      "source": [
        "def plot_sample(sample=0):\n",
        "    plt.figure()\n",
        "    plt.title(label=f'Item: {labels[y_train[sample]]}')\n",
        "    plt.imshow(X=X_train[sample], cmap='gray')\n",
        "\n",
        "plot_sample()"
      ]
    },
    {
      "cell_type": "code",
      "execution_count": 9,
      "metadata": {
        "colab": {
          "base_uri": "https://localhost:8080/",
          "height": 281
        },
        "id": "kLfCD70e3gL8",
        "outputId": "eaee9d9f-5cac-49e1-eeac-591b2fe3ab18"
      },
      "outputs": [
        {
          "data": {
            "image/png": "[encoded data removed]",
            "text/plain": [
              "<Figure size 432x288 with 6 Axes>"
            ]
          },
          "metadata": {
            "needs_background": "light"
          },
          "output_type": "display_data"
        }
      ],
      "source": [
        "def plot_samples(samples=[0]):\n",
        "    from math import ceil\n",
        "    rows = int(len(samples) ** 0.5)\n",
        "    cols = ceil(len(samples) // rows)\n",
        "    fig, ax = plt.subplots(rows, cols)\n",
        "    if rows == 1:\n",
        "        ax.imshow(X_train[0], cmap='gray')\n",
        "        ax.set_title(f'Item: {labels[y_train[s]]}')\n",
        "    else:\n",
        "        for s in samples:\n",
        "            ax[s // cols, s % cols].imshow(X_train[s], cmap='gray')\n",
        "            ax[s // cols, s % cols].set_title(f'Item: {labels[y_train[s]]}')\n",
        "    plt.subplots_adjust(wspace=0.3, hspace=0.5)\n",
        "\n",
        "plot_samples(range(6))"
      ]
    },
    {
      "cell_type": "code",
      "execution_count": 5,
      "metadata": {
        "id": "e5-rI8r1JhZl"
      },
      "outputs": [],
      "source": [
        "def pad(arr: np.ndarray, h_pad: int = 0, v_pad: int = 0):\n",
        "    rows = len(arr)\n",
        "\n",
        "    horizontal_pad = np.zeros(shape=(rows, arr.shape[1], h_pad))\n",
        "    vertical_pad = np.zeros(shape=(rows, v_pad, arr.shape[2] + h_pad * 2))\n",
        "\n",
        "    arr_copy = np.concatenate((horizontal_pad, arr, horizontal_pad), axis=2)\n",
        "    arr_copy = np.concatenate((vertical_pad, arr_copy, vertical_pad), axis=1)\n",
        "\n",
        "    return arr_copy"
      ]
    },
    {
      "cell_type": "code",
      "execution_count": 11,
      "metadata": {
        "colab": {
          "base_uri": "https://localhost:8080/",
          "height": 281
        },
        "id": "rz1jU8gcZugk",
        "outputId": "c83e0286-4db9-49f5-ce82-6bea4d759739"
      },
      "outputs": [
        {
          "data": {
            "image/png": "[encoded data removed]",
            "text/plain": [
              "<Figure size 432x288 with 2 Axes>"
            ]
          },
          "metadata": {
            "needs_background": "light"
          },
          "output_type": "display_data"
        }
      ],
      "source": [
        "def compare_padded_image(X_train, h_pad=2, v_pad=2, sample=0):\n",
        "    fig, ax = plt.subplots(1, 2)\n",
        "    image = X_train[sample]\n",
        "\n",
        "    ax[0].imshow(image, cmap='gray')\n",
        "    ax[0].set_title('Before Padding')\n",
        "    ax[0].set_xticks(ticks=[0, image.shape[0] - 1])\n",
        "    ax[0].set_yticks(ticks=[0, image.shape[1] - 1])\n",
        "\n",
        "    ax[1].imshow(pad(X_train, h_pad=h_pad, v_pad=v_pad)[sample], cmap='gray')\n",
        "    ax[1].set_title(f'After Padding ({h_pad}, {v_pad})')\n",
        "    ax[1].set_xticks(ticks=[0, image.shape[0] + h_pad * 2 - 1])\n",
        "    ax[1].set_yticks(ticks=[0, image.shape[1] + v_pad * 2 - 1])\n",
        "\n",
        "    plt.axis('scaled')\n",
        "\n",
        "compare_padded_image(X_train, 0, 8)"
      ]
    },
    {
      "cell_type": "code",
      "execution_count": 12,
      "metadata": {
        "colab": {
          "base_uri": "https://localhost:8080/",
          "height": 216
        },
        "id": "emF-Lqy1focm",
        "outputId": "1e27d827-4801-49dc-8c77-24aaa679cf9b"
      },
      "outputs": [
        {
          "data": {
            "image/png": "[encoded data removed]",
            "text/plain": [
              "<Figure size 432x288 with 2 Axes>"
            ]
          },
          "metadata": {
            "needs_background": "light"
          },
          "output_type": "display_data"
        }
      ],
      "source": [
        "compare_padded_image(X_train, sample=0, h_pad=2, v_pad=2)"
      ]
    },
    {
      "cell_type": "code",
      "execution_count": 13,
      "metadata": {
        "colab": {
          "base_uri": "https://localhost:8080/",
          "height": 265
        },
        "id": "TtPDCYpCJhZx",
        "outputId": "78dc6095-96ff-42e8-8503-6f4cc8592f79"
      },
      "outputs": [
        {
          "data": {
            "image/png": "[encoded data removed]",
            "text/plain": [
              "<Figure size 432x288 with 1 Axes>"
            ]
          },
          "metadata": {
            "needs_background": "light"
          },
          "output_type": "display_data"
        }
      ],
      "source": [
        "def plot_simple_flatten(side_length):\n",
        "    d = [(side_length - r - 1, c) for c in range(side_length) for r in range(side_length)]\n",
        "    x = np.array(d).T\n",
        "    plt.plot(x[0], x[1])\n",
        "    plt.xlim(-0.1, side_length ** 2 + 0.1)\n",
        "    plt.ylim(-0.1, side_length ** 2 + 0.1)\n",
        "    plt.axis('scaled')\n",
        "    plt.plot(0, 26, 'o-r', ms=8, mfc='none')\n",
        "    plt.plot(27, 27, 'o-r', ms=8, mfc='none')\n",
        "    plt.show()\n",
        "\n",
        "plot_simple_flatten(28)"
      ]
    },
    {
      "cell_type": "code",
      "execution_count": 14,
      "metadata": {
        "colab": {
          "base_uri": "https://localhost:8080/",
          "height": 265
        },
        "id": "Bznf5NJ-JhZx",
        "outputId": "5bab67de-bce3-4721-aed7-0fb2c0a3e56e"
      },
      "outputs": [
        {
          "data": {
            "image/png": "[encoded data removed]",
            "text/plain": [
              "<Figure size 432x288 with 1 Axes>"
            ]
          },
          "metadata": {
            "needs_background": "light"
          },
          "output_type": "display_data"
        }
      ],
      "source": [
        "def plot_snake_flatten(side_length):\n",
        "    ls = []\n",
        "    for r in range(side_length):\n",
        "        for c in range(0, side_length):\n",
        "            if r % 2 == 0:\n",
        "                ls.append((r, c))\n",
        "            else:\n",
        "                ls.append((r, side_length - c - 1))\n",
        "    x = np.array(ls).T\n",
        "    plt.plot(x[1], x[0])\n",
        "    plt.xlim(-0.1, side_length ** 2 + 0.1)\n",
        "    plt.ylim(-0.1, side_length ** 2 + 0.1)\n",
        "    plt.axis('scaled')\n",
        "    plt.show()\n",
        "\n",
        "plot_snake_flatten(28)"
      ]
    },
    {
      "cell_type": "code",
      "execution_count": 15,
      "metadata": {
        "colab": {
          "base_uri": "https://localhost:8080/",
          "height": 265
        },
        "id": "NbnKJpzqJhZw",
        "outputId": "5e1cd346-db52-4838-bbed-c275fe92c831"
      },
      "outputs": [
        {
          "data": {
            "image/png": "[encoded data removed]",
            "text/plain": [
              "<Figure size 432x288 with 1 Axes>"
            ]
          },
          "metadata": {
            "needs_background": "light"
          },
          "output_type": "display_data"
        }
      ],
      "source": [
        "def plot_hilbert_curve(side_length):\n",
        "    d = np.array(HilbertCurve(log2(side_length), 2).points_from_distances(range(side_length ** 2))).T\n",
        "    plt.plot(d[1], d[0])\n",
        "    plt.xlim(-0.1, side_length ** 2 + 0.1)\n",
        "    plt.ylim(-0.1, side_length ** 2 + 0.1)\n",
        "    plt.axis('scaled')\n",
        "    plt.show()\n",
        "\n",
        "plot_hilbert_curve(32)"
      ]
    },
    {
      "cell_type": "code",
      "execution_count": 16,
      "metadata": {
        "id": "rZHoQOCLJhZ2"
      },
      "outputs": [],
      "source": [
        "def sort_columns_snake(arr):\n",
        "    arr_copy = arr.copy()\n",
        "    arr_shape = arr.shape\n",
        "\n",
        "    assert len(arr_shape) == 3, f\"Samples must be 2-Dimensional\"\n",
        "\n",
        "    return np.concatenate([arr_copy[:, i] if i % 2 == 0 else arr_copy[:, i, ::-1] for i in range(arr_shape[1])], axis=1)\n"
      ]
    },
    {
      "cell_type": "code",
      "execution_count": 17,
      "metadata": {
        "id": "LylOu3Z-JhZ3"
      },
      "outputs": [],
      "source": [
        "def revert_columns_snake(arr):\n",
        "    arr_copy = arr.copy()\n",
        "    arr_shape = arr.shape\n",
        "\n",
        "    assert len(arr_shape) == 2, f\"Samples must be 1-Dimensional\"\n",
        "    assert arr_shape[1] ** 0.5 == int(arr_shape[1] **\n",
        "                                      0.5), f\"Sample length must be a square number\"\n",
        "\n",
        "    chunk_size = int(arr_shape[1] ** 0.5)\n",
        "\n",
        "    return np.concatenate([arr_copy[:, i * chunk_size: (i + 1) * chunk_size] if i % 2 == 0 else arr_copy[:, (i + 1) * chunk_size - 1: i * chunk_size - 1:-1] for i in range(chunk_size)], axis=1).reshape(-1, chunk_size, chunk_size)\n"
      ]
    },
    {
      "cell_type": "code",
      "execution_count": 7,
      "metadata": {
        "id": "VZvf53IIJhZp"
      },
      "outputs": [],
      "source": [
        "def sort_columns_hilbert(arr):\n",
        "    arr_copy = arr.copy()\n",
        "    arr_shape = arr.shape\n",
        "\n",
        "    assert arr_shape[1] == arr_shape[2], f\"Samples must have square dimensions: {arr_shape[1]} != {arr_shape[2]}\"\n",
        "\n",
        "    from math import log2\n",
        "    from hilbertcurve.hilbertcurve import HilbertCurve\n",
        "\n",
        "    hcurve = HilbertCurve(log2(arr_shape[1]), 2)\n",
        "    h_arr = np.array(hcurve.points_from_distances(range(arr_shape[1] ** 2)))\n",
        "    mask = h_arr[:, 0] * arr_shape[1] + h_arr[:, 1]\n",
        "    arr_resorted = arr_copy.reshape(-1, arr_shape[1] ** 2)[:, mask]\n",
        "    \n",
        "    return arr_resorted"
      ]
    },
    {
      "cell_type": "code",
      "execution_count": 8,
      "metadata": {
        "id": "XVcscXX1JhZq"
      },
      "outputs": [],
      "source": [
        "def revert_columns_hilbert(arr):\n",
        "    arr_copy = arr.copy()\n",
        "    arr_shape = arr.shape\n",
        "\n",
        "    assert len(arr_shape) == 2, f\"Samples must be 1-Dimensional\"\n",
        "    assert arr_shape[1] ** 0.5 == int(arr_shape[1] ** 0.5), f\"Sample length must be a square number\"\n",
        "\n",
        "    from math import log2\n",
        "    from hilbertcurve.hilbertcurve import HilbertCurve\n",
        "\n",
        "    side_length = int(arr_shape[1] ** 0.5)\n",
        "    hcurve = HilbertCurve(int(side_length), 2)\n",
        "    h_arr = np.array(hcurve.points_from_distances(range(arr_shape[1])))\n",
        "    mask_transform = h_arr[:, 0] * side_length + h_arr[:, 1]\n",
        "    mask = np.empty(shape=(arr_shape[1],), dtype=int)\n",
        "    mask[mask_transform] = np.arange(arr_shape[1])\n",
        "    arr_resorted = arr_copy[:, mask].reshape(-1, side_length, side_length)\n",
        "    if int(log2(side_length)) % 2 == 1:\n",
        "        return arr_resorted.transpose((0, 2, 1))\n",
        "    return arr_resorted"
      ]
    },
    {
      "cell_type": "code",
      "execution_count": 9,
      "metadata": {
        "id": "bf6sH_MTJhZy"
      },
      "outputs": [],
      "source": [
        "def compress(arr, chunk_size=4, agg=np.mean):\n",
        "    assert len(arr.shape) == 2, \"Samples must be 1-Dimensional\"\n",
        "    if chunk_size > 1:\n",
        "        arr_copy = np.empty(shape=(arr.shape[0], 0))\n",
        "        for arr_ in np.array_split(ary=arr, indices_or_sections=arr.shape[1] // chunk_size, axis=1):\n",
        "            arr_copy = np.concatenate((arr_copy, agg(arr_, axis=1).reshape((-1, 1))), axis=1)\n",
        "        return arr_copy\n",
        "    else:\n",
        "        return arr"
      ]
    },
    {
      "cell_type": "code",
      "execution_count": 10,
      "metadata": {
        "id": "DoYv0nnDJhZy"
      },
      "outputs": [],
      "source": [
        "def evaluate_model(X_train, y_train, X_test, y_test, model, *args, **kwargs):\n",
        "    from sklearn.metrics import accuracy_score\n",
        "    from tensorflow.keras.models import Sequential\n",
        "\n",
        "    model.fit(X_train, y_train, *args, **kwargs)\n",
        "    \n",
        "    train_pred = model.predict(X_train)\n",
        "    test_pred = model.predict(X_test)\n",
        "\n",
        "    if isinstance(model, Sequential):\n",
        "        train_pred = train_pred.argmax(axis=1)\n",
        "        test_pred = test_pred.argmax(axis=1)\n",
        "        y_train = y_train.argmax(axis=1)\n",
        "        y_test = y_test.argmax(axis=1)\n",
        "\n",
        "    acc = accuracy_score(y_train, train_pred)\n",
        "    val_acc = accuracy_score(y_test, test_pred)\n",
        "\n",
        "    return acc, val_acc"
      ]
    },
    {
      "cell_type": "code",
      "execution_count": 11,
      "metadata": {
        "id": "NGnnG9smJhZz"
      },
      "outputs": [],
      "source": [
        "def compare_model_scores(cnn_score, logreg_score, kind: str):\n",
        "    print(f'Comparison of CNN against Logistic Regression ({kind})')\n",
        "    df = pd.DataFrame(data={\n",
        "        'CNN': cnn_score,\n",
        "        'Logistic Regression': logreg_score\n",
        "    }, index=['Training Accuracy', 'Testing Accuracy'])\n",
        "    print(df)"
      ]
    },
    {
      "cell_type": "code",
      "execution_count": 23,
      "metadata": {
        "colab": {
          "base_uri": "https://localhost:8080/"
        },
        "id": "5KFpsaDbJhZz",
        "outputId": "855f9a6d-ee32-4adb-ddc6-dfddac1ac4a4"
      },
      "outputs": [
        {
          "name": "stdout",
          "output_type": "stream",
          "text": [
            "Comparison of CNN against Logistic Regression (baseline models)\n",
            "                        CNN  Logistic Regression\n",
            "Training Accuracy  0.888183               0.8632\n",
            "Testing Accuracy   0.867700               0.8412\n"
          ]
        }
      ],
      "source": [
        "def baseline_models(X_train, y_train, X_test, y_test):\n",
        "    X_train2 = X_train.reshape((60000, 28 * 28))\n",
        "    X_test2 = X_test.reshape((10000, 28 * 28))\n",
        "\n",
        "    cnn = Sequential(layers=[\n",
        "        InputLayer(input_shape=(28 * 28, 1)),\n",
        "        Conv1D(filters=8, kernel_size=(3,), activation='sigmoid'),\n",
        "        Flatten(),\n",
        "        Dense(10, activation='softmax')\n",
        "    ])\n",
        "    cnn.compile(optimizer='adam', loss='categorical_crossentropy',\n",
        "                metrics=['accuracy'])\n",
        "\n",
        "    cnn_score = evaluate_model(X_train2.reshape(60000, -1, 1), to_categorical(\n",
        "        y_train), X_test.reshape(10000, -1, 1), to_categorical(y_test), cnn, verbose=0)\n",
        "    logreg_score = evaluate_model(\n",
        "        X_train2, y_train, X_test2, y_test, LogisticRegression())\n",
        "\n",
        "    compare_model_scores(cnn_score, logreg_score, 'baseline models')\n",
        "\n",
        "\n",
        "baseline_models(X_train, y_train, X_test, y_test)\n"
      ]
    },
    {
      "cell_type": "code",
      "execution_count": 43,
      "metadata": {
        "colab": {
          "base_uri": "https://localhost:8080/"
        },
        "id": "gMUynscIJhZ0",
        "outputId": "ba80ac2d-59fe-41a4-8fcf-0e5f1809070f"
      },
      "outputs": [
        {
          "name": "stdout",
          "output_type": "stream",
          "text": [
            "Comparison of CNN against Logistic Regression (data normalisation)\n",
            "                        CNN  Logistic Regression\n",
            "Training Accuracy  0.795267              0.86625\n",
            "Testing Accuracy   0.787700              0.84390\n"
          ]
        }
      ],
      "source": [
        "def data_normalisation(X_train, y_train, X_test, y_test, epochs=1):\n",
        "    X_train2 = X_train.reshape((60000, 28 * 28)) / 255.0\n",
        "    X_test2 = X_test.reshape((10000, 28 * 28)) / 255.0\n",
        "\n",
        "    cnn = Sequential(layers=[\n",
        "        InputLayer(input_shape=(28 * 28, 1)),\n",
        "        Conv1D(filters=8, kernel_size=(3,), activation='sigmoid'),\n",
        "        Flatten(),\n",
        "        Dense(10, activation='softmax')\n",
        "    ])\n",
        "    cnn.compile(optimizer='adam', loss='categorical_crossentropy',\n",
        "                metrics=['accuracy'])\n",
        "\n",
        "    cnn_score = evaluate_model(X_train2.reshape(60000, -1, 1), to_categorical(\n",
        "        y_train), X_test2.reshape(10000, -1, 1), to_categorical(y_test), cnn, epochs=epochs, verbose=0)\n",
        "    logreg_score = evaluate_model(\n",
        "        X_train2, y_train, X_test2, y_test, LogisticRegression())\n",
        "\n",
        "    compare_model_scores(cnn_score, logreg_score, 'data normalisation')\n",
        "\n",
        "data_normalisation(X_train, y_train, X_test, y_test)"
      ]
    },
    {
      "cell_type": "code",
      "execution_count": 44,
      "metadata": {
        "colab": {
          "base_uri": "https://localhost:8080/"
        },
        "id": "1bA-FeJ_-JOS",
        "outputId": "6e76e767-f107-4cfd-e534-e6887bfd8108"
      },
      "outputs": [
        {
          "name": "stdout",
          "output_type": "stream",
          "text": [
            "Comparison of CNN against Logistic Regression (data normalisation)\n",
            "                        CNN  Logistic Regression\n",
            "Training Accuracy  0.846017              0.86625\n",
            "Testing Accuracy   0.836000              0.84390\n"
          ]
        }
      ],
      "source": [
        "data_normalisation(X_train, y_train, X_test, y_test, epochs=5)"
      ]
    },
    {
      "cell_type": "code",
      "execution_count": 45,
      "metadata": {
        "colab": {
          "base_uri": "https://localhost:8080/"
        },
        "id": "SDm-3Z0VJhZ0",
        "outputId": "564bcc26-2142-4d24-f3ff-66021cde2ad2"
      },
      "outputs": [
        {
          "name": "stdout",
          "output_type": "stream",
          "text": [
            "Original Shape:\t (60000, 784)\n",
            "New Shape:\t (60000, 196)\n",
            "Comparison of CNN against Logistic Regression (simple max aggregation)\n",
            "                        CNN  Logistic Regression\n",
            "Training Accuracy  0.820983             0.823583\n",
            "Testing Accuracy   0.812100             0.812700\n"
          ]
        }
      ],
      "source": [
        "def feature_engineering_simple_agg(X_train, y_train, X_test, y_test, kind='mean'):\n",
        "    X_train2 = X_train.reshape((60000, 28 * 28, 1)) / 255.0\n",
        "    X_test2 = X_test.reshape((10000, 28 * 28, 1)) / 255.0\n",
        "\n",
        "    agg = np.mean if kind == 'mean' else np.max\n",
        "\n",
        "    X_train3 = compress(X_train2.reshape(60000, -1), chunk_size=4, agg=agg)\n",
        "    X_test3 = compress(X_test2.reshape(10000, -1), chunk_size=4, agg=agg)\n",
        "\n",
        "    print('Original Shape:\\t', X_train.reshape(60000, -1).shape)\n",
        "    print('New Shape:\\t', X_train3.shape)\n",
        "    print()\n",
        "\n",
        "    cnn = Sequential(layers=[\n",
        "        InputLayer(input_shape=(28 * 28, 1)),\n",
        "        MaxPool1D(pool_size=(4,), strides=4),\n",
        "        Conv1D(8, (3,), activation='sigmoid'),\n",
        "        Flatten(),\n",
        "        Dense(10, activation='softmax')\n",
        "    ])\n",
        "    cnn.compile(optimizer='adam', loss='categorical_crossentropy',\n",
        "                metrics=['accuracy'])\n",
        "\n",
        "    cnn_score = evaluate_model(X_train2, to_categorical(\n",
        "        y_train), X_test2, to_categorical(y_test), cnn, epochs=5, verbose=0)\n",
        "    logreg_score = evaluate_model(\n",
        "        X_train3, y_train, X_test3, y_test, LogisticRegression())\n",
        "\n",
        "    compare_model_scores(cnn_score, logreg_score, f'simple {kind} aggregation')\n",
        "\n",
        "feature_engineering_simple_agg(X_train, y_train, X_test, y_test, kind='max')"
      ]
    },
    {
      "cell_type": "code",
      "execution_count": 46,
      "metadata": {
        "colab": {
          "base_uri": "https://localhost:8080/"
        },
        "id": "PPvGfdZRPHCK",
        "outputId": "374de055-eb0c-4155-c86e-b1dc6a8aca43"
      },
      "outputs": [
        {
          "name": "stdout",
          "output_type": "stream",
          "text": [
            "Original Shape:\t (60000, 784)\n",
            "New Shape:\t (60000, 196)\n",
            "Comparison of CNN against Logistic Regression (simple mean aggregation)\n",
            "                        CNN  Logistic Regression\n",
            "Training Accuracy  0.823567             0.833717\n",
            "Testing Accuracy   0.809100             0.818900\n"
          ]
        }
      ],
      "source": [
        "feature_engineering_simple_agg(X_train, y_train, X_test, y_test, kind='mean')"
      ]
    },
    {
      "cell_type": "code",
      "execution_count": 27,
      "metadata": {
        "colab": {
          "base_uri": "https://localhost:8080/",
          "height": 216
        },
        "id": "vdxFOddkJhZ3",
        "outputId": "75305577-8039-41b8-b7a5-87d3112b29ec"
      },
      "outputs": [
        {
          "data": {
            "image/png": "[encoded data removed]",
            "text/plain": [
              "<Figure size 432x288 with 2 Axes>"
            ]
          },
          "metadata": {
            "needs_background": "light"
          },
          "output_type": "display_data"
        }
      ],
      "source": [
        "def compare_resolution_after_simple_pooling(X_train, sample=0, kind='max'):\n",
        "    fig, ax = plt.subplots(1, 2)\n",
        "    ax[0].imshow(X_train[sample], cmap='gray')\n",
        "    ax[0].set_title(f'Before {kind} pooling')\n",
        "    agg = np.max if kind == 'max' else np.mean\n",
        "    ax[1].imshow(compress(X_train.reshape(60000, -1), chunk_size=4, agg=agg)[sample].reshape(14, 14), cmap='gray')\n",
        "    ax[1].set_title(f'After {kind} pooling')\n",
        "    plt.show()\n",
        "\n",
        "compare_resolution_after_simple_pooling(X_train, sample=0)"
      ]
    },
    {
      "cell_type": "code",
      "execution_count": 28,
      "metadata": {
        "colab": {
          "base_uri": "https://localhost:8080/",
          "height": 216
        },
        "id": "zaliaBhUTFpN",
        "outputId": "adc0e863-3c96-4f7a-9e8f-55da5015e4a1"
      },
      "outputs": [
        {
          "data": {
            "image/png": "[encoded data removed]",
            "text/plain": [
              "<Figure size 432x288 with 2 Axes>"
            ]
          },
          "metadata": {
            "needs_background": "light"
          },
          "output_type": "display_data"
        }
      ],
      "source": [
        "compare_resolution_after_simple_pooling(X_train, sample=4321)"
      ]
    },
    {
      "cell_type": "code",
      "execution_count": 48,
      "metadata": {
        "colab": {
          "base_uri": "https://localhost:8080/"
        },
        "id": "lJCyA9OsJhZ1",
        "outputId": "e0ec004d-0787-4793-bf13-c5621a47c1a9"
      },
      "outputs": [
        {
          "name": "stdout",
          "output_type": "stream",
          "text": [
            "Comparison of CNN against Logistic Regression (snake max aggregation)\n",
            "                       CNN  Logistic Regression\n",
            "Training Accuracy  0.82335             0.823583\n",
            "Testing Accuracy   0.81120             0.812700\n"
          ]
        }
      ],
      "source": [
        "def feature_engineering_snake_agg(X_train, y_train, X_test, y_test, kind='mean'):\n",
        "    X_train2 = X_train / 255.0\n",
        "    X_test2 = X_test / 255.0\n",
        "\n",
        "    agg = np.mean if kind == 'mean' else np.max\n",
        "\n",
        "    X_train3 = revert_columns_snake(compress(sort_columns_snake(X_train2), chunk_size=4, agg=agg))\n",
        "    X_test3 = revert_columns_snake(compress(sort_columns_snake(X_test2), chunk_size=4, agg=agg))\n",
        "\n",
        "    cnn = Sequential(layers=[\n",
        "        InputLayer(input_shape=(14 * 14, 1)),\n",
        "        Conv1D(8, (3,), activation='sigmoid'),\n",
        "        Flatten(),\n",
        "        Dense(10, activation='softmax')\n",
        "    ])\n",
        "    cnn.compile(optimizer='adam', loss='categorical_crossentropy',\n",
        "                metrics=['accuracy'])\n",
        "\n",
        "    cnn_score = evaluate_model(X_train3.reshape(60000, -1, 1), to_categorical(\n",
        "        y_train), X_test3.reshape(10000, -1, 1), to_categorical(y_test), cnn, epochs=5, verbose=0)\n",
        "    logreg_score = evaluate_model(\n",
        "        X_train3.reshape(60000, -1), y_train, X_test3.reshape(10000, -1), y_test, LogisticRegression())\n",
        "\n",
        "    compare_model_scores(cnn_score, logreg_score, f'snake {kind} aggregation')\n",
        "\n",
        "feature_engineering_snake_agg(X_train, y_train, X_test, y_test, kind='max')"
      ]
    },
    {
      "cell_type": "code",
      "execution_count": 49,
      "metadata": {
        "colab": {
          "base_uri": "https://localhost:8080/"
        },
        "id": "F9FjYu_LPkjG",
        "outputId": "4cfa9858-194c-40f3-e3c1-64980159b73e"
      },
      "outputs": [
        {
          "name": "stdout",
          "output_type": "stream",
          "text": [
            "Comparison of CNN against Logistic Regression (snake mean aggregation)\n",
            "                        CNN  Logistic Regression\n",
            "Training Accuracy  0.829383             0.833717\n",
            "Testing Accuracy   0.815500             0.818900\n"
          ]
        }
      ],
      "source": [
        "feature_engineering_snake_agg(X_train, y_train, X_test, y_test, kind='mean')"
      ]
    },
    {
      "cell_type": "code",
      "execution_count": 31,
      "metadata": {
        "colab": {
          "base_uri": "https://localhost:8080/",
          "height": 157
        },
        "id": "c95Lgmc9Uu-K",
        "outputId": "e1793acb-341d-42dc-eeec-457a0cb2ac39"
      },
      "outputs": [
        {
          "data": {
            "image/png": "[encoded data removed]",
            "text/plain": [
              "<Figure size 432x288 with 3 Axes>"
            ]
          },
          "metadata": {
            "needs_background": "light"
          },
          "output_type": "display_data"
        }
      ],
      "source": [
        "def compare_resolution_after_pooling_with_snake(X_train, sample=0, kind='max'):\n",
        "    fig, ax = plt.subplots(1, 3)\n",
        "    ax[0].imshow(X_train[sample], cmap='gray')\n",
        "    ax[0].set_title(f'Before {kind} pooling')\n",
        "    ax[0].set_xticks(ticks=(0, 27))\n",
        "    ax[0].set_yticks(ticks=(0, 27))\n",
        "\n",
        "    ax[1].imshow(sort_columns_snake(X_train)[sample].reshape(28, 28), cmap='gray')\n",
        "    ax[1].set_title(f'After sorting')\n",
        "    ax[1].set_xticks(ticks=(0, 27))\n",
        "    ax[1].set_yticks(ticks=(0, 27))\n",
        "\n",
        "    agg = np.max if kind == 'max' else np.mean\n",
        "    ax[2].imshow(\n",
        "        revert_columns_snake(compress(sort_columns_snake(X_train), chunk_size=4, agg=agg))[sample].reshape(14, 14), cmap='gray')\n",
        "    ax[2].set_title(f'After {kind} pooling')\n",
        "    ax[2].set_xticks(ticks=(0, 13))\n",
        "    ax[2].set_yticks(ticks=(0, 13))\n",
        "\n",
        "    plt.subplots_adjust(wspace=0.3)\n",
        "    plt.show()\n",
        "\n",
        "compare_resolution_after_pooling_with_snake(X_train, sample=0, kind='max')"
      ]
    },
    {
      "cell_type": "code",
      "execution_count": 32,
      "metadata": {
        "colab": {
          "base_uri": "https://localhost:8080/",
          "height": 157
        },
        "id": "yXoeHHy3WRP4",
        "outputId": "7b8027ac-c37f-465b-d8aa-bc8ecf2b739c"
      },
      "outputs": [
        {
          "data": {
            "image/png": "[encoded data removed]",
            "text/plain": [
              "<Figure size 432x288 with 3 Axes>"
            ]
          },
          "metadata": {
            "needs_background": "light"
          },
          "output_type": "display_data"
        }
      ],
      "source": [
        "compare_resolution_after_pooling_with_snake(X_train, sample=1500, kind='max')"
      ]
    },
    {
      "cell_type": "code",
      "execution_count": 50,
      "metadata": {
        "colab": {
          "base_uri": "https://localhost:8080/"
        },
        "id": "hET6FTDSJhZ4",
        "outputId": "2e47734d-600d-4d23-b363-f65b043663eb"
      },
      "outputs": [
        {
          "name": "stdout",
          "output_type": "stream",
          "text": [
            "Comparison of CNN against Logistic Regression (hilbert curve max aggregation)\n",
            "                        CNN  Logistic Regression\n",
            "Training Accuracy  0.839867               0.8350\n",
            "Testing Accuracy   0.829000               0.8208\n"
          ]
        }
      ],
      "source": [
        "def feature_engineering_hilb_agg(X_train, y_train, X_test, y_test, kind='mean'):\n",
        "    X_train2 = X_train / 255.0\n",
        "    X_test2 = X_test / 255.0\n",
        "\n",
        "    agg = np.max if kind == 'max' else np.mean\n",
        "\n",
        "    X_train3 = revert_columns_hilbert(compress(sort_columns_hilbert(pad(X_train2, 2, 2)), chunk_size=4, agg=agg))\n",
        "    X_test3 = revert_columns_hilbert(compress(sort_columns_hilbert(pad(X_test2, 2, 2)), chunk_size=4, agg=agg))\n",
        "\n",
        "    cnn = Sequential(layers=[\n",
        "        InputLayer(input_shape=(16 * 16, 1)),\n",
        "        Conv1D(8, (3,), activation='sigmoid'),\n",
        "        Flatten(),\n",
        "        Dense(10, activation='softmax')\n",
        "    ])\n",
        "    cnn.compile(optimizer='adam', loss='categorical_crossentropy',\n",
        "                metrics=['accuracy'])\n",
        "\n",
        "    cnn_score = evaluate_model(X_train3.reshape(60000, -1, 1), to_categorical(\n",
        "        y_train), X_test3.reshape(10000, -1, 1), to_categorical(y_test), cnn, epochs=5, verbose=0)\n",
        "    logreg_score = evaluate_model(\n",
        "        X_train3.reshape(60000, -1), y_train, X_test3.reshape(10000, -1), y_test, LogisticRegression())\n",
        "\n",
        "    compare_model_scores(cnn_score, logreg_score, f'hilbert curve {kind} aggregation')\n",
        "\n",
        "feature_engineering_hilb_agg(X_train, y_train, X_test, y_test, kind='max')"
      ]
    },
    {
      "cell_type": "code",
      "execution_count": 51,
      "metadata": {
        "colab": {
          "base_uri": "https://localhost:8080/"
        },
        "id": "CCzcdCq3UkKz",
        "outputId": "21e1bcbd-ed1f-4e3b-f369-18c242edf0ba"
      },
      "outputs": [
        {
          "name": "stdout",
          "output_type": "stream",
          "text": [
            "Comparison of CNN against Logistic Regression (hilbert curve mean aggregation)\n",
            "                       CNN  Logistic Regression\n",
            "Training Accuracy  0.84545             0.848183\n",
            "Testing Accuracy   0.82870             0.832600\n"
          ]
        }
      ],
      "source": [
        "feature_engineering_hilb_agg(X_train, y_train, X_test, y_test, kind='mean')"
      ]
    },
    {
      "cell_type": "code",
      "execution_count": 35,
      "metadata": {
        "colab": {
          "base_uri": "https://localhost:8080/",
          "height": 157
        },
        "id": "aoO2MfufJhZ4",
        "outputId": "30455bb6-8d31-4246-a489-8440fea50df0"
      },
      "outputs": [
        {
          "data": {
            "image/png": "[encoded data removed]",
            "text/plain": [
              "<Figure size 432x288 with 3 Axes>"
            ]
          },
          "metadata": {
            "needs_background": "light"
          },
          "output_type": "display_data"
        }
      ],
      "source": [
        "def compare_resolution_after_pooling_with_hilbert(X_train, sample=0, kind='max'):\n",
        "    fig, ax = plt.subplots(1, 3)\n",
        "    ax[0].imshow(X_train[sample], cmap='gray')\n",
        "    ax[0].set_title(f'Before {kind} pooling')\n",
        "    ax[0].set_xticks(ticks=(0, 27))\n",
        "    ax[0].set_yticks(ticks=(0, 27))\n",
        "\n",
        "    ax[1].imshow(sort_columns_hilbert(pad(X_train, 2, 2))[sample].reshape(32, 32), cmap='gray')\n",
        "    ax[1].set_title(f'After sorting')\n",
        "    ax[1].set_xticks(ticks=(0, 31))\n",
        "    ax[1].set_yticks(ticks=(0, 31))\n",
        "\n",
        "    agg = np.max if kind == 'max' else np.mean\n",
        "    ax[2].imshow(\n",
        "        revert_columns_hilbert(compress(sort_columns_hilbert(pad(X_train, 2, 2)), chunk_size=4, agg=agg))[sample].reshape(16, 16), cmap='gray')\n",
        "    ax[2].set_title(f'After {kind} pooling')\n",
        "    ax[2].set_xticks(ticks=(0, 15))\n",
        "    ax[2].set_yticks(ticks=(0, 15))\n",
        "\n",
        "    plt.subplots_adjust(wspace=0.3)\n",
        "    plt.show()\n",
        "\n",
        "compare_resolution_after_pooling_with_hilbert(X_train, sample=1650, kind='max')"
      ]
    },
    {
      "cell_type": "code",
      "execution_count": 36,
      "metadata": {
        "colab": {
          "base_uri": "https://localhost:8080/",
          "height": 157
        },
        "id": "pjic9yOTgYL-",
        "outputId": "7852bf0d-1a4b-403a-9093-c156654a9a90"
      },
      "outputs": [
        {
          "data": {
            "image/png": "[encoded data removed]",
            "text/plain": [
              "<Figure size 432x288 with 3 Axes>"
            ]
          },
          "metadata": {
            "needs_background": "light"
          },
          "output_type": "display_data"
        }
      ],
      "source": [
        "compare_resolution_after_pooling_with_hilbert(X_train, sample=1650, kind='mean')"
      ]
    },
    {
      "cell_type": "code",
      "execution_count": 53,
      "metadata": {
        "colab": {
          "base_uri": "https://localhost:8080/"
        },
        "id": "ht26wE4HcK2n",
        "outputId": "cd5615c0-4227-483d-85ca-9a6037320908"
      },
      "outputs": [
        {
          "name": "stdout",
          "output_type": "stream",
          "text": [
            "Comparison of CNN against Logistic Regression (simple hyper-tuning)\n",
            "                        CNN  Logistic Regression\n",
            "Training Accuracy  0.853933               0.8503\n",
            "Testing Accuracy   0.835800               0.8345\n"
          ]
        }
      ],
      "source": [
        "def simple_hyper_tuning(X_train, y_train, X_test, y_test):\n",
        "    X_train2 = X_train / 255.0\n",
        "    X_test2 = X_test / 255.0\n",
        "\n",
        "    X_train3 = revert_columns_hilbert(compress(sort_columns_hilbert(pad(X_train2, 2, 2)), chunk_size=4, agg=np.mean))\n",
        "    X_test3 = revert_columns_hilbert(compress(sort_columns_hilbert(pad(X_test2, 2, 2)), chunk_size=4, agg=np.mean))\n",
        "\n",
        "    cnn = Sequential(layers=[\n",
        "        InputLayer(input_shape=(16 * 16, 1)),\n",
        "        Conv1D(filters=20, kernel_size=(3,), activation='tanh'),\n",
        "        Flatten(),\n",
        "        Dense(10, activation='softmax')\n",
        "    ])\n",
        "    cnn.compile(optimizer='adam', loss='categorical_crossentropy',\n",
        "                metrics=['accuracy'])\n",
        "\n",
        "    cnn_score = evaluate_model(X_train3.reshape(60000, -1, 1), to_categorical(\n",
        "        y_train), X_test3.reshape(10000, -1, 1), to_categorical(y_test), cnn, verbose=0, epochs=10, batch_size=50)\n",
        "    logreg_score = evaluate_model(\n",
        "        X_train3.reshape(60000, -1), y_train, X_test3.reshape(10000, -1), y_test, LogisticRegression(max_iter=10, solver='newton-cg', C=0.5))\n",
        "\n",
        "    compare_model_scores(cnn_score, logreg_score, f'simple hyper-tuning')\n",
        "\n",
        "simple_hyper_tuning(X_train, y_train, X_test, y_test)"
      ]
    },
    {
      "cell_type": "code",
      "execution_count": 13,
      "metadata": {
        "colab": {
          "base_uri": "https://localhost:8080/"
        },
        "id": "Esl2YG-8iyAC",
        "outputId": "09376a2a-b3a2-4dab-ecf8-a275fcba3bf6"
      },
      "outputs": [
        {
          "name": "stdout",
          "output_type": "stream",
          "text": [
            "Comparison of CNN against Logistic Regression (image augmentation)\n",
            "                        CNN  Logistic Regression\n",
            "Training Accuracy  0.771744              0.77355\n",
            "Testing Accuracy   0.774800              0.77500\n"
          ]
        }
      ],
      "source": [
        "def feature_engineering_image_augmentation(X_train, y_train, X_test, y_test):\n",
        "    X_train2 = X_train / 255.0\n",
        "    X_test2 = X_test / 255.0\n",
        "\n",
        "    X_train3 = revert_columns_hilbert(compress(sort_columns_hilbert(pad(X_train2, 2, 2)), chunk_size=4, agg=np.mean))\n",
        "    X_test3 = revert_columns_hilbert(compress(sort_columns_hilbert(pad(X_test2, 2, 2)), chunk_size=4, agg=np.mean))\n",
        "\n",
        "    X_train4 = np.concatenate((X_train3, X_train3[:, ::-1, :], X_train3[:, :, ::-1]), axis=0)\n",
        "    y_train4 = np.concatenate((y_train, y_train, y_train), axis=0)\n",
        "\n",
        "    cnn = Sequential(layers=[\n",
        "        InputLayer(input_shape=(16 * 16, 1)),\n",
        "        Conv1D(filters=20, kernel_size=(3,)),\n",
        "        Flatten(),\n",
        "        Dense(10, activation='softmax')\n",
        "    ])\n",
        "    cnn.compile(optimizer='adam', loss='categorical_crossentropy',\n",
        "                metrics=['accuracy'])\n",
        "    \n",
        "    cnn_score = evaluate_model(X_train4.reshape(60000 * 3, -1, 1), to_categorical(\n",
        "        y_train4), X_test3.reshape(10000, -1, 1), to_categorical(y_test), cnn, verbose=0, epochs=10, batch_size=50)\n",
        "    logreg_score = evaluate_model(\n",
        "        X_train4.reshape(60000 * 3, -1), y_train4, X_test3.reshape(10000, -1), y_test, LogisticRegression(max_iter=10, solver='newton-cg', C=0.5))\n",
        "\n",
        "    compare_model_scores(cnn_score, logreg_score, f'image augmentation')\n",
        "\n",
        "feature_engineering_image_augmentation(X_train, y_train, X_test, y_test)"
      ]
    },
    {
      "cell_type": "code",
      "execution_count": 39,
      "metadata": {
        "colab": {
          "base_uri": "https://localhost:8080/",
          "height": 162
        },
        "id": "Lbl6zQ8_vQ2d",
        "outputId": "5ca446fe-e3c4-4827-e2c4-f3042090d9a4"
      },
      "outputs": [
        {
          "data": {
            "image/png": "[encoded data removed]",
            "text/plain": [
              "<Figure size 432x288 with 3 Axes>"
            ]
          },
          "metadata": {
            "needs_background": "light"
          },
          "output_type": "display_data"
        }
      ],
      "source": [
        "def plot_augmentation(X_train, sample=0):\n",
        "    fig, ax = plt.subplots(1, 3)\n",
        "    orig = X_train\n",
        "    hor = X_train[:, :, ::-1]\n",
        "    vert = X_train[:, ::-1, :]\n",
        "\n",
        "    ax[0].imshow(orig[sample], cmap='gray')\n",
        "    ax[0].set_title('Original')\n",
        "\n",
        "    ax[1].imshow(hor[sample], cmap='gray')\n",
        "    ax[1].set_title('Horizontal Flip')\n",
        "\n",
        "    ax[2].imshow(vert[sample], cmap='gray')\n",
        "    ax[2].set_title('Vertical Flip')\n",
        "\n",
        "plot_augmentation(X_train)"
      ]
    },
    {
      "cell_type": "code",
      "execution_count": 52,
      "metadata": {
        "colab": {
          "base_uri": "https://localhost:8080/"
        },
        "id": "A_RKwGIlhPjv",
        "outputId": "1797f495-3049-48a8-dcee-91345e9deac0"
      },
      "outputs": [
        {
          "name": "stdout",
          "output_type": "stream",
          "text": [
            "Comparison of CNN against Logistic Regression (complex hyper-tuning)\n",
            "                        CNN  Logistic Regression\n",
            "Training Accuracy  0.893967               0.8503\n",
            "Testing Accuracy   0.866400               0.8345\n"
          ]
        }
      ],
      "source": [
        "def complex_hyper_tuning(X_train, y_train, X_test, y_test):\n",
        "    X_train2 = X_train / 255.0\n",
        "    X_test2 = X_test / 255.0\n",
        "\n",
        "    X_train3 = revert_columns_hilbert(compress(sort_columns_hilbert(pad(X_train2, 2, 2)), chunk_size=4, agg=np.mean))\n",
        "    X_test3 = revert_columns_hilbert(compress(sort_columns_hilbert(pad(X_test2, 2, 2)), chunk_size=4, agg=np.mean))\n",
        "\n",
        "    cnn = Sequential(layers=[\n",
        "        InputLayer(input_shape=(16 * 16, 1)),\n",
        "        Conv1D(filters=16, kernel_size=(3,)),\n",
        "        BatchNormalization(),\n",
        "        Conv1D(filters=32, kernel_size=(3,), strides=2),\n",
        "        Dropout(0.3),\n",
        "        Flatten(),\n",
        "        Dense(32, activation='relu'),\n",
        "        BatchNormalization(),\n",
        "        Dense(10, activation='softmax')\n",
        "    ])\n",
        "    cnn.compile(optimizer='adam', loss='categorical_crossentropy',\n",
        "                metrics=['accuracy'])\n",
        "\n",
        "    cnn_score = evaluate_model(X_train3.reshape(60000, -1, 1), to_categorical(\n",
        "        y_train), X_test3.reshape(10000, -1, 1), to_categorical(y_test), cnn, verbose=0, epochs=15, batch_size=50)\n",
        "    logreg_score = evaluate_model(\n",
        "        X_train3.reshape(60000, -1), y_train, X_test3.reshape(10000, -1), y_test, LogisticRegression(max_iter=10, solver='newton-cg', C=0.5))\n",
        "\n",
        "    compare_model_scores(cnn_score, logreg_score, f'complex hyper-tuning')\n",
        "\n",
        "complex_hyper_tuning(X_train, y_train, X_test, y_test)"
      ]
    }
  ],
  "metadata": {
    "colab": {
      "collapsed_sections": [],
      "name": "c.ipynb",
      "provenance": []
    },
    "interpreter": {
      "hash": "fec9a1d92292a2da5d1dcede0f24d95aeecb6db763b2e0b61af8984e778b9231"
    },
    "kernelspec": {
      "display_name": "Python 3.9.7 64-bit ('.venv': pipenv)",
      "name": "python3"
    },
    "language_info": {
      "codemirror_mode": {
        "name": "ipython",
        "version": 3
      },
      "file_extension": ".py",
      "mimetype": "text/x-python",
      "name": "python",
      "nbconvert_exporter": "python",
      "pygments_lexer": "ipython3",
      "version": "3.9.7"
    }
  },
  "nbformat": 4,
  "nbformat_minor": 0
}

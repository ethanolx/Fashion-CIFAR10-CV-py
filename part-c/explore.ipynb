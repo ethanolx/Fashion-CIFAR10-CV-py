{
 "cells": [
  {
   "cell_type": "code",
   "execution_count": 1,
   "metadata": {},
   "outputs": [],
   "source": [
    "import tensorflow as tf\n",
    "import pandas as pd\n",
    "import numpy as np\n",
    "import matplotlib.pyplot as plt\n",
    "import seaborn as sb\n",
    "from sklearn.linear_model import LogisticRegression\n",
    "import warnings\n",
    "\n",
    "from tensorflow.keras.utils import to_categorical\n",
    "from tensorflow.keras.models import Sequential\n",
    "from tensorflow.keras.layers import Dense, InputLayer, Conv1D, Conv2D, Flatten, MaxPool1D, MaxPool2D"
   ]
  },
  {
   "cell_type": "code",
   "execution_count": 2,
   "metadata": {},
   "outputs": [],
   "source": [
    "warnings.filterwarnings('ignore')"
   ]
  },
  {
   "cell_type": "code",
   "execution_count": 3,
   "metadata": {},
   "outputs": [],
   "source": [
    "(X_train, y_train), (X_test, y_test) = \\\n",
    "tf.keras.datasets.fashion_mnist.load_data()"
   ]
  },
  {
   "cell_type": "code",
   "execution_count": 4,
   "metadata": {},
   "outputs": [],
   "source": [
    "# (X_train_alt, y_train_alt), (X_test_alt, y_test_alt) =tf.keras.datasets.fashion_mnist.load_data()"
   ]
  },
  {
   "cell_type": "code",
   "execution_count": 5,
   "metadata": {},
   "outputs": [
    {
     "name": "stdout",
     "output_type": "stream",
     "text": [
      "(60000, 28, 28) (10000, 28, 28)\n",
      "(60000,) (10000,)\n"
     ]
    }
   ],
   "source": [
    "print(X_train.shape, X_test.shape)\n",
    "print(y_train.shape, y_test.shape)"
   ]
  },
  {
   "cell_type": "code",
   "execution_count": 6,
   "metadata": {},
   "outputs": [
    {
     "data": {
      "text/plain": [
       "<matplotlib.image.AxesImage at 0x1c570c731c0>"
      ]
     },
     "execution_count": 6,
     "metadata": {},
     "output_type": "execute_result"
    },
    {
     "data": {
      "image/png": "[encoded data removed]",
      "text/plain": [
       "<Figure size 432x288 with 1 Axes>"
      ]
     },
     "metadata": {
      "needs_background": "light"
     },
     "output_type": "display_data"
    }
   ],
   "source": [
    "plt.figure()\n",
    "plt.title(label=f'Digit: {y_train[0]}')\n",
    "plt.imshow(X=X_train[0], cmap='gray')"
   ]
  },
  {
   "cell_type": "code",
   "execution_count": 7,
   "metadata": {},
   "outputs": [],
   "source": [
    "def pad(arr: np.ndarray, h_pad: int = 0, v_pad: int = 0):\n",
    "    rows = len(arr)\n",
    "\n",
    "    horizontal_pad = np.zeros(shape=(rows, arr.shape[1], h_pad))\n",
    "    vertical_pad = np.zeros(shape=(rows, v_pad, arr.shape[2] + h_pad * 2))\n",
    "\n",
    "    arr_copy = np.concatenate((horizontal_pad, arr, horizontal_pad), axis=2)\n",
    "    arr_copy = np.concatenate((vertical_pad, arr_copy, vertical_pad), axis=1)\n",
    "\n",
    "    return arr_copy\n"
   ]
  },
  {
   "cell_type": "code",
   "execution_count": 8,
   "metadata": {},
   "outputs": [],
   "source": [
    "# def sort_columns_hilbert_old(arr, cache=None):\n",
    "#     arr_copy = arr.copy()\n",
    "#     rows = len(arr_copy)\n",
    "\n",
    "#     arr_shape = arr.shape\n",
    "\n",
    "#     from math import log2\n",
    "\n",
    "#     if cache is None:\n",
    "#         from hilbertcurve.hilbertcurve import HilbertCurve\n",
    "#         hcurve = HilbertCurve(log2(arr_shape[1]), 2)\n",
    "#         h_arr = np.array(hcurve.points_from_distances(range(arr_shape[1] ** 2)))\n",
    "#         arr_resorted = np.empty(shape=(rows, 0))\n",
    "#         for i, (r, c) in enumerate(h_arr):\n",
    "#             arr_resorted = np.concatenate((arr_resorted, arr_copy[:, r, c].reshape(-1, 1)), axis=1)\n",
    "#             print(f'\\ri={i};r={r};c={c}', end='')\n",
    "#         arr_resorted.shape\n",
    "#     else:\n",
    "#         import pickle\n",
    "#         with open(file=cache, mode='rb') as f:\n",
    "#             arr_resorted = pickle.load(f)\n",
    "    \n",
    "#     return arr_resorted"
   ]
  },
  {
   "cell_type": "code",
   "execution_count": 9,
   "metadata": {},
   "outputs": [],
   "source": [
    "def sort_columns_hilbert(arr):\n",
    "    arr_copy = arr.copy()\n",
    "    arr_shape = arr.shape\n",
    "\n",
    "    assert arr_shape[1] == arr_shape[2], f\"Samples must have square dimensions: {arr_shape[1]} != {arr_shape[2]}\"\n",
    "\n",
    "    from math import log2\n",
    "    from hilbertcurve.hilbertcurve import HilbertCurve\n",
    "\n",
    "    hcurve = HilbertCurve(log2(arr_shape[1]), 2)\n",
    "    h_arr = np.array(hcurve.points_from_distances(range(arr_shape[1] ** 2)))\n",
    "    mask = h_arr[:, 0] * arr_shape[1] + h_arr[:, 1]\n",
    "    arr_resorted = arr_copy.reshape(-1, arr_shape[1] ** 2)[:, mask]\n",
    "    \n",
    "    return arr_resorted"
   ]
  },
  {
   "cell_type": "code",
   "execution_count": 10,
   "metadata": {},
   "outputs": [],
   "source": [
    "def revert_columns_hilbert(arr):\n",
    "    arr_copy = arr.copy()\n",
    "    arr_shape = arr.shape\n",
    "\n",
    "    assert len(arr_shape) == 2, f\"Samples must be 1-Dimensional\"\n",
    "    assert arr_shape[1] ** 0.5 == int(arr_shape[1] ** 0.5), f\"Sample length must be a square number\"\n",
    "\n",
    "    from math import log2\n",
    "    from hilbertcurve.hilbertcurve import HilbertCurve\n",
    "\n",
    "    side_length = int(arr_shape[1] ** 0.5)\n",
    "    hcurve = HilbertCurve(int(side_length), 2)\n",
    "    h_arr = np.array(hcurve.points_from_distances(range(arr_shape[1])))\n",
    "    mask_transform = h_arr[:, 0] * side_length + h_arr[:, 1]\n",
    "    mask = np.empty(shape=(arr_shape[1],), dtype=int)\n",
    "    mask[mask_transform] = np.arange(arr_shape[1])\n",
    "    arr_resorted = arr_copy[:, mask].reshape(-1, side_length, side_length)\n",
    "    if int(log2(side_length)) % 2 == 1:\n",
    "        return arr_resorted.transpose((0, 2, 1))\n",
    "    return arr_resorted"
   ]
  },
  {
   "cell_type": "code",
   "execution_count": 11,
   "metadata": {},
   "outputs": [],
   "source": [
    "# np.random.seed(2)\n",
    "# for i in range(1, 10):\n",
    "#     A = np.random.randint(0, 10, size=(3, 2 ** i, 2 ** i))\n",
    "#     print(2 ** i, np.abs(A - revert_columns_hilbert(sort_columns_hilbert(A))).sum())"
   ]
  },
  {
   "cell_type": "code",
   "execution_count": 12,
   "metadata": {},
   "outputs": [
    {
     "data": {
      "text/plain": [
       "<matplotlib.image.AxesImage at 0x1c57718af10>"
      ]
     },
     "execution_count": 12,
     "metadata": {},
     "output_type": "execute_result"
    },
    {
     "data": {
      "image/png": "[encoded data removed]",
      "text/plain": [
       "<Figure size 432x288 with 1 Axes>"
      ]
     },
     "metadata": {
      "needs_background": "light"
     },
     "output_type": "display_data"
    }
   ],
   "source": [
    "plt.imshow(X_train[0].reshape(28, 28), cmap='gray')"
   ]
  },
  {
   "cell_type": "code",
   "execution_count": 13,
   "metadata": {},
   "outputs": [
    {
     "data": {
      "text/plain": [
       "<matplotlib.image.AxesImage at 0x1c577204250>"
      ]
     },
     "execution_count": 13,
     "metadata": {},
     "output_type": "execute_result"
    },
    {
     "data": {
      "image/png": "[encoded data removed]",
      "text/plain": [
       "<Figure size 432x288 with 1 Axes>"
      ]
     },
     "metadata": {
      "needs_background": "light"
     },
     "output_type": "display_data"
    }
   ],
   "source": [
    "plt.imshow(pad(X_train, 2, 2)[0].reshape(32, 32), cmap='gray')"
   ]
  },
  {
   "cell_type": "code",
   "execution_count": 14,
   "metadata": {},
   "outputs": [
    {
     "data": {
      "text/plain": [
       "<matplotlib.image.AxesImage at 0x1c5772724c0>"
      ]
     },
     "execution_count": 14,
     "metadata": {},
     "output_type": "execute_result"
    },
    {
     "data": {
      "image/png": "[encoded data removed]",
      "text/plain": [
       "<Figure size 432x288 with 1 Axes>"
      ]
     },
     "metadata": {
      "needs_background": "light"
     },
     "output_type": "display_data"
    }
   ],
   "source": [
    "plt.imshow(revert_columns_hilbert(sort_columns_hilbert(pad(X_train, 2, 2)))[0].reshape(32, 32), cmap='gray')"
   ]
  },
  {
   "cell_type": "code",
   "execution_count": 51,
   "metadata": {},
   "outputs": [
    {
     "data": {
      "image/png": "[encoded data removed]",
      "text/plain": [
       "<Figure size 432x288 with 1 Axes>"
      ]
     },
     "metadata": {
      "needs_background": "light"
     },
     "output_type": "display_data"
    }
   ],
   "source": [
    "from hilbertcurve.hilbertcurve import HilbertCurve\n",
    "from math import log2\n",
    "def show_hilbert_curve(side_length):\n",
    "    d = np.array(HilbertCurve(log2(side_length) + 1, 2).points_from_distances(range(side_length ** 2))).T\n",
    "    plt.plot(d[0], d[1])\n",
    "    plt.xlim(-0.1, side_length ** 2 + 0.1)\n",
    "    plt.ylim(-0.1, side_length ** 2 + 0.1)\n",
    "    plt.axis('scaled')\n",
    "    plt.show()\n",
    "\n",
    "show_hilbert_curve(32)"
   ]
  },
  {
   "cell_type": "code",
   "execution_count": 53,
   "metadata": {},
   "outputs": [],
   "source": [
    "def compress(arr, chunk_size=4, agg=np.mean):\n",
    "    assert len(arr.shape) == 2, \"Samples must be 1-Dimensional\"\n",
    "    if chunk_size > 1:\n",
    "        arr_copy = np.empty(shape=(arr.shape[0], 0))\n",
    "        for arr_ in np.array_split(ary=arr, indices_or_sections=arr.shape[1] // chunk_size, axis=1):\n",
    "            arr_copy = np.concatenate((arr_copy, agg(arr_, axis=1).reshape((-1, 1))), axis=1)\n",
    "        return arr_copy\n",
    "    else:\n",
    "        return arr"
   ]
  },
  {
   "cell_type": "code",
   "execution_count": 54,
   "metadata": {},
   "outputs": [],
   "source": [
    "def save_obj_to_binary(obj, filepath):\n",
    "    import pickle\n",
    "    try:\n",
    "        with open(file=filepath, mode='wb') as f:\n",
    "            pickle.dump(obj=obj, file=f)\n",
    "        return 0\n",
    "    except:\n",
    "        return 1"
   ]
  },
  {
   "cell_type": "code",
   "execution_count": 55,
   "metadata": {},
   "outputs": [],
   "source": [
    "def evaluate_model(X_train, y_train, X_test, y_test, model, *args, **kwargs):\n",
    "    from sklearn.metrics import accuracy_score\n",
    "    from tensorflow.keras.models import Sequential\n",
    "\n",
    "    model.fit(X_train, y_train, *args, **kwargs)\n",
    "    \n",
    "    train_pred = model.predict(X_train)\n",
    "    test_pred = model.predict(X_test)\n",
    "\n",
    "    if isinstance(model, Sequential):\n",
    "        train_pred = train_pred.argmax(axis=1)\n",
    "        test_pred = test_pred.argmax(axis=1)\n",
    "        y_train = y_train.argmax(axis=1)\n",
    "        y_test = y_test.argmax(axis=1)\n",
    "\n",
    "    acc = accuracy_score(y_train, train_pred)\n",
    "    val_acc = accuracy_score(y_test, test_pred)\n",
    "\n",
    "    return acc, val_acc"
   ]
  },
  {
   "cell_type": "code",
   "execution_count": 56,
   "metadata": {},
   "outputs": [],
   "source": [
    "def compare_model_scores(cnn_score, logreg_score, kind: str):\n",
    "    print(f'Comparison of CNN against Logistic Regression ({kind})')\n",
    "    df = pd.DataFrame(data={\n",
    "        'CNN': cnn_score,\n",
    "        'Logistic Regression': logreg_score\n",
    "    }, index=['Training Accuracy', 'Testing Accuracy'])\n",
    "    print(df)"
   ]
  },
  {
   "cell_type": "code",
   "execution_count": 168,
   "metadata": {},
   "outputs": [
    {
     "name": "stdout",
     "output_type": "stream",
     "text": [
      "Comparison of CNN against Logistic Regression (baseline models)\n",
      "                        CNN  Logistic Regression\n",
      "Training Accuracy  0.796183               0.8632\n",
      "Testing Accuracy   0.781000               0.8412\n"
     ]
    }
   ],
   "source": [
    "def baseline_models(X_train, y_train, X_test, y_test):\n",
    "    X_train2 = X_train.reshape((60000, 28 * 28))\n",
    "    X_test2 = X_test.reshape((10000, 28 * 28))\n",
    "\n",
    "    cnn = Sequential(layers=[\n",
    "        Dense(10, input_shape=(28 * 28,), activation='softmax')\n",
    "    ])\n",
    "    cnn.compile(optimizer='adam', loss='categorical_crossentropy',\n",
    "                metrics=['accuracy'])\n",
    "\n",
    "    cnn_score = evaluate_model(X_train2, to_categorical(\n",
    "        y_train), X_test2, to_categorical(y_test), cnn, verbose=0)\n",
    "    logreg_score = evaluate_model(\n",
    "        X_train2, y_train, X_test2, y_test, LogisticRegression())\n",
    "\n",
    "    compare_model_scores(cnn_score, logreg_score, 'baseline models')\n",
    "\n",
    "\n",
    "baseline_models(X_train, y_train, X_test, y_test)\n"
   ]
  },
  {
   "cell_type": "code",
   "execution_count": 169,
   "metadata": {},
   "outputs": [
    {
     "name": "stdout",
     "output_type": "stream",
     "text": [
      "Comparison of CNN against Logistic Regression (data normalisation)\n",
      "                        CNN  Logistic Regression\n",
      "Training Accuracy  0.839617              0.86625\n",
      "Testing Accuracy   0.827000              0.84390\n"
     ]
    }
   ],
   "source": [
    "def data_normalisation(X_train, y_train, X_test, y_test):\n",
    "    X_train2 = X_train.reshape((60000, 28 * 28)) / 255.0\n",
    "    X_test2 = X_test.reshape((10000, 28 * 28)) / 255.0\n",
    "\n",
    "    cnn = Sequential(layers=[\n",
    "        Dense(10, input_shape=(28 * 28,), activation='softmax')\n",
    "    ])\n",
    "    cnn.compile(optimizer='adam', loss='categorical_crossentropy',\n",
    "                metrics=['accuracy'])\n",
    "\n",
    "    cnn_score = evaluate_model(X_train2, to_categorical(\n",
    "        y_train), X_test2, to_categorical(y_test), cnn, verbose=0)\n",
    "    logreg_score = evaluate_model(\n",
    "        X_train2, y_train, X_test2, y_test, LogisticRegression())\n",
    "\n",
    "    compare_model_scores(cnn_score, logreg_score, 'data normalisation')\n",
    "\n",
    "data_normalisation(X_train, y_train, X_test, y_test)"
   ]
  },
  {
   "cell_type": "code",
   "execution_count": 170,
   "metadata": {},
   "outputs": [
    {
     "name": "stdout",
     "output_type": "stream",
     "text": [
      "Comparison of CNN against Logistic Regression (simple aggregation)\n",
      "                       CNN  Logistic Regression\n",
      "Training Accuracy  0.77585             0.823567\n",
      "Testing Accuracy   0.76360             0.812700\n"
     ]
    }
   ],
   "source": [
    "def feature_engineering_simple_agg(X_train, y_train, X_test, y_test):\n",
    "    X_train2 = X_train.reshape((60000, 28 * 28, 1)) / 255.0\n",
    "    X_test2 = X_test.reshape((10000, 28 * 28, 1)) / 255.0\n",
    "\n",
    "    X_train3 = compress(X_train2.reshape(60000, -1), chunk_size=4, agg=np.max)\n",
    "    X_test3 = compress(X_test2.reshape(10000, -1), chunk_size=4, agg=np.max)\n",
    "\n",
    "    cnn = Sequential(layers=[\n",
    "        InputLayer(input_shape=(28 * 28, 1)),\n",
    "        MaxPool1D(pool_size=(4,), strides=4),\n",
    "        Flatten(),\n",
    "        Dense(10, activation='softmax')\n",
    "    ])\n",
    "    cnn.compile(optimizer='adam', loss='categorical_crossentropy',\n",
    "                metrics=['accuracy'])\n",
    "\n",
    "    cnn_score = evaluate_model(X_train2, to_categorical(\n",
    "        y_train), X_test2, to_categorical(y_test), cnn, verbose=0)\n",
    "    logreg_score = evaluate_model(\n",
    "        X_train3, y_train, X_test3, y_test, LogisticRegression())\n",
    "\n",
    "    compare_model_scores(cnn_score, logreg_score, 'simple aggregation')\n",
    "\n",
    "feature_engineering_simple_agg(X_train, y_train, X_test, y_test)"
   ]
  },
  {
   "cell_type": "code",
   "execution_count": 59,
   "metadata": {},
   "outputs": [
    {
     "data": {
      "image/png": "[encoded data removed]",
      "text/plain": [
       "<Figure size 432x288 with 2 Axes>"
      ]
     },
     "metadata": {
      "needs_background": "light"
     },
     "output_type": "display_data"
    }
   ],
   "source": [
    "def compare_resolution_after_pooling(X_train, sample=0, kind='max'):\n",
    "    fig, ax = plt.subplots(1, 2)\n",
    "    ax[0].imshow(X_train[sample], cmap='gray')\n",
    "    ax[0].set_title(f'Before {kind} pooling')\n",
    "    agg = np.max if kind == 'max' else np.mean\n",
    "    ax[1].imshow(compress(X_train.reshape(60000, -1), chunk_size=4, agg=agg)[sample].reshape(14, 14), cmap='gray')\n",
    "    ax[1].set_title(f'After {kind} pooling')\n",
    "    plt.show()\n",
    "\n",
    "compare_resolution_after_pooling(X_train, sample=0)"
   ]
  },
  {
   "cell_type": "code",
   "execution_count": 72,
   "metadata": {},
   "outputs": [
    {
     "data": {
      "image/png": "[encoded data removed]",
      "text/plain": [
       "<Figure size 432x288 with 3 Axes>"
      ]
     },
     "metadata": {
      "needs_background": "light"
     },
     "output_type": "display_data"
    }
   ],
   "source": [
    "def compare_resolution_after_pooling_with_hilbert(X_train, sample=0, kind='max'):\n",
    "    noise_c = np.random.normal(0, 1, X_train.shape)\n",
    "    noise = np.random.normal(1, 1, X_train.shape)\n",
    "    X_train_noisy = noise * (noise_c + X_train)\n",
    "    fig, ax = plt.subplots(1, 3)\n",
    "    ax[0].imshow(X_train_noisy[sample], cmap='gray')\n",
    "    ax[0].set_title(f'Before {kind} pooling')\n",
    "    ax[0].set_xticks(ticks=(0, 27))\n",
    "    ax[0].set_yticks(ticks=(0, 27))\n",
    "\n",
    "    ax[1].imshow(sort_columns_hilbert(pad(X_train_noisy, 2, 2))[sample].reshape(32, 32), cmap='gray')\n",
    "    ax[1].set_title(f'After sorting')\n",
    "    ax[1].set_xticks(ticks=(0, 31))\n",
    "    ax[1].set_yticks(ticks=(0, 31))\n",
    "\n",
    "    agg = np.max if kind == 'max' else np.mean\n",
    "    ax[2].imshow(\n",
    "        revert_columns_hilbert(compress(sort_columns_hilbert(pad(X_train_noisy, 2, 2)), chunk_size=4, agg=agg))[sample].reshape(16, 16), cmap='gray')\n",
    "    ax[2].set_title(f'After {kind} pooling')\n",
    "    ax[2].set_xticks(ticks=(0, 15))\n",
    "    ax[2].set_yticks(ticks=(0, 15))\n",
    "\n",
    "    plt.subplots_adjust(wspace=0.3)\n",
    "    plt.show()\n",
    "\n",
    "compare_resolution_after_pooling_with_hilbert(X_train, sample=1650, kind='mean')"
   ]
  },
  {
   "cell_type": "code",
   "execution_count": 85,
   "metadata": {},
   "outputs": [
    {
     "name": "stdout",
     "output_type": "stream",
     "text": [
      "Comparison of CNN against Logistic Regression (hilbert curve aggregation)\n",
      "                        CNN  Logistic Regression\n",
      "Training Accuracy  0.781517               0.8350\n",
      "Testing Accuracy   0.771200               0.8208\n"
     ]
    }
   ],
   "source": [
    "def feature_engineering_hilb_agg(X_train, y_train, X_test, y_test):\n",
    "    X_train2 = X_train / 255.0\n",
    "    X_test2 = X_test / 255.0\n",
    "\n",
    "    X_train3 = revert_columns_hilbert(compress(sort_columns_hilbert(pad(X_train2, 2, 2)), chunk_size=4, agg=np.max))\n",
    "    X_test3 = revert_columns_hilbert(compress(sort_columns_hilbert(pad(X_test2, 2, 2)), chunk_size=4, agg=np.max))\n",
    "\n",
    "    cnn = Sequential(layers=[\n",
    "        InputLayer(input_shape=(16 * 16)),\n",
    "        Dense(10, activation='softmax')\n",
    "    ])\n",
    "    cnn.compile(optimizer='adam', loss='categorical_crossentropy',\n",
    "                metrics=['accuracy'])\n",
    "\n",
    "    cnn_score = evaluate_model(X_train3.reshape(60000, -1), to_categorical(\n",
    "        y_train), X_test3.reshape(10000, -1), to_categorical(y_test), cnn, verbose=0)\n",
    "    logreg_score = evaluate_model(\n",
    "        X_train3.reshape(60000, -1), y_train, X_test3.reshape(10000, -1), y_test, LogisticRegression())\n",
    "\n",
    "    compare_model_scores(cnn_score, logreg_score, 'hilbert curve aggregation')\n",
    "\n",
    "feature_engineering_hilb_agg(X_train, y_train, X_test, y_test)"
   ]
  },
  {
   "cell_type": "code",
   "execution_count": 21,
   "metadata": {},
   "outputs": [
    {
     "ename": "TypeError",
     "evalue": "sort_columns_hilbert() got an unexpected keyword argument 'cache'",
     "output_type": "error",
     "traceback": [
      "\u001b[1;31m---------------------------------------------------------------------------\u001b[0m",
      "\u001b[1;31mTypeError\u001b[0m                                 Traceback (most recent call last)",
      "\u001b[1;32m~\\AppData\\Local\\Temp/ipykernel_14784/1166696764.py\u001b[0m in \u001b[0;36m<module>\u001b[1;34m\u001b[0m\n\u001b[0;32m      2\u001b[0m \u001b[1;33m\u001b[0m\u001b[0m\n\u001b[0;32m      3\u001b[0m X_train3 = compress(\n\u001b[1;32m----> 4\u001b[1;33m     arr=sort_columns_hilbert(pad(X_train, 2, 2), cache='../models/reordered_train.p'), chunk_size=cs)\n\u001b[0m\u001b[0;32m      5\u001b[0m X_test3 = compress(\n\u001b[0;32m      6\u001b[0m     arr=sort_columns_hilbert(pad(X_test, 2, 2), cache='../models/reordered_test.p'), chunk_size=cs)\n",
      "\u001b[1;31mTypeError\u001b[0m: sort_columns_hilbert() got an unexpected keyword argument 'cache'"
     ]
    }
   ],
   "source": [
    "cs = 4\n",
    "\n",
    "X_train3 = compress(\n",
    "    arr=sort_columns_hilbert(pad(X_train, 2, 2), cache='../models/reordered_train.p'), chunk_size=cs)\n",
    "X_test3 = compress(\n",
    "    arr=sort_columns_hilbert(pad(X_test, 2, 2), cache='../models/reordered_test.p'), chunk_size=cs)\n",
    "evaluate_model(X_train3, y_train, X_test3, y_test,\n",
    "               LogisticRegression(max_iter=20))\n"
   ]
  },
  {
   "cell_type": "code",
   "execution_count": null,
   "metadata": {},
   "outputs": [
    {
     "name": "stdout",
     "output_type": "stream",
     "text": [
      "Iteration 4 / 32"
     ]
    },
    {
     "ename": "KeyboardInterrupt",
     "evalue": "",
     "output_type": "error",
     "traceback": [
      "\u001b[1;31m---------------------------------------------------------------------------\u001b[0m",
      "\u001b[1;31mKeyboardInterrupt\u001b[0m                         Traceback (most recent call last)",
      "\u001b[1;32m~\\AppData\\Local\\Temp/ipykernel_10032/3771272247.py\u001b[0m in \u001b[0;36m<module>\u001b[1;34m\u001b[0m\n\u001b[0;32m     11\u001b[0m     \u001b[1;32mreturn\u001b[0m \u001b[0mnp\u001b[0m\u001b[1;33m.\u001b[0m\u001b[0marray\u001b[0m\u001b[1;33m(\u001b[0m\u001b[0mscores\u001b[0m\u001b[1;33m)\u001b[0m\u001b[1;33m\u001b[0m\u001b[1;33m\u001b[0m\u001b[0m\n\u001b[0;32m     12\u001b[0m \u001b[1;33m\u001b[0m\u001b[0m\n\u001b[1;32m---> 13\u001b[1;33m \u001b[0mgrid_search_chunk_size\u001b[0m \u001b[1;33m=\u001b[0m \u001b[0mfind_best_cs\u001b[0m\u001b[1;33m(\u001b[0m\u001b[0mX_train\u001b[0m\u001b[1;33m,\u001b[0m \u001b[0mX_test\u001b[0m\u001b[1;33m,\u001b[0m \u001b[0my_train\u001b[0m\u001b[1;33m,\u001b[0m \u001b[0my_test\u001b[0m\u001b[1;33m)\u001b[0m\u001b[1;33m\u001b[0m\u001b[1;33m\u001b[0m\u001b[0m\n\u001b[0m",
      "\u001b[1;32m~\\AppData\\Local\\Temp/ipykernel_10032/3771272247.py\u001b[0m in \u001b[0;36mfind_best_cs\u001b[1;34m(X_train, X_test, y_train, y_test, start, end)\u001b[0m\n\u001b[0;32m      3\u001b[0m     \u001b[1;32mfor\u001b[0m \u001b[0mi\u001b[0m \u001b[1;32min\u001b[0m \u001b[0mrange\u001b[0m\u001b[1;33m(\u001b[0m\u001b[0mstart\u001b[0m\u001b[1;33m,\u001b[0m \u001b[0mend\u001b[0m \u001b[1;33m+\u001b[0m \u001b[1;36m1\u001b[0m\u001b[1;33m)\u001b[0m\u001b[1;33m:\u001b[0m\u001b[1;33m\u001b[0m\u001b[1;33m\u001b[0m\u001b[0m\n\u001b[0;32m      4\u001b[0m         \u001b[0mprint\u001b[0m\u001b[1;33m(\u001b[0m\u001b[1;34mf'\\rIteration {i} / {end}'\u001b[0m\u001b[1;33m,\u001b[0m \u001b[0mend\u001b[0m\u001b[1;33m=\u001b[0m\u001b[1;34m''\u001b[0m\u001b[1;33m)\u001b[0m\u001b[1;33m\u001b[0m\u001b[1;33m\u001b[0m\u001b[0m\n\u001b[1;32m----> 5\u001b[1;33m         X_train_ = compress(\n\u001b[0m\u001b[0;32m      6\u001b[0m             arr=sort_columns_hilbert(pad(X_train, 2, 2), cache='../models/reordered_train.p'), chunk_size=i)\n\u001b[0;32m      7\u001b[0m         X_test_ = compress(\n",
      "\u001b[1;32m~\\AppData\\Local\\Temp/ipykernel_10032/2981078281.py\u001b[0m in \u001b[0;36mcompress\u001b[1;34m(arr, chunk_size, agg)\u001b[0m\n\u001b[0;32m      3\u001b[0m         \u001b[0marr_copy\u001b[0m \u001b[1;33m=\u001b[0m \u001b[0mnp\u001b[0m\u001b[1;33m.\u001b[0m\u001b[0mempty\u001b[0m\u001b[1;33m(\u001b[0m\u001b[0mshape\u001b[0m\u001b[1;33m=\u001b[0m\u001b[1;33m(\u001b[0m\u001b[0marr\u001b[0m\u001b[1;33m.\u001b[0m\u001b[0mshape\u001b[0m\u001b[1;33m[\u001b[0m\u001b[1;36m0\u001b[0m\u001b[1;33m]\u001b[0m\u001b[1;33m,\u001b[0m \u001b[1;36m0\u001b[0m\u001b[1;33m)\u001b[0m\u001b[1;33m)\u001b[0m\u001b[1;33m\u001b[0m\u001b[1;33m\u001b[0m\u001b[0m\n\u001b[0;32m      4\u001b[0m         \u001b[1;32mfor\u001b[0m \u001b[0marr_\u001b[0m \u001b[1;32min\u001b[0m \u001b[0mnp\u001b[0m\u001b[1;33m.\u001b[0m\u001b[0marray_split\u001b[0m\u001b[1;33m(\u001b[0m\u001b[0mary\u001b[0m\u001b[1;33m=\u001b[0m\u001b[0marr\u001b[0m\u001b[1;33m,\u001b[0m \u001b[0mindices_or_sections\u001b[0m\u001b[1;33m=\u001b[0m\u001b[1;36m1024\u001b[0m \u001b[1;33m/\u001b[0m \u001b[0mchunk_size\u001b[0m\u001b[1;33m,\u001b[0m \u001b[0maxis\u001b[0m\u001b[1;33m=\u001b[0m\u001b[1;36m1\u001b[0m\u001b[1;33m)\u001b[0m\u001b[1;33m:\u001b[0m\u001b[1;33m\u001b[0m\u001b[1;33m\u001b[0m\u001b[0m\n\u001b[1;32m----> 5\u001b[1;33m             \u001b[0marr_copy\u001b[0m \u001b[1;33m=\u001b[0m \u001b[0mnp\u001b[0m\u001b[1;33m.\u001b[0m\u001b[0mconcatenate\u001b[0m\u001b[1;33m(\u001b[0m\u001b[1;33m(\u001b[0m\u001b[0marr_copy\u001b[0m\u001b[1;33m,\u001b[0m \u001b[0magg\u001b[0m\u001b[1;33m(\u001b[0m\u001b[0marr_\u001b[0m\u001b[1;33m,\u001b[0m \u001b[0maxis\u001b[0m\u001b[1;33m=\u001b[0m\u001b[1;36m1\u001b[0m\u001b[1;33m)\u001b[0m\u001b[1;33m.\u001b[0m\u001b[0mreshape\u001b[0m\u001b[1;33m(\u001b[0m\u001b[1;33m(\u001b[0m\u001b[1;33m-\u001b[0m\u001b[1;36m1\u001b[0m\u001b[1;33m,\u001b[0m \u001b[1;36m1\u001b[0m\u001b[1;33m)\u001b[0m\u001b[1;33m)\u001b[0m\u001b[1;33m)\u001b[0m\u001b[1;33m,\u001b[0m \u001b[0maxis\u001b[0m\u001b[1;33m=\u001b[0m\u001b[1;36m1\u001b[0m\u001b[1;33m)\u001b[0m\u001b[1;33m\u001b[0m\u001b[1;33m\u001b[0m\u001b[0m\n\u001b[0m\u001b[0;32m      6\u001b[0m         \u001b[1;32mreturn\u001b[0m \u001b[0marr_copy\u001b[0m\u001b[1;33m\u001b[0m\u001b[1;33m\u001b[0m\u001b[0m\n\u001b[0;32m      7\u001b[0m     \u001b[1;32melse\u001b[0m\u001b[1;33m:\u001b[0m\u001b[1;33m\u001b[0m\u001b[1;33m\u001b[0m\u001b[0m\n",
      "\u001b[1;32m<__array_function__ internals>\u001b[0m in \u001b[0;36mconcatenate\u001b[1;34m(*args, **kwargs)\u001b[0m\n",
      "\u001b[1;31mKeyboardInterrupt\u001b[0m: "
     ]
    }
   ],
   "source": [
    "# def find_best_cs(X_train, X_test, y_train, y_test, start=2, end=32):\n",
    "#     scores = []\n",
    "#     for i in range(start, end + 1):\n",
    "#         print(f'\\rIteration {i} / {end}', end='')\n",
    "#         X_train_ = compress(\n",
    "#             arr=sort_columns_hilbert(pad(X_train, 2, 2), cache='../models/reordered_train.p'), chunk_size=i)\n",
    "#         X_test_ = compress(\n",
    "#             arr=sort_columns_hilbert(pad(X_test, 2, 2), cache='../models/reordered_test.p'), chunk_size=i)\n",
    "#         scores.append([*evaluate_model(X_train_, y_train, X_test_, y_test,\n",
    "#                        LogisticRegression(max_iter=10))])\n",
    "#     return np.array(scores)\n",
    "\n",
    "# grid_search_chunk_size = find_best_cs(X_train, X_test, y_train, y_test)"
   ]
  },
  {
   "cell_type": "code",
   "execution_count": null,
   "metadata": {},
   "outputs": [],
   "source": [
    "# save_obj_to_binary(obj=grid_search_chunk_size, filepath='../models/grid_search_cs.p')"
   ]
  },
  {
   "cell_type": "code",
   "execution_count": null,
   "metadata": {},
   "outputs": [],
   "source": [
    "sb.lineplot(list(range(grid_search_chunk_size.shape[0])), grid_search_chunk_size[:,0])\n",
    "sb.lineplot(list(range(grid_search_chunk_size.shape[0])), grid_search_chunk_size[:,1])"
   ]
  },
  {
   "cell_type": "code",
   "execution_count": null,
   "metadata": {},
   "outputs": [],
   "source": [
    "X_test4 = X_test3 / 255.0\n",
    "X_train4 = X_train3 / 255.0\n",
    "\n",
    "evaluate_model(X_train4, y_train, X_test4, y_test, LogisticRegression(max_iter=20))"
   ]
  }
 ],
 "metadata": {
  "interpreter": {
   "hash": "fec9a1d92292a2da5d1dcede0f24d95aeecb6db763b2e0b61af8984e778b9231"
  },
  "kernelspec": {
   "display_name": "Python 3.9.7 64-bit ('.venv': pipenv)",
   "name": "python3"
  },
  "language_info": {
   "codemirror_mode": {
    "name": "ipython",
    "version": 3
   },
   "file_extension": ".py",
   "mimetype": "text/x-python",
   "name": "python",
   "nbconvert_exporter": "python",
   "pygments_lexer": "ipython3",
   "version": "3.9.7"
  },
  "orig_nbformat": 4
 },
 "nbformat": 4,
 "nbformat_minor": 2
}

{
 "cells": [
  {
   "cell_type": "code",
   "execution_count": null,
   "metadata": {},
   "outputs": [],
   "source": [
    "import tensorflow as tf\n",
    "import pandas as pd\n",
    "import numpy as np\n",
    "import matplotlib.pyplot as plt\n",
    "import seaborn as sb\n",
    "from sklearn.linear_model import LogisticRegression\n",
    "import warnings"
   ]
  },
  {
   "cell_type": "code",
   "execution_count": null,
   "metadata": {},
   "outputs": [],
   "source": [
    "warnings.filterwarnings('ignore')"
   ]
  },
  {
   "cell_type": "code",
   "execution_count": null,
   "metadata": {},
   "outputs": [],
   "source": [
    "(X_train, y_train), (X_test, y_test) =tf.keras.datasets.mnist.load_data()"
   ]
  },
  {
   "cell_type": "code",
   "execution_count": null,
   "metadata": {},
   "outputs": [],
   "source": [
    "print(X_train.shape, X_test.shape)\n",
    "print(y_train.shape, y_test.shape)"
   ]
  },
  {
   "cell_type": "code",
   "execution_count": null,
   "metadata": {},
   "outputs": [],
   "source": [
    "plt.figure()\n",
    "plt.title(label=f'Digit: {y_train[0]}')\n",
    "plt.imshow(X=X_train[0], cmap='gray')"
   ]
  },
  {
   "cell_type": "code",
   "execution_count": null,
   "metadata": {},
   "outputs": [],
   "source": [
    "def pad(arr: np.ndarray, h_pad: int = 0, v_pad: int = 0):\n",
    "    rows = len(arr)\n",
    "\n",
    "    horizontal_pad = np.zeros(shape=(rows, arr.shape[1], h_pad))\n",
    "    vertical_pad = np.zeros(shape=(rows, v_pad, arr.shape[2] + h_pad * 2))\n",
    "\n",
    "    arr_copy = np.concatenate((horizontal_pad, arr, horizontal_pad), axis=2)\n",
    "    arr_copy = np.concatenate((vertical_pad, arr_copy, vertical_pad), axis=1)\n",
    "\n",
    "    return arr_copy\n"
   ]
  },
  {
   "cell_type": "code",
   "execution_count": null,
   "metadata": {},
   "outputs": [],
   "source": [
    "def sort_columns_hilbert(arr, cache=None):\n",
    "    arr_copy = arr.copy()\n",
    "    rows = len(arr_copy)\n",
    "\n",
    "    arr_shape = arr.shape\n",
    "\n",
    "    from math import log2\n",
    "\n",
    "    if cache is None:\n",
    "        from hilbertcurve.hilbertcurve import HilbertCurve\n",
    "        hcurve = HilbertCurve(log2(arr_shape[1]), 2)\n",
    "        h_arr = np.array(hcurve.points_from_distances(range(arr_shape[1] ** 2)))\n",
    "        arr_resorted = np.empty(shape=(rows, 0))\n",
    "        for i, (r, c) in enumerate(h_arr):\n",
    "            arr_resorted = np.concatenate((arr_resorted, arr_copy[:, r, c].reshape(-1, 1)), axis=1)\n",
    "            print(f'\\ri={i};r={r};c={c}', end='')\n",
    "        arr_resorted.shape\n",
    "    else:\n",
    "        import pickle\n",
    "        with open(file=cache, mode='rb') as f:\n",
    "            arr_resorted = pickle.load(f)\n",
    "    \n",
    "    return arr_resorted"
   ]
  },
  {
   "cell_type": "code",
   "execution_count": null,
   "metadata": {},
   "outputs": [],
   "source": [
    "def compress(arr, chunk_size=4, agg=np.mean):\n",
    "    if chunk_size > 1:\n",
    "        arr_copy = np.empty(shape=(arr.shape[0], 0))\n",
    "        for arr_ in np.array_split(ary=arr, indices_or_sections=1024 / chunk_size, axis=1):\n",
    "            arr_copy = np.concatenate((arr_copy, agg(arr_, axis=1).reshape((-1, 1))), axis=1)\n",
    "        return arr_copy\n",
    "    else:\n",
    "        return arr"
   ]
  },
  {
   "cell_type": "code",
   "execution_count": null,
   "metadata": {},
   "outputs": [],
   "source": [
    "def save_obj_to_binary(obj, filepath):\n",
    "    import pickle\n",
    "    try:\n",
    "        with open(file=filepath, mode='wb') as f:\n",
    "            pickle.dump(obj=obj, file=f)\n",
    "        return 0\n",
    "    except:\n",
    "        return 1"
   ]
  },
  {
   "cell_type": "code",
   "execution_count": null,
   "metadata": {},
   "outputs": [],
   "source": [
    "def evaluate_model(X_train, y_train, X_test, y_test, model):\n",
    "    from sklearn.metrics import accuracy_score\n",
    "\n",
    "    model.fit(X_train, y_train)\n",
    "    \n",
    "    acc = accuracy_score(y_train, model.predict(X_train))\n",
    "    val_acc = accuracy_score(y_test, model.predict(X_test))\n",
    "\n",
    "    return acc, val_acc"
   ]
  },
  {
   "cell_type": "code",
   "execution_count": null,
   "metadata": {},
   "outputs": [],
   "source": [
    "cs = 4\n",
    "\n",
    "X_train2 = compress(X_train.reshape((60000, 28 * 28)), chunk_size=cs)\n",
    "X_test2 = compress(X_test.reshape((10000, 28 * 28)), chunk_size=cs)\n",
    "\n",
    "evaluate_model(X_train2, y_train, X_test2, y_test, LogisticRegression(max_iter=20))"
   ]
  },
  {
   "cell_type": "code",
   "execution_count": null,
   "metadata": {},
   "outputs": [],
   "source": [
    "cs = 4\n",
    "\n",
    "X_train3 = compress(\n",
    "    arr=sort_columns_hilbert(pad(X_train, 2, 2), cache='../models/reordered_train.p'), chunk_size=cs)\n",
    "X_test3 = compress(\n",
    "    arr=sort_columns_hilbert(pad(X_test, 2, 2), cache='../models/reordered_test.p'), chunk_size=cs)\n",
    "evaluate_model(X_train3, y_train, X_test3, y_test,\n",
    "               LogisticRegression(max_iter=20))\n"
   ]
  },
  {
   "cell_type": "code",
   "execution_count": null,
   "metadata": {},
   "outputs": [],
   "source": [
    "def find_best_cs(X_train, X_test, y_train, y_test, start=2, end=32):\n",
    "    scores = []\n",
    "    for i in range(start, end + 1):\n",
    "        print(f'\\rIteration {i} / {end}', end='')\n",
    "        X_train_ = compress(\n",
    "            arr=sort_columns_hilbert(pad(X_train, 2, 2), cache='../models/reordered_train.p'), chunk_size=i)\n",
    "        X_test_ = compress(\n",
    "            arr=sort_columns_hilbert(pad(X_test, 2, 2), cache='../models/reordered_test.p'), chunk_size=i)\n",
    "        scores.append([*evaluate_model(X_train_, y_train, X_test_, y_test,\n",
    "                       LogisticRegression(max_iter=10))])\n",
    "    return np.array(scores)\n",
    "\n",
    "grid_search_chunk_size = find_best_cs(X_train, X_test, y_train, y_test)"
   ]
  },
  {
   "cell_type": "code",
   "execution_count": null,
   "metadata": {},
   "outputs": [],
   "source": [
    "# save_obj_to_binary(obj=grid_search_chunk_size, filepath='../models/grid_search_cs.p')"
   ]
  },
  {
   "cell_type": "code",
   "execution_count": null,
   "metadata": {},
   "outputs": [],
   "source": [
    "sb.lineplot(list(range(grid_search_chunk_size.shape[0])), grid_search_chunk_size[:,0])\n",
    "sb.lineplot(list(range(grid_search_chunk_size.shape[0])), grid_search_chunk_size[:,1])"
   ]
  },
  {
   "cell_type": "code",
   "execution_count": null,
   "metadata": {},
   "outputs": [],
   "source": [
    "X_test4 = X_test3 / 255.0\n",
    "X_train4 = X_train3 / 255.0\n",
    "\n",
    "evaluate_model(X_train4, y_train, X_test4, y_test, LogisticRegression(max_iter=20))"
   ]
  }
 ],
 "metadata": {
  "interpreter": {
   "hash": "fec9a1d92292a2da5d1dcede0f24d95aeecb6db763b2e0b61af8984e778b9231"
  },
  "kernelspec": {
   "display_name": "Python 3.9.7 64-bit ('.venv': pipenv)",
   "name": "python3"
  },
  "language_info": {
   "codemirror_mode": {
    "name": "ipython",
    "version": 3
   },
   "file_extension": ".py",
   "mimetype": "text/x-python",
   "name": "python",
   "nbconvert_exporter": "python",
   "pygments_lexer": "ipython3",
   "version": "3.9.7"
  },
  "orig_nbformat": 4
 },
 "nbformat": 4,
 "nbformat_minor": 2
}

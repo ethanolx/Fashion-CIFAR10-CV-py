{
  "nbformat": 4,
  "nbformat_minor": 0,
  "metadata": {
    "interpreter": {
      "hash": "fec9a1d92292a2da5d1dcede0f24d95aeecb6db763b2e0b61af8984e778b9231"
    },
    "kernelspec": {
      "display_name": "Python 3.9.7 64-bit ('.venv': pipenv)",
      "name": "python3"
    },
    "language_info": {
      "codemirror_mode": {
        "name": "ipython",
        "version": 3
      },
      "file_extension": ".py",
      "mimetype": "text/x-python",
      "name": "python",
      "nbconvert_exporter": "python",
      "pygments_lexer": "ipython3",
      "version": "3.9.7"
    },
    "orig_nbformat": 4,
    "colab": {
      "name": "explore.ipynb",
      "provenance": [],
      "collapsed_sections": []
    }
  },
  "cells": [
    {
      "cell_type": "code",
      "metadata": {
        "id": "ir3CB29LJhZU"
      },
      "source": [
        "import tensorflow as tf\n",
        "import pandas as pd\n",
        "import numpy as np\n",
        "import matplotlib.pyplot as plt\n",
        "import seaborn as sb\n",
        "from sklearn.linear_model import LogisticRegression\n",
        "import warnings\n",
        "\n",
        "from tensorflow.keras.utils import to_categorical\n",
        "from tensorflow.keras.models import Sequential\n",
        "from tensorflow.keras.layers import Dense, InputLayer, Conv1D, Conv2D, Flatten, MaxPool1D, MaxPool2D"
      ],
      "execution_count": 2,
      "outputs": []
    },
    {
      "cell_type": "code",
      "metadata": {
        "id": "IiBXHVNXJhZd"
      },
      "source": [
        "warnings.filterwarnings('ignore')"
      ],
      "execution_count": 3,
      "outputs": []
    },
    {
      "cell_type": "code",
      "metadata": {
        "colab": {
          "base_uri": "https://localhost:8080/"
        },
        "id": "QGHe1meVJhZf",
        "outputId": "0a7ecc8f-a087-4907-a4b3-9c746aa5d2e0"
      },
      "source": [
        "(X_train, y_train), (X_test, y_test) = \\\n",
        "tf.keras.datasets.fashion_mnist.load_data()"
      ],
      "execution_count": 4,
      "outputs": [
        {
          "output_type": "stream",
          "name": "stdout",
          "text": [
            "Downloading data from https://storage.googleapis.com/tensorflow/tf-keras-datasets/train-labels-idx1-ubyte.gz\n",
            "32768/29515 [=================================] - 0s 0us/step\n",
            "40960/29515 [=========================================] - 0s 0us/step\n",
            "Downloading data from https://storage.googleapis.com/tensorflow/tf-keras-datasets/train-images-idx3-ubyte.gz\n",
            "26427392/26421880 [==============================] - 1s 0us/step\n",
            "26435584/26421880 [==============================] - 1s 0us/step\n",
            "Downloading data from https://storage.googleapis.com/tensorflow/tf-keras-datasets/t10k-labels-idx1-ubyte.gz\n",
            "16384/5148 [===============================================================================================] - 0s 0us/step\n",
            "Downloading data from https://storage.googleapis.com/tensorflow/tf-keras-datasets/t10k-images-idx3-ubyte.gz\n",
            "4423680/4422102 [==============================] - 0s 0us/step\n",
            "4431872/4422102 [==============================] - 0s 0us/step\n"
          ]
        }
      ]
    },
    {
      "cell_type": "code",
      "metadata": {
        "id": "TrLZJLF4J3uc"
      },
      "source": [
        "labels = [\n",
        "  'T-shirt/top',\n",
        "  'Trouser',\n",
        "  'Pullover',\n",
        "  'Dress',\n",
        "  'Coat',\n",
        "  'Sandal',\n",
        "  'Shirt',\n",
        "  'Sneaker',\n",
        "  'Bag',\n",
        "  'Ankle boot'\n",
        "]"
      ],
      "execution_count": 5,
      "outputs": []
    },
    {
      "cell_type": "code",
      "metadata": {
        "colab": {
          "base_uri": "https://localhost:8080/"
        },
        "id": "ycGQ25mpJhZh",
        "outputId": "534977de-6fad-4d98-9be4-d6919509524c"
      },
      "source": [
        "print(X_train.shape, X_test.shape)\n",
        "print(y_train.shape, y_test.shape)"
      ],
      "execution_count": 6,
      "outputs": [
        {
          "output_type": "stream",
          "name": "stdout",
          "text": [
            "(60000, 28, 28) (10000, 28, 28)\n",
            "(60000,) (10000,)\n"
          ]
        }
      ]
    },
    {
      "cell_type": "code",
      "metadata": {
        "colab": {
          "base_uri": "https://localhost:8080/",
          "height": 299
        },
        "id": "IeA_NcZ1JhZj",
        "outputId": "7a995f70-77b5-401c-e0a2-617524c2f798"
      },
      "source": [
        "plt.figure()\n",
        "plt.title(label=f'Item: {labels[y_train[0]]}')\n",
        "plt.imshow(X=X_train[0], cmap='gray')"
      ],
      "execution_count": 7,
      "outputs": [
        {
          "output_type": "execute_result",
          "data": {
            "text/plain": [
              "<matplotlib.image.AxesImage at 0x7f406a22dfd0>"
            ]
          },
          "metadata": {},
          "execution_count": 7
        },
        {
          "output_type": "display_data",
          "data": {
            "image/png": "[encoded data removed]",
            "text/plain": [
              "<Figure size 432x288 with 1 Axes>"
            ]
          },
          "metadata": {
            "needs_background": "light"
          }
        }
      ]
    },
    {
      "cell_type": "code",
      "metadata": {
        "id": "e5-rI8r1JhZl"
      },
      "source": [
        "def pad(arr: np.ndarray, h_pad: int = 0, v_pad: int = 0):\n",
        "    rows = len(arr)\n",
        "\n",
        "    horizontal_pad = np.zeros(shape=(rows, arr.shape[1], h_pad))\n",
        "    vertical_pad = np.zeros(shape=(rows, v_pad, arr.shape[2] + h_pad * 2))\n",
        "\n",
        "    arr_copy = np.concatenate((horizontal_pad, arr, horizontal_pad), axis=2)\n",
        "    arr_copy = np.concatenate((vertical_pad, arr_copy, vertical_pad), axis=1)\n",
        "\n",
        "    return arr_copy"
      ],
      "execution_count": 8,
      "outputs": []
    },
    {
      "cell_type": "code",
      "metadata": {
        "colab": {
          "base_uri": "https://localhost:8080/",
          "height": 281
        },
        "id": "rz1jU8gcZugk",
        "outputId": "8237b066-0dd2-4074-f4c9-3ad5dc83fd2f"
      },
      "source": [
        "def compare_padded_image(X_train, h_pad=2, v_pad=2, sample=0):\n",
        "    fig, ax = plt.subplots(1, 2)\n",
        "    image = X_train[sample]\n",
        "\n",
        "    ax[0].imshow(image, cmap='gray')\n",
        "    ax[0].set_title('Before Padding')\n",
        "    ax[0].set_xticks(ticks=[0, image.shape[0] - 1])\n",
        "    ax[0].set_yticks(ticks=[0, image.shape[1] - 1])\n",
        "\n",
        "    ax[1].imshow(pad(X_train, h_pad=h_pad, v_pad=v_pad)[sample], cmap='gray')\n",
        "    ax[1].set_title(f'After Padding ({h_pad}, {v_pad})')\n",
        "    ax[1].set_xticks(ticks=[0, image.shape[0] + h_pad * 2 - 1])\n",
        "    ax[1].set_yticks(ticks=[0, image.shape[1] + v_pad * 2 - 1])\n",
        "\n",
        "    plt.axis('scaled')\n",
        "\n",
        "compare_padded_image(X_train, 0, 8)"
      ],
      "execution_count": 82,
      "outputs": [
        {
          "output_type": "display_data",
          "data": {
            "image/png": "[encoded data removed]",
            "text/plain": [
              "<Figure size 432x288 with 2 Axes>"
            ]
          },
          "metadata": {
            "needs_background": "light"
          }
        }
      ]
    },
    {
      "cell_type": "code",
      "metadata": {
        "colab": {
          "base_uri": "https://localhost:8080/",
          "height": 216
        },
        "id": "emF-Lqy1focm",
        "outputId": "4be6873a-fc40-4411-8667-0e2f44a5f6da"
      },
      "source": [
        "compare_padded_image(X_train, sample=0, h_pad=2, v_pad=2)"
      ],
      "execution_count": 83,
      "outputs": [
        {
          "output_type": "display_data",
          "data": {
            "image/png": "[encoded data removed]",
            "text/plain": [
              "<Figure size 432x288 with 2 Axes>"
            ]
          },
          "metadata": {
            "needs_background": "light"
          }
        }
      ]
    },
    {
      "cell_type": "code",
      "metadata": {
        "colab": {
          "base_uri": "https://localhost:8080/",
          "height": 265
        },
        "id": "TtPDCYpCJhZx",
        "outputId": "d525a583-cc1a-4398-99fc-8b52716a4dd0"
      },
      "source": [
        "def plot_simple_flatten(side_length):\n",
        "    d = [(side_length - r - 1, c) for c in range(side_length) for r in range(side_length)]\n",
        "    x = np.array(d).T\n",
        "    plt.plot(x[0], x[1])\n",
        "    plt.xlim(-0.1, side_length ** 2 + 0.1)\n",
        "    plt.ylim(-0.1, side_length ** 2 + 0.1)\n",
        "    plt.axis('scaled')\n",
        "    plt.plot(0, 26, 'o-r', ms=8, mfc='none')\n",
        "    plt.plot(27, 27, 'o-r', ms=8, mfc='none')\n",
        "    plt.show()\n",
        "\n",
        "plot_simple_flatten(28)"
      ],
      "execution_count": 15,
      "outputs": [
        {
          "output_type": "display_data",
          "data": {
            "image/png": "[encoded data removed]",
            "text/plain": [
              "<Figure size 432x288 with 1 Axes>"
            ]
          },
          "metadata": {
            "needs_background": "light"
          }
        }
      ]
    },
    {
      "cell_type": "code",
      "metadata": {
        "colab": {
          "base_uri": "https://localhost:8080/",
          "height": 265
        },
        "id": "Bznf5NJ-JhZx",
        "outputId": "4349fb45-9b6c-43a9-b6c5-2b8e21d44f1c"
      },
      "source": [
        "def plot_snake_flatten(side_length):\n",
        "    ls = []\n",
        "    for r in range(side_length):\n",
        "        for c in range(0, side_length):\n",
        "            if r % 2 == 0:\n",
        "                ls.append((r, c))\n",
        "            else:\n",
        "                ls.append((r, side_length - c - 1))\n",
        "    x = np.array(ls).T\n",
        "    plt.plot(x[1], x[0])\n",
        "    plt.xlim(-0.1, side_length ** 2 + 0.1)\n",
        "    plt.ylim(-0.1, side_length ** 2 + 0.1)\n",
        "    plt.axis('scaled')\n",
        "    plt.show()\n",
        "\n",
        "plot_snake_flatten(28)"
      ],
      "execution_count": 18,
      "outputs": [
        {
          "output_type": "display_data",
          "data": {
            "image/png": "[encoded data removed]",
            "text/plain": [
              "<Figure size 432x288 with 1 Axes>"
            ]
          },
          "metadata": {
            "needs_background": "light"
          }
        }
      ]
    },
    {
      "cell_type": "code",
      "metadata": {
        "colab": {
          "base_uri": "https://localhost:8080/",
          "height": 265
        },
        "id": "NbnKJpzqJhZw",
        "outputId": "da89ee9c-30df-490c-8ccd-98986b96d1e5"
      },
      "source": [
        "from hilbertcurve.hilbertcurve import HilbertCurve\n",
        "from math import log2\n",
        "def plot_hilbert_curve(side_length):\n",
        "    d = np.array(HilbertCurve(log2(side_length), 2).points_from_distances(range(side_length ** 2))).T\n",
        "    plt.plot(d[1], d[0])\n",
        "    plt.xlim(-0.1, side_length ** 2 + 0.1)\n",
        "    plt.ylim(-0.1, side_length ** 2 + 0.1)\n",
        "    plt.axis('scaled')\n",
        "    plt.show()\n",
        "\n",
        "plot_hilbert_curve(32)"
      ],
      "execution_count": 22,
      "outputs": [
        {
          "output_type": "display_data",
          "data": {
            "image/png": "[encoded data removed]",
            "text/plain": [
              "<Figure size 432x288 with 1 Axes>"
            ]
          },
          "metadata": {
            "needs_background": "light"
          }
        }
      ]
    },
    {
      "cell_type": "code",
      "metadata": {
        "id": "rZHoQOCLJhZ2"
      },
      "source": [
        "def sort_columns_snake(arr):\n",
        "    arr_copy = arr.copy()\n",
        "    arr_shape = arr.shape\n",
        "\n",
        "    assert len(arr_shape) == 3, f\"Samples must be 2-Dimensional\"\n",
        "\n",
        "    return np.concatenate([arr_copy[:, i] if i % 2 == 0 else arr_copy[:, i, ::-1] for i in range(arr_shape[1])], axis=1)\n"
      ],
      "execution_count": 26,
      "outputs": []
    },
    {
      "cell_type": "code",
      "metadata": {
        "id": "LylOu3Z-JhZ3"
      },
      "source": [
        "def revert_columns_snake(arr):\n",
        "    arr_copy = arr.copy()\n",
        "    arr_shape = arr.shape\n",
        "\n",
        "    assert len(arr_shape) == 2, f\"Samples must be 1-Dimensional\"\n",
        "    assert arr_shape[1] ** 0.5 == int(arr_shape[1] **\n",
        "                                      0.5), f\"Sample length must be a square number\"\n",
        "\n",
        "    chunk_size = int(arr_shape[1] ** 0.5)\n",
        "\n",
        "    return np.concatenate([arr_copy[:, i * chunk_size: (i + 1) * chunk_size] if i % 2 == 0 else arr_copy[:, (i + 1) * chunk_size - 1: i * chunk_size - 1:-1] for i in range(chunk_size)], axis=1).reshape(-1, chunk_size, chunk_size)\n"
      ],
      "execution_count": 28,
      "outputs": []
    },
    {
      "cell_type": "code",
      "metadata": {
        "id": "VZvf53IIJhZp"
      },
      "source": [
        "def sort_columns_hilbert(arr):\n",
        "    arr_copy = arr.copy()\n",
        "    arr_shape = arr.shape\n",
        "\n",
        "    assert arr_shape[1] == arr_shape[2], f\"Samples must have square dimensions: {arr_shape[1]} != {arr_shape[2]}\"\n",
        "\n",
        "    from math import log2\n",
        "    from hilbertcurve.hilbertcurve import HilbertCurve\n",
        "\n",
        "    hcurve = HilbertCurve(log2(arr_shape[1]), 2)\n",
        "    h_arr = np.array(hcurve.points_from_distances(range(arr_shape[1] ** 2)))\n",
        "    mask = h_arr[:, 0] * arr_shape[1] + h_arr[:, 1]\n",
        "    arr_resorted = arr_copy.reshape(-1, arr_shape[1] ** 2)[:, mask]\n",
        "    \n",
        "    return arr_resorted"
      ],
      "execution_count": 23,
      "outputs": []
    },
    {
      "cell_type": "code",
      "metadata": {
        "id": "XVcscXX1JhZq"
      },
      "source": [
        "def revert_columns_hilbert(arr):\n",
        "    arr_copy = arr.copy()\n",
        "    arr_shape = arr.shape\n",
        "\n",
        "    assert len(arr_shape) == 2, f\"Samples must be 1-Dimensional\"\n",
        "    assert arr_shape[1] ** 0.5 == int(arr_shape[1] ** 0.5), f\"Sample length must be a square number\"\n",
        "\n",
        "    from math import log2\n",
        "    from hilbertcurve.hilbertcurve import HilbertCurve\n",
        "\n",
        "    side_length = int(arr_shape[1] ** 0.5)\n",
        "    hcurve = HilbertCurve(int(side_length), 2)\n",
        "    h_arr = np.array(hcurve.points_from_distances(range(arr_shape[1])))\n",
        "    mask_transform = h_arr[:, 0] * side_length + h_arr[:, 1]\n",
        "    mask = np.empty(shape=(arr_shape[1],), dtype=int)\n",
        "    mask[mask_transform] = np.arange(arr_shape[1])\n",
        "    arr_resorted = arr_copy[:, mask].reshape(-1, side_length, side_length)\n",
        "    if int(log2(side_length)) % 2 == 1:\n",
        "        return arr_resorted.transpose((0, 2, 1))\n",
        "    return arr_resorted"
      ],
      "execution_count": 24,
      "outputs": []
    },
    {
      "cell_type": "code",
      "metadata": {
        "id": "-POygNpOJhZs"
      },
      "source": [
        "# np.random.seed(2)\n",
        "# for i in range(1, 10):\n",
        "#     A = np.random.randint(0, 10, size=(3, 2 ** i, 2 ** i))\n",
        "#     print(2 ** i, np.abs(A - revert_columns_hilbert(sort_columns_hilbert(A))).sum())"
      ],
      "execution_count": null,
      "outputs": []
    },
    {
      "cell_type": "code",
      "metadata": {
        "id": "xpqS2rDzJhZw"
      },
      "source": [
        "# plt.imshow(revert_columns_hilbert(sort_columns_hilbert(pad(X_train, 2, 2)))[0].reshape(32, 32), cmap='gray')"
      ],
      "execution_count": 25,
      "outputs": []
    },
    {
      "cell_type": "code",
      "metadata": {
        "id": "bf6sH_MTJhZy"
      },
      "source": [
        "def compress(arr, chunk_size=4, agg=np.mean):\n",
        "    assert len(arr.shape) == 2, \"Samples must be 1-Dimensional\"\n",
        "    if chunk_size > 1:\n",
        "        arr_copy = np.empty(shape=(arr.shape[0], 0))\n",
        "        for arr_ in np.array_split(ary=arr, indices_or_sections=arr.shape[1] // chunk_size, axis=1):\n",
        "            arr_copy = np.concatenate((arr_copy, agg(arr_, axis=1).reshape((-1, 1))), axis=1)\n",
        "        return arr_copy\n",
        "    else:\n",
        "        return arr"
      ],
      "execution_count": 29,
      "outputs": []
    },
    {
      "cell_type": "code",
      "metadata": {
        "id": "jS5dYxENJhZy"
      },
      "source": [
        "def save_obj_to_binary(obj, filepath):\n",
        "    import pickle\n",
        "    try:\n",
        "        with open(file=filepath, mode='wb') as f:\n",
        "            pickle.dump(obj=obj, file=f)\n",
        "        return 0\n",
        "    except:\n",
        "        return 1"
      ],
      "execution_count": 30,
      "outputs": []
    },
    {
      "cell_type": "code",
      "metadata": {
        "id": "DoYv0nnDJhZy"
      },
      "source": [
        "def evaluate_model(X_train, y_train, X_test, y_test, model, *args, **kwargs):\n",
        "    from sklearn.metrics import accuracy_score\n",
        "    from tensorflow.keras.models import Sequential\n",
        "\n",
        "    model.fit(X_train, y_train, *args, **kwargs)\n",
        "    \n",
        "    train_pred = model.predict(X_train)\n",
        "    test_pred = model.predict(X_test)\n",
        "\n",
        "    if isinstance(model, Sequential):\n",
        "        train_pred = train_pred.argmax(axis=1)\n",
        "        test_pred = test_pred.argmax(axis=1)\n",
        "        y_train = y_train.argmax(axis=1)\n",
        "        y_test = y_test.argmax(axis=1)\n",
        "\n",
        "    acc = accuracy_score(y_train, train_pred)\n",
        "    val_acc = accuracy_score(y_test, test_pred)\n",
        "\n",
        "    return acc, val_acc"
      ],
      "execution_count": 31,
      "outputs": []
    },
    {
      "cell_type": "code",
      "metadata": {
        "id": "NGnnG9smJhZz"
      },
      "source": [
        "def compare_model_scores(cnn_score, logreg_score, kind: str):\n",
        "    print(f'Comparison of CNN against Logistic Regression ({kind})')\n",
        "    df = pd.DataFrame(data={\n",
        "        'CNN': cnn_score,\n",
        "        'Logistic Regression': logreg_score\n",
        "    }, index=['Training Accuracy', 'Testing Accuracy'])\n",
        "    print(df)"
      ],
      "execution_count": 32,
      "outputs": []
    },
    {
      "cell_type": "code",
      "metadata": {
        "colab": {
          "base_uri": "https://localhost:8080/"
        },
        "id": "5KFpsaDbJhZz",
        "outputId": "a3b994d2-795f-4700-b05a-2db0f8e0e92f"
      },
      "source": [
        "def baseline_models(X_train, y_train, X_test, y_test):\n",
        "    X_train2 = X_train.reshape((60000, 28 * 28))\n",
        "    X_test2 = X_test.reshape((10000, 28 * 28))\n",
        "\n",
        "    cnn = Sequential(layers=[\n",
        "        Dense(10, input_shape=(28 * 28,), activation='softmax')\n",
        "    ])\n",
        "    cnn.compile(optimizer='adam', loss='categorical_crossentropy',\n",
        "                metrics=['accuracy'])\n",
        "\n",
        "    cnn_score = evaluate_model(X_train2, to_categorical(\n",
        "        y_train), X_test2, to_categorical(y_test), cnn, verbose=0)\n",
        "    logreg_score = evaluate_model(\n",
        "        X_train2, y_train, X_test2, y_test, LogisticRegression())\n",
        "\n",
        "    compare_model_scores(cnn_score, logreg_score, 'baseline models')\n",
        "\n",
        "\n",
        "baseline_models(X_train, y_train, X_test, y_test)\n"
      ],
      "execution_count": 43,
      "outputs": [
        {
          "output_type": "stream",
          "name": "stdout",
          "text": [
            "Comparison of CNN against Logistic Regression (baseline models)\n",
            "                        CNN  Logistic Regression\n",
            "Training Accuracy  0.798317               0.8632\n",
            "Testing Accuracy   0.781600               0.8412\n"
          ]
        }
      ]
    },
    {
      "cell_type": "code",
      "metadata": {
        "colab": {
          "base_uri": "https://localhost:8080/"
        },
        "id": "gMUynscIJhZ0",
        "outputId": "1bb13ede-2392-490f-ed56-7edd04686fcb"
      },
      "source": [
        "def data_normalisation(X_train, y_train, X_test, y_test):\n",
        "    X_train2 = X_train.reshape((60000, 28 * 28)) / 255.0\n",
        "    X_test2 = X_test.reshape((10000, 28 * 28)) / 255.0\n",
        "\n",
        "    cnn = Sequential(layers=[\n",
        "        Dense(10, input_shape=(28 * 28,), activation='softmax')\n",
        "    ])\n",
        "    cnn.compile(optimizer='adam', loss='categorical_crossentropy',\n",
        "                metrics=['accuracy'])\n",
        "\n",
        "    cnn_score = evaluate_model(X_train2, to_categorical(\n",
        "        y_train), X_test2, to_categorical(y_test), cnn, verbose=0)\n",
        "    logreg_score = evaluate_model(\n",
        "        X_train2, y_train, X_test2, y_test, LogisticRegression())\n",
        "\n",
        "    compare_model_scores(cnn_score, logreg_score, 'data normalisation')\n",
        "\n",
        "data_normalisation(X_train, y_train, X_test, y_test)"
      ],
      "execution_count": 44,
      "outputs": [
        {
          "output_type": "stream",
          "name": "stdout",
          "text": [
            "Comparison of CNN against Logistic Regression (data normalisation)\n",
            "                        CNN  Logistic Regression\n",
            "Training Accuracy  0.829717              0.86625\n",
            "Testing Accuracy   0.813200              0.84390\n"
          ]
        }
      ]
    },
    {
      "cell_type": "code",
      "metadata": {
        "colab": {
          "base_uri": "https://localhost:8080/"
        },
        "id": "SDm-3Z0VJhZ0",
        "outputId": "e96155a7-cf64-4374-b33f-d1c37229c985"
      },
      "source": [
        "def feature_engineering_simple_agg(X_train, y_train, X_test, y_test, kind='mean'):\n",
        "    X_train2 = X_train.reshape((60000, 28 * 28, 1)) / 255.0\n",
        "    X_test2 = X_test.reshape((10000, 28 * 28, 1)) / 255.0\n",
        "\n",
        "    agg = np.mean if kind == 'mean' else np.max\n",
        "\n",
        "    X_train3 = compress(X_train2.reshape(60000, -1), chunk_size=4, agg=agg)\n",
        "    X_test3 = compress(X_test2.reshape(10000, -1), chunk_size=4, agg=agg)\n",
        "\n",
        "    cnn = Sequential(layers=[\n",
        "        InputLayer(input_shape=(28 * 28, 1)),\n",
        "        MaxPool1D(pool_size=(4,), strides=4),\n",
        "        Flatten(),\n",
        "        Dense(10, activation='softmax')\n",
        "    ])\n",
        "    cnn.compile(optimizer='adam', loss='categorical_crossentropy',\n",
        "                metrics=['accuracy'])\n",
        "\n",
        "    cnn_score = evaluate_model(X_train2, to_categorical(\n",
        "        y_train), X_test2, to_categorical(y_test), cnn, verbose=0)\n",
        "    logreg_score = evaluate_model(\n",
        "        X_train3, y_train, X_test3, y_test, LogisticRegression())\n",
        "\n",
        "    compare_model_scores(cnn_score, logreg_score, f'simple {kind} aggregation')\n",
        "\n",
        "feature_engineering_simple_agg(X_train, y_train, X_test, y_test, kind='max')"
      ],
      "execution_count": 37,
      "outputs": [
        {
          "output_type": "stream",
          "name": "stdout",
          "text": [
            "Comparison of CNN against Logistic Regression (simple max aggregation)\n",
            "                      CNN  Logistic Regression\n",
            "Training Accuracy  0.7756             0.823583\n",
            "Testing Accuracy   0.7609             0.812700\n"
          ]
        }
      ]
    },
    {
      "cell_type": "code",
      "metadata": {
        "colab": {
          "base_uri": "https://localhost:8080/"
        },
        "id": "PPvGfdZRPHCK",
        "outputId": "c646ae91-7c8b-4d7d-feb8-2e53f491d5b1"
      },
      "source": [
        "feature_engineering_simple_agg(X_train, y_train, X_test, y_test, kind='mean')"
      ],
      "execution_count": 38,
      "outputs": [
        {
          "output_type": "stream",
          "name": "stdout",
          "text": [
            "Comparison of CNN against Logistic Regression (simple mean aggregation)\n",
            "                        CNN  Logistic Regression\n",
            "Training Accuracy  0.770783             0.833717\n",
            "Testing Accuracy   0.763000             0.818900\n"
          ]
        }
      ]
    },
    {
      "cell_type": "code",
      "metadata": {
        "colab": {
          "base_uri": "https://localhost:8080/",
          "height": 216
        },
        "id": "vdxFOddkJhZ3",
        "outputId": "a0ca00ec-1453-4408-c211-43231eedb818"
      },
      "source": [
        "def compare_resolution_after_simple_pooling(X_train, sample=0, kind='max'):\n",
        "    fig, ax = plt.subplots(1, 2)\n",
        "    ax[0].imshow(X_train[sample], cmap='gray')\n",
        "    ax[0].set_title(f'Before {kind} pooling')\n",
        "    agg = np.max if kind == 'max' else np.mean\n",
        "    ax[1].imshow(compress(X_train.reshape(60000, -1), chunk_size=4, agg=agg)[sample].reshape(14, 14), cmap='gray')\n",
        "    ax[1].set_title(f'After {kind} pooling')\n",
        "    plt.show()\n",
        "\n",
        "compare_resolution_after_simple_pooling(X_train, sample=0)"
      ],
      "execution_count": 53,
      "outputs": [
        {
          "output_type": "display_data",
          "data": {
            "image/png": "[encoded data removed]",
            "text/plain": [
              "<Figure size 432x288 with 2 Axes>"
            ]
          },
          "metadata": {
            "needs_background": "light"
          }
        }
      ]
    },
    {
      "cell_type": "code",
      "metadata": {
        "colab": {
          "base_uri": "https://localhost:8080/",
          "height": 216
        },
        "id": "zaliaBhUTFpN",
        "outputId": "136e2394-89b8-4cd6-8660-6d8f61d587d3"
      },
      "source": [
        "compare_resolution_after_simple_pooling(X_train, sample=4321)"
      ],
      "execution_count": 54,
      "outputs": [
        {
          "output_type": "display_data",
          "data": {
            "image/png": "[encoded data removed]",
            "text/plain": [
              "<Figure size 432x288 with 2 Axes>"
            ]
          },
          "metadata": {
            "needs_background": "light"
          }
        }
      ]
    },
    {
      "cell_type": "code",
      "metadata": {
        "colab": {
          "base_uri": "https://localhost:8080/"
        },
        "id": "lJCyA9OsJhZ1",
        "outputId": "5acf4e1e-3b40-40fe-bfc0-6a5256f5c9af"
      },
      "source": [
        "def feature_engineering_snake_agg(X_train, y_train, X_test, y_test, kind='mean'):\n",
        "    X_train2 = X_train / 255.0\n",
        "    X_test2 = X_test / 255.0\n",
        "\n",
        "    agg = np.mean if kind == 'mean' else np.max\n",
        "\n",
        "    X_train3 = revert_columns_snake(compress(sort_columns_snake(X_train2), chunk_size=4, agg=agg))\n",
        "    X_test3 = revert_columns_snake(compress(sort_columns_snake(X_test2), chunk_size=4, agg=agg))\n",
        "\n",
        "    cnn = Sequential(layers=[\n",
        "        InputLayer(input_shape=(14 * 14)),\n",
        "        Dense(10, activation='softmax')\n",
        "    ])\n",
        "    cnn.compile(optimizer='adam', loss='categorical_crossentropy',\n",
        "                metrics=['accuracy'])\n",
        "\n",
        "    cnn_score = evaluate_model(X_train3.reshape(60000, -1), to_categorical(\n",
        "        y_train), X_test3.reshape(10000, -1), to_categorical(y_test), cnn, verbose=0)\n",
        "    logreg_score = evaluate_model(\n",
        "        X_train3.reshape(60000, -1), y_train, X_test3.reshape(10000, -1), y_test, LogisticRegression())\n",
        "\n",
        "    compare_model_scores(cnn_score, logreg_score, f'snake {kind} aggregation')\n",
        "\n",
        "feature_engineering_snake_agg(X_train, y_train, X_test, y_test, kind='max')"
      ],
      "execution_count": 40,
      "outputs": [
        {
          "output_type": "stream",
          "name": "stdout",
          "text": [
            "Comparison of CNN against Logistic Regression (snake max aggregation)\n",
            "                        CNN  Logistic Regression\n",
            "Training Accuracy  0.776883             0.823583\n",
            "Testing Accuracy   0.766200             0.812700\n"
          ]
        }
      ]
    },
    {
      "cell_type": "code",
      "metadata": {
        "colab": {
          "base_uri": "https://localhost:8080/"
        },
        "id": "F9FjYu_LPkjG",
        "outputId": "38d3d8b8-98d4-4bf1-894b-42a4a86be37b"
      },
      "source": [
        "feature_engineering_snake_agg(X_train, y_train, X_test, y_test, kind='mean')"
      ],
      "execution_count": 41,
      "outputs": [
        {
          "output_type": "stream",
          "name": "stdout",
          "text": [
            "Comparison of CNN against Logistic Regression (snake mean aggregation)\n",
            "                        CNN  Logistic Regression\n",
            "Training Accuracy  0.783817             0.833717\n",
            "Testing Accuracy   0.777700             0.818900\n"
          ]
        }
      ]
    },
    {
      "cell_type": "code",
      "metadata": {
        "colab": {
          "base_uri": "https://localhost:8080/",
          "height": 157
        },
        "id": "c95Lgmc9Uu-K",
        "outputId": "6467ab71-1426-422f-87cb-a0ddf181daf9"
      },
      "source": [
        "def compare_resolution_after_pooling_with_snake(X_train, sample=0, kind='max'):\n",
        "    fig, ax = plt.subplots(1, 3)\n",
        "    ax[0].imshow(X_train[sample], cmap='gray')\n",
        "    ax[0].set_title(f'Before {kind} pooling')\n",
        "    ax[0].set_xticks(ticks=(0, 27))\n",
        "    ax[0].set_yticks(ticks=(0, 27))\n",
        "\n",
        "    ax[1].imshow(sort_columns_snake(X_train)[sample].reshape(28, 28), cmap='gray')\n",
        "    ax[1].set_title(f'After sorting')\n",
        "    ax[1].set_xticks(ticks=(0, 27))\n",
        "    ax[1].set_yticks(ticks=(0, 27))\n",
        "\n",
        "    agg = np.max if kind == 'max' else np.mean\n",
        "    ax[2].imshow(\n",
        "        revert_columns_snake(compress(sort_columns_snake(X_train), chunk_size=4, agg=agg))[sample].reshape(14, 14), cmap='gray')\n",
        "    ax[2].set_title(f'After {kind} pooling')\n",
        "    ax[2].set_xticks(ticks=(0, 13))\n",
        "    ax[2].set_yticks(ticks=(0, 13))\n",
        "\n",
        "    plt.subplots_adjust(wspace=0.3)\n",
        "    plt.show()\n",
        "\n",
        "compare_resolution_after_pooling_with_snake(X_train, sample=0, kind='max')"
      ],
      "execution_count": 58,
      "outputs": [
        {
          "output_type": "display_data",
          "data": {
            "image/png": "[encoded data removed]",
            "text/plain": [
              "<Figure size 432x288 with 3 Axes>"
            ]
          },
          "metadata": {
            "needs_background": "light"
          }
        }
      ]
    },
    {
      "cell_type": "code",
      "metadata": {
        "colab": {
          "base_uri": "https://localhost:8080/",
          "height": 157
        },
        "id": "yXoeHHy3WRP4",
        "outputId": "2149971c-bbc2-4c47-b974-fbb4f461aadf"
      },
      "source": [
        "compare_resolution_after_pooling_with_snake(X_train, sample=1500, kind='max')"
      ],
      "execution_count": 61,
      "outputs": [
        {
          "output_type": "display_data",
          "data": {
            "image/png": "[encoded data removed]",
            "text/plain": [
              "<Figure size 432x288 with 3 Axes>"
            ]
          },
          "metadata": {
            "needs_background": "light"
          }
        }
      ]
    },
    {
      "cell_type": "code",
      "metadata": {
        "colab": {
          "base_uri": "https://localhost:8080/"
        },
        "id": "hET6FTDSJhZ4",
        "outputId": "94498784-c56f-47d4-926b-5301e17530ce"
      },
      "source": [
        "def feature_engineering_hilb_agg(X_train, y_train, X_test, y_test, kind='mean'):\n",
        "    X_train2 = X_train / 255.0\n",
        "    X_test2 = X_test / 255.0\n",
        "\n",
        "    agg = np.max if kind == 'max' else np.mean\n",
        "\n",
        "    X_train3 = revert_columns_hilbert(compress(sort_columns_hilbert(pad(X_train2, 2, 2)), chunk_size=4, agg=agg))\n",
        "    X_test3 = revert_columns_hilbert(compress(sort_columns_hilbert(pad(X_test2, 2, 2)), chunk_size=4, agg=agg))\n",
        "\n",
        "    cnn = Sequential(layers=[\n",
        "        InputLayer(input_shape=(16 * 16)),\n",
        "        Dense(10, activation='softmax')\n",
        "    ])\n",
        "    cnn.compile(optimizer='adam', loss='categorical_crossentropy',\n",
        "                metrics=['accuracy'])\n",
        "\n",
        "    cnn_score = evaluate_model(X_train3.reshape(60000, -1), to_categorical(\n",
        "        y_train), X_test3.reshape(10000, -1), to_categorical(y_test), cnn, verbose=0)\n",
        "    logreg_score = evaluate_model(\n",
        "        X_train3.reshape(60000, -1), y_train, X_test3.reshape(10000, -1), y_test, LogisticRegression())\n",
        "\n",
        "    compare_model_scores(cnn_score, logreg_score, f'hilbert curve {kind} aggregation')\n",
        "\n",
        "feature_engineering_hilb_agg(X_train, y_train, X_test, y_test, kind='max')"
      ],
      "execution_count": 84,
      "outputs": [
        {
          "output_type": "stream",
          "name": "stdout",
          "text": [
            "Comparison of CNN against Logistic Regression (hilbert curve max aggregation)\n",
            "                      CNN  Logistic Regression\n",
            "Training Accuracy  0.7876               0.8350\n",
            "Testing Accuracy   0.7783               0.8208\n"
          ]
        }
      ]
    },
    {
      "cell_type": "code",
      "metadata": {
        "colab": {
          "base_uri": "https://localhost:8080/"
        },
        "id": "CCzcdCq3UkKz",
        "outputId": "1ecae508-97d1-493d-d323-960ee710c1d4"
      },
      "source": [
        "feature_engineering_hilb_agg(X_train, y_train, X_test, y_test, kind='mean')"
      ],
      "execution_count": 85,
      "outputs": [
        {
          "output_type": "stream",
          "name": "stdout",
          "text": [
            "Comparison of CNN against Logistic Regression (hilbert curve mean aggregation)\n",
            "                        CNN  Logistic Regression\n",
            "Training Accuracy  0.793617             0.848183\n",
            "Testing Accuracy   0.780600             0.832600\n"
          ]
        }
      ]
    },
    {
      "cell_type": "code",
      "metadata": {
        "id": "aoO2MfufJhZ4",
        "colab": {
          "base_uri": "https://localhost:8080/",
          "height": 157
        },
        "outputId": "c4c6a986-09b0-4776-ca69-83ac702d92de"
      },
      "source": [
        "def compare_resolution_after_pooling_with_hilbert(X_train, sample=0, kind='max'):\n",
        "    fig, ax = plt.subplots(1, 3)\n",
        "    ax[0].imshow(X_train[sample], cmap='gray')\n",
        "    ax[0].set_title(f'Before {kind} pooling')\n",
        "    ax[0].set_xticks(ticks=(0, 27))\n",
        "    ax[0].set_yticks(ticks=(0, 27))\n",
        "\n",
        "    ax[1].imshow(sort_columns_hilbert(pad(X_train, 2, 2))[sample].reshape(32, 32), cmap='gray')\n",
        "    ax[1].set_title(f'After sorting')\n",
        "    ax[1].set_xticks(ticks=(0, 31))\n",
        "    ax[1].set_yticks(ticks=(0, 31))\n",
        "\n",
        "    agg = np.max if kind == 'max' else np.mean\n",
        "    ax[2].imshow(\n",
        "        revert_columns_hilbert(compress(sort_columns_hilbert(pad(X_train, 2, 2)), chunk_size=4, agg=agg))[sample].reshape(16, 16), cmap='gray')\n",
        "    ax[2].set_title(f'After {kind} pooling')\n",
        "    ax[2].set_xticks(ticks=(0, 15))\n",
        "    ax[2].set_yticks(ticks=(0, 15))\n",
        "\n",
        "    plt.subplots_adjust(wspace=0.3)\n",
        "    plt.show()\n",
        "\n",
        "compare_resolution_after_pooling_with_hilbert(X_train, sample=1650, kind='max')"
      ],
      "execution_count": 86,
      "outputs": [
        {
          "output_type": "display_data",
          "data": {
            "image/png": "[encoded data removed]",
            "text/plain": [
              "<Figure size 432x288 with 3 Axes>"
            ]
          },
          "metadata": {
            "needs_background": "light"
          }
        }
      ]
    },
    {
      "cell_type": "code",
      "metadata": {
        "colab": {
          "base_uri": "https://localhost:8080/",
          "height": 157
        },
        "id": "pjic9yOTgYL-",
        "outputId": "ac44cff6-a084-477e-d408-ba10f98dcc7b"
      },
      "source": [
        "compare_resolution_after_pooling_with_hilbert(X_train, sample=1650, kind='mean')"
      ],
      "execution_count": 87,
      "outputs": [
        {
          "output_type": "display_data",
          "data": {
            "image/png": "[encoded data removed]",
            "text/plain": [
              "<Figure size 432x288 with 3 Axes>"
            ]
          },
          "metadata": {
            "needs_background": "light"
          }
        }
      ]
    }
  ]
}